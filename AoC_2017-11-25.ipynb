{
 "cells": [
  {
   "cell_type": "markdown",
   "metadata": {},
   "source": [
    "# [Advent of Code 2017](http://adventofcode.com/2017)\n",
    "\n",
    "In previous years I've done Advent in Code in Go (2015) and Elixir (2016).\n",
    "In 2016 I compared solutions with [Cameron](https://github.com/wheat779).\n",
    "\n",
    "He was completing the questions in Python which required I brush up on Python to be able to assist him with improving his solutions as it had been a number of years since I had touched the language.\n",
    "\n",
    "With the rise of Python in the Data Science and Machine Learning space I've decided to use Python as my language of choice this year. I'm completing my answers in a Notebook to document the thought processes behind my answers.\n",
    "\n",
    "To warm up for 2017 I've completed a few of the 2016 questions in Python and begun translating a number of general helper functions to Python from my Elixir answers last year as well as some [Project Euler](https://projecteuler.net) helper functions that *may* come in handy.\n",
    "\n",
    "I've also stolen and modified a few simple functions from [Peter Norvig's AoC 2016 Notebook](https://github.com/norvig/pytudes/blob/master/ipynb/Advent%20of%20Code.ipynb).\n",
    "\n",
    "I've placed these helpers in a Notebook named `AoC_Helpers.ipynb` to allow them to be shared between my 2015, 2016 and 2017 Notebooks."
   ]
  },
  {
   "cell_type": "markdown",
   "metadata": {},
   "source": [
    "Here, I use the [ipnyb](https://github.com/ipython/ipynb) module to import that Notebook as if it were a normal Python module."
   ]
  },
  {
   "cell_type": "code",
   "execution_count": 1,
   "metadata": {},
   "outputs": [],
   "source": [
    "#! pip install attrs"
   ]
  },
  {
   "cell_type": "code",
   "execution_count": 2,
   "metadata": {},
   "outputs": [],
   "source": [
    "from ipynb.fs.full.aoc_helpers import *"
   ]
  },
  {
   "cell_type": "markdown",
   "metadata": {},
   "source": [
    "When doing Project Euler I've implemented plenty of graphs and prime sieves so I'll be using more efficient libraries for these in case they come up."
   ]
  },
  {
   "cell_type": "code",
   "execution_count": 3,
   "metadata": {},
   "outputs": [],
   "source": [
    "#! pip install networkx primesieve numba\n",
    "import networkx\n",
    "import primesieve\n",
    "from numba import jit"
   ]
  },
  {
   "cell_type": "code",
   "execution_count": 4,
   "metadata": {},
   "outputs": [],
   "source": [
    "import re\n",
    "import numpy as np\n",
    "import math\n",
    "import itertools as it\n",
    "import operator\n",
    "\n",
    "from collections import Counter, defaultdict, namedtuple, deque\n",
    "from functools   import lru_cache, partial,reduce\n",
    "from itertools   import permutations, combinations, chain, cycle, product, islice\n",
    "from heapq       import heappop, heappush"
   ]
  },
  {
   "cell_type": "markdown",
   "metadata": {},
   "source": [
    "As the Helpers module is shared between 2015, 2016 and 2017, I'm partially applying the `Input` function to specify the year.\n",
    "\n",
    "`Input(day, year) -> partial(Input, year=2017) -> Input(3) == Input(3, 2017)`\n",
    "\n",
    "This allows me to use `Input(3)` in the 2016 file to get day 3 of 2016, as well as `Input(3)` in the 2017 file to get day 3 of 2017."
   ]
  },
  {
   "cell_type": "code",
   "execution_count": 5,
   "metadata": {},
   "outputs": [],
   "source": [
    "Input = partial(Input, year=2017)"
   ]
  },
  {
   "cell_type": "markdown",
   "metadata": {},
   "source": [
    "## [Day 11](http://adventofcode.com/2017/day/11): Hex-Ed\n"
   ]
  },
  {
   "cell_type": "markdown",
   "metadata": {},
   "source": [
    "[This tutorial](https://www.redblobgames.com/grids/hexagons/) has a great explanation of hex grids. I used the Cube grid as it seems the most simple to use once you get the directions set up."
   ]
  },
  {
   "cell_type": "code",
   "execution_count": 6,
   "metadata": {},
   "outputs": [],
   "source": [
    "Hex = namedtuple('Hex', 'x y z')\n",
    "\n",
    "directions = {\n",
    "    'n':  Hex( 1,  0, -1),\n",
    "    's':  Hex(-1,  0,  1),\n",
    "    'ne': Hex( 0,  1, -1),\n",
    "    'sw': Hex( 0, -1,  1),\n",
    "    'se': Hex(-1,  1,  0),\n",
    "    'nw': Hex( 1, -1,  0),\n",
    "}"
   ]
  },
  {
   "cell_type": "code",
   "execution_count": 7,
   "metadata": {},
   "outputs": [],
   "source": [
    "def distance(a, b):\n",
    "    return max(abs(a.x - b.x), abs(a.y - b.y), abs(a.z - b.z))\n",
    "\n",
    "def hex_walkabout(instructions, part_b=False):\n",
    "    start = Hex(0, 0, 0)\n",
    "    location = start\n",
    "\n",
    "    max_dist = 0\n",
    "    for move in instructions:\n",
    "        m = directions[move]\n",
    "        location = Hex(location.x + m.x, location.y + m.y, location.z + m.z)\n",
    "        max_dist = max(max_dist, distance(start, location))\n",
    "\n",
    "    if part_b: return max_dist\n",
    "    return distance(start, location)"
   ]
  },
  {
   "cell_type": "code",
   "execution_count": 8,
   "metadata": {},
   "outputs": [
    {
     "data": {
      "text/plain": [
       "1603"
      ]
     },
     "execution_count": 8,
     "metadata": {},
     "output_type": "execute_result"
    }
   ],
   "source": [
    "day11 = Input(11).read().strip().split(',')\n",
    "\n",
    "hex_walkabout(day11)\n",
    "hex_walkabout(day11, part_b=True)"
   ]
  },
  {
   "cell_type": "markdown",
   "metadata": {},
   "source": [
    "# [Day 12](http://adventofcode.com/2017/day/12): Digital Plumber"
   ]
  },
  {
   "cell_type": "code",
   "execution_count": 9,
   "metadata": {},
   "outputs": [],
   "source": [
    "connections = defaultdict(list)\n",
    "def parse_12(inp):\n",
    "    inp = inp.replace('<-> ', '').replace(',', '').strip()\n",
    "    origin, *destinations = inp.split(' ')\n",
    "    return (origin, destinations)\n",
    "\n",
    "for line in Input(12):\n",
    "    o, ds = parse_12(line)\n",
    "    for d in ds:\n",
    "        connections[o].append(d)\n",
    "        connections[d].append(o)"
   ]
  },
  {
   "cell_type": "code",
   "execution_count": 10,
   "metadata": {},
   "outputs": [],
   "source": [
    "def get_group(start, seen=set()):\n",
    "    seen.add(start)\n",
    "    for con in connections[start]:\n",
    "        if con in seen: continue\n",
    "        subgroup = get_group(con, seen)\n",
    "        seen.update(subgroup)\n",
    "    return seen"
   ]
  },
  {
   "cell_type": "markdown",
   "metadata": {},
   "source": [
    "How many nodes connect to 0?"
   ]
  },
  {
   "cell_type": "code",
   "execution_count": 11,
   "metadata": {},
   "outputs": [
    {
     "data": {
      "text/plain": [
       "141"
      ]
     },
     "execution_count": 11,
     "metadata": {},
     "output_type": "execute_result"
    }
   ],
   "source": [
    "len(get_group('0'))"
   ]
  },
  {
   "cell_type": "markdown",
   "metadata": {},
   "source": [
    "How many total groups are there?"
   ]
  },
  {
   "cell_type": "code",
   "execution_count": 12,
   "metadata": {},
   "outputs": [
    {
     "data": {
      "text/plain": [
       "171"
      ]
     },
     "execution_count": 12,
     "metadata": {},
     "output_type": "execute_result"
    }
   ],
   "source": [
    "found = set()\n",
    "groups = 0\n",
    "for con in connections.keys():\n",
    "    if con in found: continue\n",
    "    groups += 1\n",
    "    for g in connections[con]:\n",
    "        found.update(get_group(g))\n",
    "groups"
   ]
  },
  {
   "cell_type": "markdown",
   "metadata": {},
   "source": [
    "## [Day 13](http://www.adventofcode.com/2017/day/13): Packet Scanners"
   ]
  },
  {
   "cell_type": "code",
   "execution_count": 13,
   "metadata": {},
   "outputs": [],
   "source": [
    "in13 = list(Input(13))"
   ]
  },
  {
   "cell_type": "markdown",
   "metadata": {},
   "source": [
    "For my first attempt at this for some reason I figured it'd be faster to not look too hard at the problem and just brute force simulating the scanners.\n",
    "\n",
    "This worked for part A but quickly proved to be inefficient for part B"
   ]
  },
  {
   "cell_type": "code",
   "execution_count": 14,
   "metadata": {},
   "outputs": [],
   "source": [
    "def setup(inp):\n",
    "    layers = defaultdict(deque)\n",
    "    dirs = {}\n",
    "    for line in inp:\n",
    "        layer, depth = line.split(': ')\n",
    "        dirs[int(layer)] = False # false is down true is up\n",
    "        layers[int(layer)] = deque([True] + [False] * (int(depth) - 1))\n",
    "    return layers, dirs"
   ]
  },
  {
   "cell_type": "code",
   "execution_count": 15,
   "metadata": {},
   "outputs": [],
   "source": [
    "def step(layers, dirs):\n",
    "    for layer, values in layers.items():\n",
    "        if layers[layer]:\n",
    "            if not dirs[layer]: values.rotate(1)\n",
    "            else: values.rotate(-1)\n",
    "            if dirs[layer] and layers[layer][0]:\n",
    "                dirs[layer] = False\n",
    "            elif not dirs[layer] and layers[layer][-1]:\n",
    "                dirs[layer] = True\n",
    "    return layers, dirs"
   ]
  },
  {
   "cell_type": "code",
   "execution_count": 16,
   "metadata": {},
   "outputs": [
    {
     "data": {
      "text/plain": [
       "648"
      ]
     },
     "execution_count": 16,
     "metadata": {},
     "output_type": "execute_result"
    }
   ],
   "source": [
    "layers, dirs = setup(in13)\n",
    "severity = 0\n",
    "for i in range(89):\n",
    "    if layers[i]:\n",
    "        if layers[i][0]:\n",
    "            severity += i * len(layers[i])\n",
    "    step(layers, dirs)\n",
    "severity"
   ]
  },
  {
   "cell_type": "code",
   "execution_count": 17,
   "metadata": {},
   "outputs": [],
   "source": [
    "def gets_through1(n):\n",
    "    layers, dirs = setup(Input(13))\n",
    "    for _ in range(n):\n",
    "        layers, dirs = step(layers, dirs)\n",
    "    for i in range(89): # 89\n",
    "        if layers[i] and layers[i][0]:\n",
    "            return False\n",
    "        layers, dirs = step(layers, dirs)\n",
    "\n",
    "    return True"
   ]
  },
  {
   "cell_type": "code",
   "execution_count": 18,
   "metadata": {},
   "outputs": [],
   "source": [
    "def delay_needed1():\n",
    "    for delay in it.count():\n",
    "        if delay % 1000 == 0: print(delay)\n",
    "        if gets_through1(delay):\n",
    "            return delay"
   ]
  },
  {
   "cell_type": "markdown",
   "metadata": {},
   "source": [
    "I let this run while I watched some TV. 30 minutes later I gave up and determined I needed to do think about it for a few minutes. 10 minutes later, I had my answer!"
   ]
  },
  {
   "cell_type": "markdown",
   "metadata": {},
   "source": [
    "In order to not actually simulate each step we need to determine the cycle length for each layer.  \n",
    "```\n",
    "[1 0 0] 4  \n",
    "[1 0 0 0] 6  \n",
    "[1 0 0 0 0] 8  \n",
    "[1 0 0 0 0 0 0 0 0] 16 == (9 - 1) * 2 == (length - 1) * 2 \n",
    "```"
   ]
  },
  {
   "cell_type": "code",
   "execution_count": 19,
   "metadata": {},
   "outputs": [],
   "source": [
    "def parse_13(inp):\n",
    "    return {layer: depth for layer, depth in map(parse_ints, inp)}\n",
    "\n",
    "def blocking(position, depth, delay=0):\n",
    "    cycle_length = (depth - 1) * 2\n",
    "    return (position + delay) % cycle_length == 0\n",
    "\n",
    "def count_collisions(layers):\n",
    "    return sum([position * depth\n",
    "                for position, depth in layers.items()\n",
    "                if blocking(position, depth)])\n",
    "\n",
    "def gets_through(layers, delay):\n",
    "     return all(not blocking(position, depth, delay)\n",
    "                for position, depth in layers.items())\n",
    "\n",
    "def delay_needed(layers):\n",
    "    for delay in it.count():\n",
    "        if gets_through(layers, delay):\n",
    "            return delay"
   ]
  },
  {
   "cell_type": "code",
   "execution_count": 20,
   "metadata": {},
   "outputs": [],
   "source": [
    "layers = parse_13(in13)"
   ]
  },
  {
   "cell_type": "code",
   "execution_count": 21,
   "metadata": {},
   "outputs": [
    {
     "data": {
      "text/plain": [
       "648"
      ]
     },
     "execution_count": 21,
     "metadata": {},
     "output_type": "execute_result"
    }
   ],
   "source": [
    "count_collisions(layers)"
   ]
  },
  {
   "cell_type": "code",
   "execution_count": 22,
   "metadata": {},
   "outputs": [
    {
     "data": {
      "text/plain": [
       "3933124"
      ]
     },
     "execution_count": 22,
     "metadata": {},
     "output_type": "execute_result"
    }
   ],
   "source": [
    "delay_needed(layers)"
   ]
  },
  {
   "cell_type": "markdown",
   "metadata": {},
   "source": [
    "## [Day 14](http://www.adventofcode.com/2017/day/14): Disk Defragmentation"
   ]
  },
  {
   "cell_type": "code",
   "execution_count": 23,
   "metadata": {},
   "outputs": [],
   "source": [
    "def knothash(inp):\n",
    "    inp = list(map(ord, inp)) + [17, 31, 73, 47, 23]\n",
    "    rounds = 64\n",
    "        \n",
    "    hashes = list(range(256))    \n",
    "    current_position = 0\n",
    "    skip = 0\n",
    "    \n",
    "    for _ in range(rounds):\n",
    "        for length in inp:\n",
    "            if length <= len(hashes):\n",
    "                hashes = rotate(hashes, current_position)\n",
    "                hashes[:length] = list(reversed(hashes[:length]))\n",
    "                hashes = rotate(hashes, -current_position)\n",
    "            current_position += length + skip\n",
    "            skip += 1 \n",
    "\n",
    "    final_hash = ''\n",
    "    for start in range(0, len(hashes), 16):\n",
    "        part = hashes[start:start+16]\n",
    "        hashpart = reduce(operator.xor, part)\n",
    "        final_hash += f'{hashpart:02x}'\n",
    "    return final_hash"
   ]
  },
  {
   "cell_type": "code",
   "execution_count": 24,
   "metadata": {},
   "outputs": [],
   "source": [
    "in14 = Input(14).read().strip()"
   ]
  },
  {
   "cell_type": "code",
   "execution_count": 25,
   "metadata": {},
   "outputs": [],
   "source": [
    "def hex_to_bin(hex_):\n",
    "    return \"{0:04b}\".format(int(hex_, 16))"
   ]
  },
  {
   "cell_type": "code",
   "execution_count": 26,
   "metadata": {},
   "outputs": [],
   "source": [
    "def to_ascii(bin_):\n",
    "    return '#' if bin_ == '1' else '.'"
   ]
  },
  {
   "cell_type": "code",
   "execution_count": 27,
   "metadata": {},
   "outputs": [],
   "source": [
    "rows = [knothash(f'{in14}-{n}') for n in range(128)]\n",
    "rows = [cat(map(hex_to_bin, row)) for row in rows]\n",
    "rows = [list(map(to_ascii, row)) for row in rows]"
   ]
  },
  {
   "cell_type": "code",
   "execution_count": 28,
   "metadata": {},
   "outputs": [
    {
     "data": {
      "text/plain": [
       "8216"
      ]
     },
     "execution_count": 28,
     "metadata": {},
     "output_type": "execute_result"
    }
   ],
   "source": [
    "sum(col == '#' for row in rows for col in row)"
   ]
  },
  {
   "cell_type": "code",
   "execution_count": 29,
   "metadata": {},
   "outputs": [],
   "source": [
    "def floodfill(rows, x, y, num):\n",
    "    if rows[y][x] != '#': return False\n",
    "    rows[y][x] = num\n",
    "    if x > 0:   floodfill(rows, x-1, y, num)\n",
    "    if x < 127: floodfill(rows, x+1, y, num)        \n",
    "    if y > 0:   floodfill(rows, x, y-1, num)        \n",
    "    if y < 127: floodfill(rows, x, y+1, num)\n",
    "    return True"
   ]
  },
  {
   "cell_type": "code",
   "execution_count": 30,
   "metadata": {},
   "outputs": [
    {
     "data": {
      "text/plain": [
       "1139"
      ]
     },
     "execution_count": 30,
     "metadata": {},
     "output_type": "execute_result"
    }
   ],
   "source": [
    "num = 1\n",
    "rowb = rows[:]\n",
    "for y in range(128):\n",
    "    for x in range(128):\n",
    "        if floodfill(rowb, x, y, num):\n",
    "            num += 1\n",
    "len(set([item for row in rowb for item in row])) - 1 # -1 because of the blank spaces between groups is an element"
   ]
  },
  {
   "cell_type": "code",
   "execution_count": 31,
   "metadata": {},
   "outputs": [
    {
     "name": "stdout",
     "output_type": "stream",
     "text": [
      " 1 1 . 1 . . . . 2 .\n",
      " 1 1 1 1 . .30 . . .\n",
      " . 1 . 1 1 . . 1 .40\n",
      " . . . 1 1 1 1 1 1 .\n",
      " .67 . 1 1 . . . . .\n",
      " .6767 . 1 . 1 . . 3\n",
      "83 .67 . 1 1 1 . 3 3\n",
      " . . . . 1 1 1 . 3 .\n",
      "96969696 . . . . . 3\n",
      "969696 . . 3 3 . 3 3\n"
     ]
    }
   ],
   "source": [
    "for row in rowb[:10]:\n",
    "    print(cat([f'{i:>2}' for i in row[:10]]))"
   ]
  },
  {
   "cell_type": "markdown",
   "metadata": {},
   "source": [
    "## [Day 15](http://www.adventofcode.com/2017/day/15): Dueling Generators"
   ]
  },
  {
   "cell_type": "code",
   "execution_count": 32,
   "metadata": {},
   "outputs": [],
   "source": [
    "A, Af = 722, 16807\n",
    "B, Bf = 354, 48271"
   ]
  },
  {
   "cell_type": "code",
   "execution_count": 33,
   "metadata": {},
   "outputs": [],
   "source": [
    "@jit\n",
    "def generator(gen, factor, modby=1):\n",
    "    while True:\n",
    "        gen = (gen * factor) % 2147483647\n",
    "        if gen % modby == 0:\n",
    "            yield gen & 0xFFFF"
   ]
  },
  {
   "cell_type": "code",
   "execution_count": 34,
   "metadata": {},
   "outputs": [
    {
     "name": "stdout",
     "output_type": "stream",
     "text": [
      "Wall time: 11.3 s\n"
     ]
    },
    {
     "data": {
      "text/plain": [
       "612"
      ]
     },
     "execution_count": 34,
     "metadata": {},
     "output_type": "execute_result"
    }
   ],
   "source": [
    "ga = generator(A, Af)\n",
    "gb = generator(B, Bf)\n",
    "%time sum(next(ga) == next(gb) for _ in range(40_000_000)) # 612"
   ]
  },
  {
   "cell_type": "code",
   "execution_count": 35,
   "metadata": {},
   "outputs": [
    {
     "data": {
      "text/plain": [
       "285"
      ]
     },
     "execution_count": 35,
     "metadata": {},
     "output_type": "execute_result"
    }
   ],
   "source": [
    "ga = generator(A, Af, 4)\n",
    "gb = generator(B, Bf, 8)\n",
    "sum(next(ga) == next(gb) for _ in range(5_000_000)) # 285"
   ]
  },
  {
   "cell_type": "markdown",
   "metadata": {},
   "source": [
    "## [Day 16](http://www.adventofcode.com/2017/day/16): Permutation Promenade"
   ]
  },
  {
   "cell_type": "code",
   "execution_count": 36,
   "metadata": {},
   "outputs": [],
   "source": [
    "in16 = Input(16).read().strip()"
   ]
  },
  {
   "cell_type": "code",
   "execution_count": 37,
   "metadata": {},
   "outputs": [],
   "source": [
    "from string import ascii_lowercase\n",
    "dancers = ascii_lowercase[:16]"
   ]
  },
  {
   "cell_type": "code",
   "execution_count": 38,
   "metadata": {},
   "outputs": [],
   "source": [
    "def dance(dancers):\n",
    "    dancers = list(dancers)\n",
    "    for line in in16.split(','):\n",
    "        command, args = line[0], line[1:]\n",
    "        if command == 's': \n",
    "            i = int(args)\n",
    "            dancers = rotate(dancers, -i)\n",
    "        elif command == 'x':\n",
    "            a, b = map(int, args.split('/'))\n",
    "            dancers[a], dancers[b] = dancers[b], dancers[a]\n",
    "        elif command == 'p':\n",
    "            a, b = map(dancers.index, args.split('/'))\n",
    "            dancers[a], dancers[b] = dancers[b], dancers[a]\n",
    "    return cat(dancers)"
   ]
  },
  {
   "cell_type": "markdown",
   "metadata": {},
   "source": [
    "For Part B oddly enough I generalized the `find_cycle` method I made for Day 6 so we can use it here to see how long a cycle happens to be in this input."
   ]
  },
  {
   "cell_type": "code",
   "execution_count": 39,
   "metadata": {},
   "outputs": [
    {
     "data": {
      "text/plain": [
       "{'cycle_item': 'abcdefghijklmnop',\n",
       " 'cycle_length': 24,\n",
       " 'first_seen': 0,\n",
       " 'total_steps': 24}"
      ]
     },
     "execution_count": 39,
     "metadata": {},
     "output_type": "execute_result"
    }
   ],
   "source": [
    "find_cycle(dancers, dance)"
   ]
  },
  {
   "cell_type": "markdown",
   "metadata": {},
   "source": [
    "So if we take a billion mod the cycle length we can see how many more iterations we need to do to \"simulate\" 1 billion cycles."
   ]
  },
  {
   "cell_type": "code",
   "execution_count": 40,
   "metadata": {},
   "outputs": [
    {
     "data": {
      "text/plain": [
       "16"
      ]
     },
     "execution_count": 40,
     "metadata": {},
     "output_type": "execute_result"
    }
   ],
   "source": [
    "1_000_000_000 % 24"
   ]
  },
  {
   "cell_type": "code",
   "execution_count": 41,
   "metadata": {},
   "outputs": [],
   "source": [
    "def dance_more(dancers, n):\n",
    "    for i in range(n):\n",
    "        dancers = dance(dancers)\n",
    "    return dancers"
   ]
  },
  {
   "cell_type": "code",
   "execution_count": 42,
   "metadata": {},
   "outputs": [
    {
     "data": {
      "text/plain": [
       "'ifocbejpdnklamhg'"
      ]
     },
     "execution_count": 42,
     "metadata": {},
     "output_type": "execute_result"
    }
   ],
   "source": [
    "dance_more(dancers, 16)"
   ]
  },
  {
   "cell_type": "markdown",
   "metadata": {},
   "source": [
    "## [Day 17](http://www.adventofcode.com/2017/day/17): Spinlock "
   ]
  },
  {
   "cell_type": "code",
   "execution_count": 43,
   "metadata": {},
   "outputs": [],
   "source": [
    "def spinlock(goal):\n",
    "    spinlock = []\n",
    "    spinlock.append(0)\n",
    "\n",
    "    pos = 0\n",
    "    for i in range(1, goal + 1):\n",
    "        pos = (pos + 370) % len(spinlock)\n",
    "        spinlock.insert(pos + 1, i)\n",
    "        pos += 1\n",
    "    return spinlock[spinlock.index(goal) + 1]"
   ]
  },
  {
   "cell_type": "code",
   "execution_count": 44,
   "metadata": {},
   "outputs": [
    {
     "data": {
      "text/plain": [
       "1244"
      ]
     },
     "execution_count": 44,
     "metadata": {},
     "output_type": "execute_result"
    }
   ],
   "source": [
    "spinlock(2017)"
   ]
  },
  {
   "cell_type": "markdown",
   "metadata": {},
   "source": [
    "Since we never insert before our current location 0 never moves from index 0. We can just track the last element inserted at index 1."
   ]
  },
  {
   "cell_type": "code",
   "execution_count": 45,
   "metadata": {},
   "outputs": [],
   "source": [
    "@jit\n",
    "def spinlock_second():\n",
    "    pos, length, goal = 0, 1, 0\n",
    "\n",
    "    for i in range(1, 50_000_000 + 1):\n",
    "        pos = (pos + 370) % length + 1\n",
    "        length += 1\n",
    "        if pos == 1: goal = i\n",
    "    return goal"
   ]
  },
  {
   "cell_type": "code",
   "execution_count": 46,
   "metadata": {},
   "outputs": [
    {
     "data": {
      "text/plain": [
       "11162912"
      ]
     },
     "execution_count": 46,
     "metadata": {},
     "output_type": "execute_result"
    }
   ],
   "source": [
    "spinlock_second()"
   ]
  },
  {
   "cell_type": "markdown",
   "metadata": {},
   "source": [
    "Thanks to numba.jit we can turn this from 10 seconds to a half a second"
   ]
  },
  {
   "cell_type": "markdown",
   "metadata": {},
   "source": [
    "Hm whoa deque has rotate. Why did I make my own, much slower version of that?"
   ]
  },
  {
   "cell_type": "code",
   "execution_count": 47,
   "metadata": {},
   "outputs": [],
   "source": [
    "def spinlock2(times, goal=None):\n",
    "    if goal is None:\n",
    "        goal = times\n",
    "        \n",
    "    spinlock = deque([0])\n",
    "\n",
    "    for i in range(1, times + 1):\n",
    "        spinlock.rotate(-370)\n",
    "        spinlock.append(i)\n",
    "    \n",
    "    return spinlock[(spinlock.index(goal) + 1) % len(spinlock)]"
   ]
  },
  {
   "cell_type": "code",
   "execution_count": 48,
   "metadata": {},
   "outputs": [],
   "source": [
    "#%time spinlock2(50_000_000, 0) # 45 seconds"
   ]
  },
  {
   "cell_type": "code",
   "execution_count": 49,
   "metadata": {},
   "outputs": [
    {
     "data": {
      "text/plain": [
       "1244"
      ]
     },
     "execution_count": 49,
     "metadata": {},
     "output_type": "execute_result"
    }
   ],
   "source": [
    "spinlock2(2017)"
   ]
  },
  {
   "cell_type": "markdown",
   "metadata": {},
   "source": [
    "Haha holy crap thats fast enough that we can just brute force it. Welp, no more using my homegrown rotate if I need to do so in a tight loop! Thanks, deque!"
   ]
  },
  {
   "cell_type": "markdown",
   "metadata": {},
   "source": [
    "## [Day 18](http://www.adventofcode.com/2017/day/18): Duet"
   ]
  },
  {
   "cell_type": "code",
   "execution_count": 50,
   "metadata": {},
   "outputs": [],
   "source": [
    "in18 = list(Input(18))"
   ]
  },
  {
   "cell_type": "code",
   "execution_count": 51,
   "metadata": {},
   "outputs": [],
   "source": [
    "registers = defaultdict(int)\n",
    "\n",
    "def val(a):\n",
    "    if a.lstrip('-').isdigit():\n",
    "        return int(a)\n",
    "    return registers[a]\n",
    "\n",
    "def solvea(in18):\n",
    "    lastplayed = 0\n",
    "    inlen = len(in18)\n",
    "    instruction = 0\n",
    "    while instruction < inlen:\n",
    "        c, *args = in18[instruction].strip().split(' ')\n",
    "        if len(args) == 2:\n",
    "            a, b = args\n",
    "        else:\n",
    "            a = args[0]\n",
    "        if c == \"add\":\n",
    "            registers[a] += val(b)\n",
    "        elif c == \"set\":\n",
    "            registers[a] = val(b)\n",
    "        elif c == \"jgz\":\n",
    "            if val(a) > 0:\n",
    "                instruction += val(b)\n",
    "                continue\n",
    "        elif c == \"snd\":\n",
    "            lastplayed = val(a)\n",
    "        elif c == \"mul\":\n",
    "            registers[a] *= val(b)\n",
    "        elif c == \"mod\":\n",
    "            registers[a] %= val(b)\n",
    "        elif c == \"rcv\":\n",
    "            if val(a) > 0:\n",
    "                return lastplayed\n",
    "        instruction += 1      "
   ]
  },
  {
   "cell_type": "code",
   "execution_count": 52,
   "metadata": {},
   "outputs": [
    {
     "data": {
      "text/plain": [
       "4601"
      ]
     },
     "execution_count": 52,
     "metadata": {},
     "output_type": "execute_result"
    }
   ],
   "source": [
    "solvea(in18)"
   ]
  },
  {
   "cell_type": "code",
   "execution_count": 53,
   "metadata": {},
   "outputs": [],
   "source": [
    "def prog(N, inQ, outQ, inp):\n",
    "    registers = defaultdict(int)\n",
    "    registers['p'] = N\n",
    "    inst = 0\n",
    "    sendcount = 0\n",
    "\n",
    "    def val(a):\n",
    "        if a.lstrip('-').isdigit(): return int(a)\n",
    "        return registers[a]\n",
    "\n",
    "    while inst < len(inp):\n",
    "        c, *args = inp[inst].strip().split(' ')\n",
    "        if len(args) == 2:\n",
    "            a, b = args\n",
    "        else:\n",
    "            a = args[0]\n",
    "\n",
    "        if   c == \"add\": registers[a] += val(b)\n",
    "        elif c == \"set\": registers[a]  = val(b)\n",
    "        elif c == \"mul\": registers[a] *= val(b)\n",
    "        elif c == \"mod\": registers[a] %= val(b)\n",
    "        elif c == \"jgz\": \n",
    "            if val(a) > 0:\n",
    "                inst += val(b) - 1\n",
    "        elif c == \"snd\":\n",
    "            outQ.append(val(a))\n",
    "            sendcount += 1\n",
    "        elif c == \"rcv\":\n",
    "            if len(inQ) > 0:\n",
    "                registers[a] = inQ.popleft()\n",
    "            else:\n",
    "                inst -= 1\n",
    "                # Since we're blocked on our queue, return False.\n",
    "                yield (False, sendcount)\n",
    "        # If we're not done iterating or held up, return True.\n",
    "        inst += 1\n",
    "        yield (True, sendcount)\n",
    "    # Since we've gone through all the instructions, return False.\n",
    "    yield (False, sendcount)"
   ]
  },
  {
   "cell_type": "code",
   "execution_count": 54,
   "metadata": {},
   "outputs": [],
   "source": [
    "def solve18b():\n",
    "    Q0 = deque()\n",
    "    Q1 = deque()\n",
    "    prog0 = prog(0, Q0, Q1, in18)\n",
    "    prog1 = prog(1, Q1, Q0, in18)\n",
    "\n",
    "    while True:\n",
    "        more_0, sendcount_0 = next(prog0)\n",
    "        more_1, sendcount_1 = next(prog1)\n",
    "        if not more_0 and not more_1:\n",
    "            break\n",
    "\n",
    "    return sendcount_1"
   ]
  },
  {
   "cell_type": "code",
   "execution_count": 55,
   "metadata": {},
   "outputs": [
    {
     "data": {
      "text/plain": [
       "6858"
      ]
     },
     "execution_count": 55,
     "metadata": {},
     "output_type": "execute_result"
    }
   ],
   "source": [
    "solve18b()"
   ]
  },
  {
   "cell_type": "markdown",
   "metadata": {},
   "source": [
    "## [Day 19](http://www.adventofcode.com/2017/day/19): A Series of Tubes"
   ]
  },
  {
   "cell_type": "code",
   "execution_count": 56,
   "metadata": {},
   "outputs": [],
   "source": [
    "from string import ascii_uppercase"
   ]
  },
  {
   "cell_type": "code",
   "execution_count": 57,
   "metadata": {},
   "outputs": [],
   "source": [
    "dirs = {'up':   Point(0,-1),  'down':  Point(0, 1),\n",
    "        'left': Point(-1, 0), 'right': Point(1, 0)}\n",
    "line, corner, empty, letters = '-|', '+', ' ', ascii_uppercase\n",
    "\n",
    "def new_direction(dir, pos):\n",
    "    if dir in ('down', 'up'):    possible_dirs = ('left', 'right')\n",
    "    if dir in ('left', 'right'): possible_dirs = ('up', 'down')\n",
    "\n",
    "    for direction in possible_dirs:\n",
    "        npos = pos + dirs[direction]\n",
    "        what = diagram[npos.y][npos.x]\n",
    "        if what is not empty:\n",
    "            return direction\n",
    "    return False\n",
    "\n",
    "def find_entrance(diagram): return Point(diagram[0].index('|'), 0)\n",
    "        \n",
    "def follow_diagram(diagram):\n",
    "    dir = 'down'\n",
    "    pos = find_entrance(diagram)\n",
    "    what = diagram[pos.y][pos.x]\n",
    "    found, steps = '', 0\n",
    "    \n",
    "    while what not in empty:\n",
    "        if   what in letters: found += what\n",
    "        elif what in corner:  dir = new_direction(dir, pos)\n",
    "        steps += 1\n",
    "        pos = pos + dirs[dir]\n",
    "        what = diagram[pos.y][pos.x]\n",
    "\n",
    "    return found, steps"
   ]
  },
  {
   "cell_type": "code",
   "execution_count": 58,
   "metadata": {},
   "outputs": [
    {
     "data": {
      "text/plain": [
       "('BPDKCZWHGT', 17728)"
      ]
     },
     "execution_count": 58,
     "metadata": {},
     "output_type": "execute_result"
    }
   ],
   "source": [
    "diagram = list(map(lambda x: x.strip('\\n'), Input(19)))\n",
    "\n",
    "follow_diagram(diagram)"
   ]
  },
  {
   "cell_type": "markdown",
   "metadata": {},
   "source": [
    "## [Day 20](http://www.adventofcode.com/2017/day/20): Particle Swarm"
   ]
  },
  {
   "cell_type": "code",
   "execution_count": 59,
   "metadata": {},
   "outputs": [],
   "source": [
    "in20 = list(Input(20))"
   ]
  },
  {
   "cell_type": "markdown",
   "metadata": {},
   "source": [
    "First, lets define a few classes to hold this information to keep our code tidier later."
   ]
  },
  {
   "cell_type": "code",
   "execution_count": 60,
   "metadata": {},
   "outputs": [],
   "source": [
    "@attr.s(hash=True)\n",
    "class XYZ():\n",
    "    x = attr.ib()\n",
    "    y = attr.ib()\n",
    "    z = attr.ib()\n",
    "    \n",
    "    def __add__(self, other):\n",
    "        return XYZ(self.x + other.x, self.y + other.y, self.z + other.z)\n",
    "        \n",
    "    def __iadd__(self, other):\n",
    "        self.x += other.x\n",
    "        self.y += other.y\n",
    "        self.z += other.z\n",
    "        return self\n",
    "\n",
    "@attr.s\n",
    "class Particle():\n",
    "    number = attr.ib()\n",
    "    position = attr.ib()\n",
    "    velocity = attr.ib()\n",
    "    acceleration = attr.ib()\n",
    "        \n",
    "    def step(self):\n",
    "        self.velocity += self.acceleration\n",
    "        self.position += self.velocity\n",
    "    \n",
    "    def distance(self):\n",
    "        return abs(self.position.x) + abs(self.position.y) + abs(self.position.z)"
   ]
  },
  {
   "cell_type": "markdown",
   "metadata": {},
   "source": [
    "With that we just need to parse the input into a Particle!"
   ]
  },
  {
   "cell_type": "code",
   "execution_count": 61,
   "metadata": {},
   "outputs": [],
   "source": [
    "def parsicles(inp):\n",
    "    particles = {}\n",
    "    for n, line in enumerate(inp):\n",
    "        p, v, a = [XYZ(*parse_ints(s)) for s in line.split(', ')]\n",
    "        particles[n] = Particle(n, p, v, a)\n",
    "    return particles"
   ]
  },
  {
   "cell_type": "markdown",
   "metadata": {},
   "source": [
    "### Part A\n",
    "For A we need to find the particle which will end up the closest to (0, 0, 0) in our simulation."
   ]
  },
  {
   "cell_type": "code",
   "execution_count": 62,
   "metadata": {},
   "outputs": [],
   "source": [
    "def closest_particle():\n",
    "    particles = parsicles(in20)\n",
    "    for _ in range(400):\n",
    "        for p in particles.values():\n",
    "            p.step()\n",
    "    return min(particles.values(), key=lambda p: p.distance())"
   ]
  },
  {
   "cell_type": "code",
   "execution_count": 63,
   "metadata": {},
   "outputs": [
    {
     "data": {
      "text/plain": [
       "Particle(number=119, position=XYZ(x=106884, y=-751, z=49865), velocity=XYZ(x=472, y=-2, z=320), acceleration=XYZ(x=1, y=0, z=1))"
      ]
     },
     "execution_count": 63,
     "metadata": {},
     "output_type": "execute_result"
    }
   ],
   "source": [
    "closest_particle()"
   ]
  },
  {
   "cell_type": "markdown",
   "metadata": {},
   "source": [
    "### Part B\n",
    "For B any particles in the same space at a given step in the simulation collide and are removed! How many particles do we end up with?"
   ]
  },
  {
   "cell_type": "code",
   "execution_count": 64,
   "metadata": {},
   "outputs": [],
   "source": [
    "def particle_fightclub():\n",
    "    particles = parsicles(in20)\n",
    "    for _ in range(400):\n",
    "        seen = defaultdict(list)\n",
    "        for n, p in particles.items():\n",
    "            seen[p.position].append(n)\n",
    "            \n",
    "        for parts in seen.values():\n",
    "            if len(parts) > 1:\n",
    "                for n in parts:\n",
    "                    del particles[n]\n",
    "                    \n",
    "        for p in particles.values():\n",
    "            p.step()\n",
    "            \n",
    "    return len(particles)"
   ]
  },
  {
   "cell_type": "code",
   "execution_count": 65,
   "metadata": {},
   "outputs": [
    {
     "data": {
      "text/plain": [
       "471"
      ]
     },
     "execution_count": 65,
     "metadata": {},
     "output_type": "execute_result"
    }
   ],
   "source": [
    "particle_fightclub()"
   ]
  }
 ],
 "metadata": {
  "kernelspec": {
   "display_name": "Python 3",
   "language": "python",
   "name": "python3"
  },
  "language_info": {
   "codemirror_mode": {
    "name": "ipython",
    "version": 3
   },
   "file_extension": ".py",
   "mimetype": "text/x-python",
   "name": "python",
   "nbconvert_exporter": "python",
   "pygments_lexer": "ipython3",
   "version": "3.6.2"
  }
 },
 "nbformat": 4,
 "nbformat_minor": 2
}
