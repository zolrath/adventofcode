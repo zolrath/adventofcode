{
 "cells": [
  {
   "cell_type": "markdown",
   "metadata": {},
   "source": [
    "# [Advent of Code 2017](http://adventofcode.com/2017)\n",
    "\n",
    "In previous years I've done Advent in Code in Go (2015) and Elixir (2016).\n",
    "In 2016 I compared solutions with [Cameron](https://github.com/wheat779).\n",
    "\n",
    "He was completing the questions in Python which required I brush up on Python to be able to assist him with improving his solutions as it had been a number of years since I had touched the language.\n",
    "\n",
    "With the rise of Python in the Data Science and Machine Learning space I've decided to use Python as my language of choice this year. I'm completing my answers in a Notebook to document the thought processes behind my answers.\n",
    "\n",
    "To warm up for 2017 I've completed a few of the 2016 questions in Python and begun translating a number of general helper functions to Python from my Elixir answers last year as well as some [Project Euler](https://projecteuler.net) helper functions that *may* come in handy.\n",
    "\n",
    "I've also stolen and modified a few simple functions from [Peter Norvig's AoC 2016 Notebook](https://github.com/norvig/pytudes/blob/master/ipynb/Advent%20of%20Code.ipynb).\n",
    "\n",
    "I've placed these helpers in a Notebook named `AoC_Helpers.ipynb` to allow them to be shared between my 2015, 2016 and 2017 Notebooks."
   ]
  },
  {
   "cell_type": "markdown",
   "metadata": {},
   "source": [
    "Here, I use the [ipnyb](https://github.com/ipython/ipynb) module to import that Notebook as if it were a normal Python module."
   ]
  },
  {
   "cell_type": "code",
   "execution_count": 21,
   "metadata": {},
   "outputs": [],
   "source": [
    "from ipynb.fs.full.aoc_helpers import *"
   ]
  },
  {
   "cell_type": "markdown",
   "metadata": {},
   "source": [
    "When doing Project Euler I've implemented plenty of graphs and prime sieves so I'll be using more efficient libraries for these in case they come up."
   ]
  },
  {
   "cell_type": "code",
   "execution_count": 22,
   "metadata": {},
   "outputs": [],
   "source": [
    "# ! pip install networkx primesieve\n",
    "import networkx\n",
    "import primesieve\n",
    "from numba import jit"
   ]
  },
  {
   "cell_type": "code",
   "execution_count": 23,
   "metadata": {},
   "outputs": [],
   "source": [
    "import re\n",
    "import numpy as np\n",
    "import math\n",
    "import itertools as it\n",
    "import operator\n",
    "\n",
    "\n",
    "from collections import Counter, defaultdict, namedtuple, deque\n",
    "from functools   import lru_cache, partial,reduce\n",
    "from itertools   import permutations, combinations, chain, cycle, product, islice\n",
    "from heapq       import heappop, heappush"
   ]
  },
  {
   "cell_type": "markdown",
   "metadata": {},
   "source": [
    "As the Helpers module is shared between 2015, 2016 and 2017, I'm partially applying the `Input` function to specify the year.\n",
    "\n",
    "`Input(day, year) -> partial(Input, year=2017) -> Input(3) == Input(3, 2017)`\n",
    "\n",
    "This allows me to use `Input(3)` in the 2016 file to get day 3 of 2016, as well as `Input(3)` in the 2017 file to get day 3 of 2017."
   ]
  },
  {
   "cell_type": "code",
   "execution_count": 24,
   "metadata": {},
   "outputs": [],
   "source": [
    "Input = partial(Input, year=2017)"
   ]
  },
  {
   "cell_type": "markdown",
   "metadata": {},
   "source": [
    "## [Day 11](http://adventofcode.com/2017/day/11): Hex-Ed\n"
   ]
  },
  {
   "cell_type": "markdown",
   "metadata": {},
   "source": [
    "[This tutorial](https://www.redblobgames.com/grids/hexagons/) has a great explanation of hex grids. I used the Cube grid as it seems the most simple to use once you get the directions set up."
   ]
  },
  {
   "cell_type": "code",
   "execution_count": 27,
   "metadata": {},
   "outputs": [],
   "source": [
    "Hex = namedtuple('Hex', 'x y z')\n",
    "\n",
    "directions = {\n",
    "    'n':  Hex( 1,  0, -1),\n",
    "    's':  Hex(-1,  0,  1),\n",
    "    'ne': Hex( 0,  1, -1),\n",
    "    'sw': Hex( 0, -1,  1),\n",
    "    'se': Hex(-1,  1,  0),\n",
    "    'nw': Hex( 1, -1,  0),\n",
    "}"
   ]
  },
  {
   "cell_type": "code",
   "execution_count": 28,
   "metadata": {},
   "outputs": [],
   "source": [
    "def distance(a, b):\n",
    "    return max(abs(a.x - b.x), abs(a.y - b.y), abs(a.z - b.z))\n",
    "\n",
    "def hex_walkabout(instructions, part_b=False):\n",
    "    start = Hex(0, 0, 0)\n",
    "    location = start\n",
    "\n",
    "    max_dist = 0\n",
    "    for move in instructions:\n",
    "        m = directions[move]\n",
    "        location = Hex(location.x + m.x, location.y + m.y, location.z + m.z)\n",
    "        max_dist = max(max_dist, distance(start, location))\n",
    "\n",
    "    if part_b: return max_dist\n",
    "    return distance(start, location)"
   ]
  },
  {
   "cell_type": "code",
   "execution_count": 29,
   "metadata": {},
   "outputs": [
    {
     "data": {
      "text/plain": [
       "1603"
      ]
     },
     "execution_count": 29,
     "metadata": {},
     "output_type": "execute_result"
    }
   ],
   "source": [
    "day11 = Input(11).read().strip().split(',')\n",
    "\n",
    "hex_walkabout(day11)\n",
    "hex_walkabout(day11, part_b=True)"
   ]
  },
  {
   "cell_type": "markdown",
   "metadata": {},
   "source": [
    "# [Day 12](http://adventofcode.com/2017/day/12): Digital Plumber"
   ]
  },
  {
   "cell_type": "code",
   "execution_count": 30,
   "metadata": {},
   "outputs": [],
   "source": [
    "connections = defaultdict(list)\n",
    "def parsein(inp):\n",
    "    inp = inp.replace('<-> ', '').replace(',', '').strip()\n",
    "    origin, *destinations = inp.split(' ')\n",
    "    return (origin, destinations)\n",
    "\n",
    "for line in Input(12):\n",
    "    o, ds = parsein(line)\n",
    "    for d in ds:\n",
    "        connections[o].append(d)\n",
    "        connections[d].append(o)"
   ]
  },
  {
   "cell_type": "code",
   "execution_count": 31,
   "metadata": {},
   "outputs": [],
   "source": [
    "def get_group(start, seen=set()):\n",
    "    seen.add(start)\n",
    "    for con in connections[start]:\n",
    "        if con in seen: continue\n",
    "        subgroup = get_group(con, seen)\n",
    "        seen.update(subgroup)\n",
    "    return seen"
   ]
  },
  {
   "cell_type": "markdown",
   "metadata": {},
   "source": [
    "How many nodes connect to 0?"
   ]
  },
  {
   "cell_type": "code",
   "execution_count": 32,
   "metadata": {},
   "outputs": [
    {
     "data": {
      "text/plain": [
       "141"
      ]
     },
     "execution_count": 32,
     "metadata": {},
     "output_type": "execute_result"
    }
   ],
   "source": [
    "len(get_group('0'))"
   ]
  },
  {
   "cell_type": "markdown",
   "metadata": {},
   "source": [
    "How many total groups are there?"
   ]
  },
  {
   "cell_type": "code",
   "execution_count": 33,
   "metadata": {},
   "outputs": [
    {
     "data": {
      "text/plain": [
       "171"
      ]
     },
     "execution_count": 33,
     "metadata": {},
     "output_type": "execute_result"
    }
   ],
   "source": [
    "found = set()\n",
    "groups = 0\n",
    "for con in connections.keys():\n",
    "    if con in found: continue\n",
    "    groups += 1\n",
    "    for g in connections[con]:\n",
    "        found.update(get_group(g))\n",
    "groups"
   ]
  },
  {
   "cell_type": "markdown",
   "metadata": {},
   "source": [
    "## [Day 13](http://www.adventofcode.com/2017/day/13): Packet Scanners"
   ]
  },
  {
   "cell_type": "code",
   "execution_count": 35,
   "metadata": {},
   "outputs": [],
   "source": [
    "in13 = list(Input(13))"
   ]
  },
  {
   "cell_type": "markdown",
   "metadata": {},
   "source": [
    "For my first attempt at this for some reason I figured it'd be faster to not look too hard at the problem and just brute force simulating the scanners.\n",
    "\n",
    "This worked for part A but quickly proved to be inefficient for part B"
   ]
  },
  {
   "cell_type": "code",
   "execution_count": 36,
   "metadata": {},
   "outputs": [],
   "source": [
    "def setup(inp):\n",
    "    layers = defaultdict(list)\n",
    "    dirs = {}\n",
    "    for line in inp:\n",
    "        layer, depth = line.split(': ')\n",
    "        dirs[int(layer)] = False # false is down true is up\n",
    "        layers[int(layer)] = [True] + [False] * (int(depth) - 1)\n",
    "    return layers, dirs"
   ]
  },
  {
   "cell_type": "code",
   "execution_count": 37,
   "metadata": {},
   "outputs": [],
   "source": [
    "def step(layers, dirs):\n",
    "    for layer, values in layers.items():\n",
    "        if layers[layer]:\n",
    "            if not dirs[layer]:\n",
    "                layers[layer] = rotate(values, -1)\n",
    "            else:\n",
    "                layers[layer] = rotate(values)\n",
    "            if dirs[layer] and layers[layer][0]:\n",
    "                dirs[layer] = False\n",
    "            elif not dirs[layer] and layers[layer][-1]:\n",
    "                dirs[layer] = True\n",
    "    return layers, dirs"
   ]
  },
  {
   "cell_type": "code",
   "execution_count": 38,
   "metadata": {},
   "outputs": [
    {
     "data": {
      "text/plain": [
       "648"
      ]
     },
     "execution_count": 38,
     "metadata": {},
     "output_type": "execute_result"
    }
   ],
   "source": [
    "layers, dirs = setup(in13)\n",
    "severity = 0\n",
    "for i in range(89):\n",
    "    if layers[i]:\n",
    "        if layers[i][0]:\n",
    "            severity += i * len(layers[i])\n",
    "    step(layers, dirs)\n",
    "severity"
   ]
  },
  {
   "cell_type": "code",
   "execution_count": 39,
   "metadata": {},
   "outputs": [],
   "source": [
    "def gets_through(n):\n",
    "    layers = defaultdict(list)\n",
    "    dirs = {}\n",
    "    position = 0\n",
    "    severity = 0\n",
    "    for line in Input(13):\n",
    "        layer, depth = line.split(': ')\n",
    "        dirs[int(layer)] = False # false is down true is up\n",
    "        layers[int(layer)] = [True] + [False] * (int(depth) - 1)\n",
    "    for _ in range(n):\n",
    "        layers, dirs = step(layers, dirs)\n",
    "    for i in range(89): # 89\n",
    "        if layers[i]:\n",
    "            if layers[i][0]:\n",
    "                return False\n",
    "        layers, dirs = step(layers, dirs)\n",
    "\n",
    "    return True"
   ]
  },
  {
   "cell_type": "markdown",
   "metadata": {},
   "source": [
    "I let this run while I watched some TV. 30 minutes later I gave up and determined I needed to do think about it for a few minutes. 10 minutes later, I had my answer!"
   ]
  },
  {
   "cell_type": "markdown",
   "metadata": {},
   "source": [
    "In order to not actually simulate each step we need to determine the cycle length for each layer.  \n",
    "```\n",
    "[1 0 0] 4  \n",
    "[1 0 0 0] 6  \n",
    "[1 0 0 0 0] 8  \n",
    "[1 0 0 0 0 0 0 0 0] 16 = (9 - 1) * 2 == (length - 1 * 2) \n",
    "```"
   ]
  },
  {
   "cell_type": "code",
   "execution_count": 40,
   "metadata": {},
   "outputs": [],
   "source": [
    "def parse_13(inp):\n",
    "    return {layer: depth for layer, depth in map(parse_ints, inp)}\n",
    "\n",
    "def blocking(position, depth, delay=0):\n",
    "    cycle_length = (depth - 1) * 2\n",
    "    return (position + delay) % cycle_length == 0\n",
    "\n",
    "def count_collisions(layers):\n",
    "    return sum([position * depth\n",
    "                for position, depth in layers.items()\n",
    "                if blocking(position, depth)])\n",
    "\n",
    "def gets_through(layers, delay):\n",
    "     return all(not blocking(position, depth, delay)\n",
    "                for position, depth in layers.items())\n",
    "\n",
    "def delay_needed(layers):\n",
    "    for delay in it.count():\n",
    "        if gets_through(layers, delay):\n",
    "            return delay"
   ]
  },
  {
   "cell_type": "code",
   "execution_count": 41,
   "metadata": {},
   "outputs": [],
   "source": [
    "layers = parse_13(in13)"
   ]
  },
  {
   "cell_type": "code",
   "execution_count": 42,
   "metadata": {},
   "outputs": [
    {
     "data": {
      "text/plain": [
       "648"
      ]
     },
     "execution_count": 42,
     "metadata": {},
     "output_type": "execute_result"
    }
   ],
   "source": [
    "count_collisions(layers)"
   ]
  },
  {
   "cell_type": "code",
   "execution_count": 70,
   "metadata": {},
   "outputs": [
    {
     "data": {
      "text/plain": [
       "3933124"
      ]
     },
     "execution_count": 70,
     "metadata": {},
     "output_type": "execute_result"
    }
   ],
   "source": [
    "delay_needed(layers)"
   ]
  },
  {
   "cell_type": "markdown",
   "metadata": {},
   "source": [
    "## [Day 14](http://www.adventofcode.com/2017/day/14): Disk Defragmentation"
   ]
  },
  {
   "cell_type": "code",
   "execution_count": 44,
   "metadata": {},
   "outputs": [],
   "source": [
    "def knothash(inp):\n",
    "    inp = list(map(ord, inp))\n",
    "    inp += [17, 31, 73, 47, 23]\n",
    "    rounds = 64\n",
    "        \n",
    "    hashes = list(range(256))    \n",
    "    current_position = 0\n",
    "    skip = 0\n",
    "    \n",
    "    for _ in range(rounds):\n",
    "        for length in inp:\n",
    "            if length <= len(hashes):\n",
    "                hashes = rotate(hashes, current_position)\n",
    "                hashes[:length] = list(reversed(hashes[:length]))\n",
    "                hashes = rotate(hashes, -current_position)\n",
    "            current_position += length + skip\n",
    "            skip += 1 \n",
    "\n",
    "    final_hash = ''\n",
    "    for start in range(0, len(hashes), 16):\n",
    "        part = hashes[start:start+16]\n",
    "        hashpart = reduce(operator.xor, part)\n",
    "        final_hash += f'{hashpart:02x}'\n",
    "    return final_hash"
   ]
  },
  {
   "cell_type": "code",
   "execution_count": 45,
   "metadata": {},
   "outputs": [],
   "source": [
    "in14 = Input(14).read().strip()"
   ]
  },
  {
   "cell_type": "code",
   "execution_count": 46,
   "metadata": {},
   "outputs": [],
   "source": [
    "def hex_to_bin(hex_):\n",
    "    return \"{0:04b}\".format(int(hex_, 16))"
   ]
  },
  {
   "cell_type": "code",
   "execution_count": 47,
   "metadata": {},
   "outputs": [],
   "source": [
    "def to_ascii(bin_):\n",
    "    return '#' if bin_ == '1' else '.'"
   ]
  },
  {
   "cell_type": "code",
   "execution_count": 48,
   "metadata": {},
   "outputs": [],
   "source": [
    "rows = [knothash(f'{in14}-{n}') for n in range(128)]\n",
    "rows = [cat(map(hex_to_bin, row)) for row in rows]\n",
    "rows = [list(map(to_ascii, row)) for row in rows]"
   ]
  },
  {
   "cell_type": "code",
   "execution_count": 49,
   "metadata": {},
   "outputs": [
    {
     "data": {
      "text/plain": [
       "8216"
      ]
     },
     "execution_count": 49,
     "metadata": {},
     "output_type": "execute_result"
    }
   ],
   "source": [
    "sum(col == '#' for row in rows for col in row)"
   ]
  },
  {
   "cell_type": "code",
   "execution_count": 50,
   "metadata": {},
   "outputs": [],
   "source": [
    "def floodfill(rows, x, y, num):\n",
    "    if rows[y][x] != '#': return False\n",
    "    rows[y][x] = num\n",
    "    if x > 0:   floodfill(rows, x-1, y, num)\n",
    "    if x < 127: floodfill(rows, x+1, y, num)        \n",
    "    if y > 0:   floodfill(rows, x, y-1, num)        \n",
    "    if y < 127: floodfill(rows, x, y+1, num)\n",
    "    return True"
   ]
  },
  {
   "cell_type": "code",
   "execution_count": 51,
   "metadata": {},
   "outputs": [
    {
     "data": {
      "text/plain": [
       "1139"
      ]
     },
     "execution_count": 51,
     "metadata": {},
     "output_type": "execute_result"
    }
   ],
   "source": [
    "num = 1\n",
    "rowb = rows[:]\n",
    "for y in range(128):\n",
    "    for x in range(128):\n",
    "        if floodfill(rowb, x, y, num):\n",
    "            num += 1\n",
    "len(set([item for row in rowb for item in row])) - 1 # -1 because of the blank spaces between groups is an element"
   ]
  },
  {
   "cell_type": "markdown",
   "metadata": {},
   "source": [
    "```\n",
    "11.2.3..-->\n",
    ".1.2.3.4   \n",
    "....5.6.   \n",
    "7.8.55.9   \n",
    ".88.5...   \n",
    "88..5..8   \n",
    ".8...8..   \n",
    "88.8.88.-->\n",
    "|      |   \n",
    "V      V  \n",
    "```"
   ]
  },
  {
   "cell_type": "code",
   "execution_count": 52,
   "metadata": {},
   "outputs": [
    {
     "name": "stdout",
     "output_type": "stream",
     "text": [
      " 1 1 . 1 . . . . 2 .\n",
      " 1 1 1 1 . .30 . . .\n",
      " . 1 . 1 1 . . 1 .40\n",
      " . . . 1 1 1 1 1 1 .\n",
      " .67 . 1 1 . . . . .\n",
      " .6767 . 1 . 1 . . 3\n",
      "83 .67 . 1 1 1 . 3 3\n",
      " . . . . 1 1 1 . 3 .\n",
      "96969696 . . . . . 3\n",
      "969696 . . 3 3 . 3 3\n"
     ]
    }
   ],
   "source": [
    "for row in rowb[:10]:\n",
    "    print(cat([f'{i:>2}' for i in row[:10]]))"
   ]
  },
  {
   "cell_type": "markdown",
   "metadata": {},
   "source": [
    "## [Day 15](http://www.adventofcode.com/2017/day/15): Dueling Generators"
   ]
  },
  {
   "cell_type": "code",
   "execution_count": 29,
   "metadata": {},
   "outputs": [],
   "source": [
    "A, Af = 722, 16807\n",
    "B, Bf = 354, 48271"
   ]
  },
  {
   "cell_type": "code",
   "execution_count": 52,
   "metadata": {},
   "outputs": [],
   "source": [
    "#@jit\n",
    "def generator(gen, factor, modby=1):\n",
    "    while True:\n",
    "        gen = (gen * factor) % 2147483647\n",
    "        if gen % modby == 0:\n",
    "            yield gen & 0xFFFF"
   ]
  },
  {
   "cell_type": "code",
   "execution_count": 49,
   "metadata": {},
   "outputs": [],
   "source": [
    "#@jit\n",
    "#def matches(a, b):\n",
    "#    return a & 0xFFFF == b & 0xFFFF"
   ]
  },
  {
   "cell_type": "code",
   "execution_count": 54,
   "metadata": {},
   "outputs": [
    {
     "data": {
      "text/plain": [
       "612"
      ]
     },
     "execution_count": 54,
     "metadata": {},
     "output_type": "execute_result"
    }
   ],
   "source": [
    "#@jit\n",
    "def parta():\n",
    "    ga = generator(A, Af)\n",
    "    gb = generator(B, Bf)\n",
    "    total = 0\n",
    "    for _ in range(40_000_000):\n",
    "        if next(ga) == next(gb):\n",
    "            total += 1\n",
    "    return total\n",
    "parta()"
   ]
  },
  {
   "cell_type": "code",
   "execution_count": 53,
   "metadata": {},
   "outputs": [
    {
     "name": "stdout",
     "output_type": "stream",
     "text": [
      "Wall time: 1min 57s\n"
     ]
    },
    {
     "data": {
      "text/plain": [
       "612"
      ]
     },
     "execution_count": 53,
     "metadata": {},
     "output_type": "execute_result"
    }
   ],
   "source": [
    "ga = generator(A, Af)\n",
    "gb = generator(B, Bf)\n",
    "%time sum(next(ga) == next(gb) for _ in range(40_000_000)) # 612"
   ]
  },
  {
   "cell_type": "code",
   "execution_count": 58,
   "metadata": {},
   "outputs": [],
   "source": [
    "ga = generator(A, Af, 4)\n",
    "gb = generator(B, Bf, 8)\n",
    "# sum(matches(next(ga), next(gb)) for _ in range(5_000_000)) # 285"
   ]
  },
  {
   "cell_type": "markdown",
   "metadata": {},
   "source": [
    "## [Day 16](http://www.adventofcode.com/2017/day/16): Permutation Promenade"
   ]
  },
  {
   "cell_type": "code",
   "execution_count": 59,
   "metadata": {},
   "outputs": [],
   "source": [
    "in16 = Input(16).read().strip()"
   ]
  },
  {
   "cell_type": "code",
   "execution_count": 60,
   "metadata": {},
   "outputs": [],
   "source": [
    "from string import ascii_lowercase\n",
    "dancers = ascii_lowercase[:16]"
   ]
  },
  {
   "cell_type": "code",
   "execution_count": 61,
   "metadata": {},
   "outputs": [],
   "source": [
    "def dance(dancers):\n",
    "    dancers = list(dancers)\n",
    "    for line in in16.split(','):\n",
    "        command, args = line[0], line[1:]\n",
    "        if command == 's': \n",
    "            i = int(args)\n",
    "            dancers = rotate(dancers, -i)\n",
    "        elif command == 'x':\n",
    "            a, b = map(int, args.split('/'))\n",
    "            dancers[a], dancers[b] = dancers[b], dancers[a]\n",
    "        elif command == 'p':\n",
    "            a, b = map(dancers.index, args.split('/'))\n",
    "            dancers[a], dancers[b] = dancers[b], dancers[a]\n",
    "    return cat(dancers)"
   ]
  },
  {
   "cell_type": "markdown",
   "metadata": {},
   "source": [
    "For Part B oddly enough I generalized the `find_cycle` method I made for Day 6 so we can use it here to see how long a cycle happens to be in this input."
   ]
  },
  {
   "cell_type": "code",
   "execution_count": 62,
   "metadata": {},
   "outputs": [
    {
     "data": {
      "text/plain": [
       "{'cycle_item': 'abcdefghijklmnop',\n",
       " 'cycle_length': 24,\n",
       " 'first_seen': 0,\n",
       " 'total_steps': 24}"
      ]
     },
     "execution_count": 62,
     "metadata": {},
     "output_type": "execute_result"
    }
   ],
   "source": [
    "find_cycle(dancers, dance)"
   ]
  },
  {
   "cell_type": "markdown",
   "metadata": {},
   "source": [
    "So if we take a billion mod the cycle length we can see how many more iterations we need to do to \"simulate\" 1 billion cycles."
   ]
  },
  {
   "cell_type": "code",
   "execution_count": 63,
   "metadata": {},
   "outputs": [
    {
     "data": {
      "text/plain": [
       "16"
      ]
     },
     "execution_count": 63,
     "metadata": {},
     "output_type": "execute_result"
    }
   ],
   "source": [
    "bil = 1_000_000_000\n",
    "bil % 24"
   ]
  },
  {
   "cell_type": "code",
   "execution_count": 64,
   "metadata": {},
   "outputs": [],
   "source": [
    "def dance_more(dancers, n):\n",
    "    for i in range(n):\n",
    "        dancers = dance(dancers)\n",
    "    return dancers"
   ]
  },
  {
   "cell_type": "code",
   "execution_count": 15,
   "metadata": {},
   "outputs": [
    {
     "ename": "NameError",
     "evalue": "name 'dance_more' is not defined",
     "output_type": "error",
     "traceback": [
      "\u001b[1;31m---------------------------------------------------------------------------\u001b[0m",
      "\u001b[1;31mNameError\u001b[0m                                 Traceback (most recent call last)",
      "\u001b[1;32m<ipython-input-15-a049d1cb3578>\u001b[0m in \u001b[0;36m<module>\u001b[1;34m()\u001b[0m\n\u001b[1;32m----> 1\u001b[1;33m \u001b[0mget_ipython\u001b[0m\u001b[1;33m(\u001b[0m\u001b[1;33m)\u001b[0m\u001b[1;33m.\u001b[0m\u001b[0mrun_line_magic\u001b[0m\u001b[1;33m(\u001b[0m\u001b[1;34m'timeit'\u001b[0m\u001b[1;33m,\u001b[0m \u001b[1;34m'dance_more(dancers, 16)'\u001b[0m\u001b[1;33m)\u001b[0m\u001b[1;33m\u001b[0m\u001b[0m\n\u001b[0m",
      "\u001b[1;32m~\\AppData\\Local\\Programs\\Python\\Python36-32\\lib\\site-packages\\IPython\\core\\interactiveshell.py\u001b[0m in \u001b[0;36mrun_line_magic\u001b[1;34m(self, magic_name, line, _stack_depth)\u001b[0m\n\u001b[0;32m   2093\u001b[0m                 \u001b[0mkwargs\u001b[0m\u001b[1;33m[\u001b[0m\u001b[1;34m'local_ns'\u001b[0m\u001b[1;33m]\u001b[0m \u001b[1;33m=\u001b[0m \u001b[0msys\u001b[0m\u001b[1;33m.\u001b[0m\u001b[0m_getframe\u001b[0m\u001b[1;33m(\u001b[0m\u001b[0mstack_depth\u001b[0m\u001b[1;33m)\u001b[0m\u001b[1;33m.\u001b[0m\u001b[0mf_locals\u001b[0m\u001b[1;33m\u001b[0m\u001b[0m\n\u001b[0;32m   2094\u001b[0m             \u001b[1;32mwith\u001b[0m \u001b[0mself\u001b[0m\u001b[1;33m.\u001b[0m\u001b[0mbuiltin_trap\u001b[0m\u001b[1;33m:\u001b[0m\u001b[1;33m\u001b[0m\u001b[0m\n\u001b[1;32m-> 2095\u001b[1;33m                 \u001b[0mresult\u001b[0m \u001b[1;33m=\u001b[0m \u001b[0mfn\u001b[0m\u001b[1;33m(\u001b[0m\u001b[1;33m*\u001b[0m\u001b[0margs\u001b[0m\u001b[1;33m,\u001b[0m\u001b[1;33m**\u001b[0m\u001b[0mkwargs\u001b[0m\u001b[1;33m)\u001b[0m\u001b[1;33m\u001b[0m\u001b[0m\n\u001b[0m\u001b[0;32m   2096\u001b[0m             \u001b[1;32mreturn\u001b[0m \u001b[0mresult\u001b[0m\u001b[1;33m\u001b[0m\u001b[0m\n\u001b[0;32m   2097\u001b[0m \u001b[1;33m\u001b[0m\u001b[0m\n",
      "\u001b[1;32m<decorator-gen-62>\u001b[0m in \u001b[0;36mtimeit\u001b[1;34m(self, line, cell, local_ns)\u001b[0m\n",
      "\u001b[1;32m~\\AppData\\Local\\Programs\\Python\\Python36-32\\lib\\site-packages\\IPython\\core\\magic.py\u001b[0m in \u001b[0;36m<lambda>\u001b[1;34m(f, *a, **k)\u001b[0m\n\u001b[0;32m    185\u001b[0m     \u001b[1;31m# but it's overkill for just that one bit of state.\u001b[0m\u001b[1;33m\u001b[0m\u001b[1;33m\u001b[0m\u001b[0m\n\u001b[0;32m    186\u001b[0m     \u001b[1;32mdef\u001b[0m \u001b[0mmagic_deco\u001b[0m\u001b[1;33m(\u001b[0m\u001b[0marg\u001b[0m\u001b[1;33m)\u001b[0m\u001b[1;33m:\u001b[0m\u001b[1;33m\u001b[0m\u001b[0m\n\u001b[1;32m--> 187\u001b[1;33m         \u001b[0mcall\u001b[0m \u001b[1;33m=\u001b[0m \u001b[1;32mlambda\u001b[0m \u001b[0mf\u001b[0m\u001b[1;33m,\u001b[0m \u001b[1;33m*\u001b[0m\u001b[0ma\u001b[0m\u001b[1;33m,\u001b[0m \u001b[1;33m**\u001b[0m\u001b[0mk\u001b[0m\u001b[1;33m:\u001b[0m \u001b[0mf\u001b[0m\u001b[1;33m(\u001b[0m\u001b[1;33m*\u001b[0m\u001b[0ma\u001b[0m\u001b[1;33m,\u001b[0m \u001b[1;33m**\u001b[0m\u001b[0mk\u001b[0m\u001b[1;33m)\u001b[0m\u001b[1;33m\u001b[0m\u001b[0m\n\u001b[0m\u001b[0;32m    188\u001b[0m \u001b[1;33m\u001b[0m\u001b[0m\n\u001b[0;32m    189\u001b[0m         \u001b[1;32mif\u001b[0m \u001b[0mcallable\u001b[0m\u001b[1;33m(\u001b[0m\u001b[0marg\u001b[0m\u001b[1;33m)\u001b[0m\u001b[1;33m:\u001b[0m\u001b[1;33m\u001b[0m\u001b[0m\n",
      "\u001b[1;32m~\\AppData\\Local\\Programs\\Python\\Python36-32\\lib\\site-packages\\IPython\\core\\magics\\execution.py\u001b[0m in \u001b[0;36mtimeit\u001b[1;34m(self, line, cell, local_ns)\u001b[0m\n\u001b[0;32m   1096\u001b[0m             \u001b[1;32mfor\u001b[0m \u001b[0mindex\u001b[0m \u001b[1;32min\u001b[0m \u001b[0mrange\u001b[0m\u001b[1;33m(\u001b[0m\u001b[1;36m0\u001b[0m\u001b[1;33m,\u001b[0m \u001b[1;36m10\u001b[0m\u001b[1;33m)\u001b[0m\u001b[1;33m:\u001b[0m\u001b[1;33m\u001b[0m\u001b[0m\n\u001b[0;32m   1097\u001b[0m                 \u001b[0mnumber\u001b[0m \u001b[1;33m=\u001b[0m \u001b[1;36m10\u001b[0m \u001b[1;33m**\u001b[0m \u001b[0mindex\u001b[0m\u001b[1;33m\u001b[0m\u001b[0m\n\u001b[1;32m-> 1098\u001b[1;33m                 \u001b[0mtime_number\u001b[0m \u001b[1;33m=\u001b[0m \u001b[0mtimer\u001b[0m\u001b[1;33m.\u001b[0m\u001b[0mtimeit\u001b[0m\u001b[1;33m(\u001b[0m\u001b[0mnumber\u001b[0m\u001b[1;33m)\u001b[0m\u001b[1;33m\u001b[0m\u001b[0m\n\u001b[0m\u001b[0;32m   1099\u001b[0m                 \u001b[1;32mif\u001b[0m \u001b[0mtime_number\u001b[0m \u001b[1;33m>=\u001b[0m \u001b[1;36m0.2\u001b[0m\u001b[1;33m:\u001b[0m\u001b[1;33m\u001b[0m\u001b[0m\n\u001b[0;32m   1100\u001b[0m                     \u001b[1;32mbreak\u001b[0m\u001b[1;33m\u001b[0m\u001b[0m\n",
      "\u001b[1;32m~\\AppData\\Local\\Programs\\Python\\Python36-32\\lib\\site-packages\\IPython\\core\\magics\\execution.py\u001b[0m in \u001b[0;36mtimeit\u001b[1;34m(self, number)\u001b[0m\n\u001b[0;32m    158\u001b[0m         \u001b[0mgc\u001b[0m\u001b[1;33m.\u001b[0m\u001b[0mdisable\u001b[0m\u001b[1;33m(\u001b[0m\u001b[1;33m)\u001b[0m\u001b[1;33m\u001b[0m\u001b[0m\n\u001b[0;32m    159\u001b[0m         \u001b[1;32mtry\u001b[0m\u001b[1;33m:\u001b[0m\u001b[1;33m\u001b[0m\u001b[0m\n\u001b[1;32m--> 160\u001b[1;33m             \u001b[0mtiming\u001b[0m \u001b[1;33m=\u001b[0m \u001b[0mself\u001b[0m\u001b[1;33m.\u001b[0m\u001b[0minner\u001b[0m\u001b[1;33m(\u001b[0m\u001b[0mit\u001b[0m\u001b[1;33m,\u001b[0m \u001b[0mself\u001b[0m\u001b[1;33m.\u001b[0m\u001b[0mtimer\u001b[0m\u001b[1;33m)\u001b[0m\u001b[1;33m\u001b[0m\u001b[0m\n\u001b[0m\u001b[0;32m    161\u001b[0m         \u001b[1;32mfinally\u001b[0m\u001b[1;33m:\u001b[0m\u001b[1;33m\u001b[0m\u001b[0m\n\u001b[0;32m    162\u001b[0m             \u001b[1;32mif\u001b[0m \u001b[0mgcold\u001b[0m\u001b[1;33m:\u001b[0m\u001b[1;33m\u001b[0m\u001b[0m\n",
      "\u001b[1;32m<magic-timeit>\u001b[0m in \u001b[0;36minner\u001b[1;34m(_it, _timer)\u001b[0m\n",
      "\u001b[1;31mNameError\u001b[0m: name 'dance_more' is not defined"
     ]
    }
   ],
   "source": [
    "%timeit dance_more(dancers, 16)"
   ]
  },
  {
   "cell_type": "markdown",
   "metadata": {},
   "source": [
    "## [Day 17](http://www.adventofcode.com/2017/day/17): Spinlock "
   ]
  },
  {
   "cell_type": "code",
   "execution_count": 66,
   "metadata": {},
   "outputs": [],
   "source": [
    "def spinlock(goal):\n",
    "    spinlock = []\n",
    "    spinlock.append(0)\n",
    "\n",
    "    pos = 0\n",
    "    for i in range(1, goal + 1):\n",
    "        pos = (pos + 370) % len(spinlock)\n",
    "        spinlock.insert(pos + 1, i)\n",
    "        pos += 1\n",
    "    return spinlock[spinlock.index(goal) + 1]"
   ]
  },
  {
   "cell_type": "code",
   "execution_count": 175,
   "metadata": {},
   "outputs": [
    {
     "data": {
      "text/plain": [
       "1244"
      ]
     },
     "execution_count": 175,
     "metadata": {},
     "output_type": "execute_result"
    }
   ],
   "source": [
    "spinlock(2017)"
   ]
  },
  {
   "cell_type": "markdown",
   "metadata": {},
   "source": [
    "Since we never insert before our current location 0 never moves from index 0. We can just track the last element inserted at index 1."
   ]
  },
  {
   "cell_type": "code",
   "execution_count": 68,
   "metadata": {},
   "outputs": [],
   "source": [
    "@jit\n",
    "def spinlock_second():\n",
    "    pos, length, goal = 0, 1, 0\n",
    "\n",
    "    for i in range(1, 50_000_000 + 1):\n",
    "        pos = (pos + 370) % length + 1\n",
    "        length += 1\n",
    "        if pos == 1: goal = i\n",
    "    return goal"
   ]
  },
  {
   "cell_type": "code",
   "execution_count": 72,
   "metadata": {},
   "outputs": [
    {
     "data": {
      "text/plain": [
       "11162912"
      ]
     },
     "execution_count": 72,
     "metadata": {},
     "output_type": "execute_result"
    }
   ],
   "source": [
    "spinlock_second()"
   ]
  },
  {
   "cell_type": "markdown",
   "metadata": {},
   "source": [
    "Thanks to numba.jit we can turn this from 10 seconds to a half a second"
   ]
  },
  {
   "cell_type": "markdown",
   "metadata": {},
   "source": [
    "Hm whoa deque has rotate. Why did I make my own, much slower version of that?"
   ]
  },
  {
   "cell_type": "code",
   "execution_count": 195,
   "metadata": {},
   "outputs": [],
   "source": [
    "def spinlock2(times, goal=None):\n",
    "    if goal is None:\n",
    "        goal = times\n",
    "        \n",
    "    spinlock = deque([0])\n",
    "\n",
    "    for i in range(1, times + 1):\n",
    "        spinlock.rotate(-370)\n",
    "        spinlock.append(i)\n",
    "    \n",
    "    return spinlock[(spinlock.index(goal) + 1) % len(spinlock)]"
   ]
  },
  {
   "cell_type": "code",
   "execution_count": 196,
   "metadata": {},
   "outputs": [
    {
     "data": {
      "text/plain": [
       "11162912"
      ]
     },
     "execution_count": 196,
     "metadata": {},
     "output_type": "execute_result"
    }
   ],
   "source": [
    "#spinlock2(50_000_000, 0)"
   ]
  },
  {
   "cell_type": "code",
   "execution_count": 190,
   "metadata": {},
   "outputs": [
    {
     "data": {
      "text/plain": [
       "1244"
      ]
     },
     "execution_count": 190,
     "metadata": {},
     "output_type": "execute_result"
    }
   ],
   "source": [
    "spinlock2(2017)"
   ]
  },
  {
   "cell_type": "markdown",
   "metadata": {},
   "source": [
    "Haha holy crap thats fast enough that we can just brute force it. Welp, no more using my homegrown rotate if I need to do so in a tight loop! Thanks, deque!"
   ]
  }
 ],
 "metadata": {
  "kernelspec": {
   "display_name": "Python 3",
   "language": "python",
   "name": "python3"
  },
  "language_info": {
   "codemirror_mode": {
    "name": "ipython",
    "version": 3
   },
   "file_extension": ".py",
   "mimetype": "text/x-python",
   "name": "python",
   "nbconvert_exporter": "python",
   "pygments_lexer": "ipython3",
   "version": "3.6.3"
  }
 },
 "nbformat": 4,
 "nbformat_minor": 2
}
