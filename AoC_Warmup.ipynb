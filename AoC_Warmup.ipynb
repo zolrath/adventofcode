{
 "cells": [
  {
   "cell_type": "markdown",
   "metadata": {},
   "source": [
    "# Advent of Code Warmups\n",
    "\n",
    "## [Warmup 1](https://pastebin.com/raw/BMd61PUv): Elvish Cheat Codes\n",
    "\n",
    "In the run up to advent, the elves are playing on their video game console. Before long, one of the elves manages to discover a cheat mode, by entering a sequence of button presses on the controller.\n",
    "\n",
    "The sequence involves the buttons 'Up', 'Down', 'Left', 'Right', 'A', 'B', and terminates with a single press of the 'Start' button.\n",
    "\n",
    "The elves begin to ponder the significance of the sequence they discovered, and decide to draw a chart.\n",
    "\n",
    "Starting at the origin in an (x,y) grid, the buttons Up, Down, Left, Right are imagined to move a cursor a single step in the corresponding direction through the grid. Buttons A and B place corresponding markers at the current cursor location.\n",
    "\n",
    "-------------------------------------------------------------\n",
    "**Example**:  Up, A, Right, Right, B, Left, B, Start\n",
    "\n",
    "Taking Right to be the positive x direction, and Up to be the positive y direction. This sequence will move one step up from the origin (0,0), and place an 'A' marker at location (0,1), then a 'B' marker at location (2,1). The cursor will move one step left and another 'B' marker is placed at location (1,1). Then the cursor halts at location (1,1).\n",
    "\n",
    "-------------------------------------------------------------\n",
    "**Example**:  Up, Up, Down, Down, Left, Right, Left, Right, B, A, Start\n",
    "\n",
    "Again, starting from the origin (0,0), this sequence will place both a 'B' and an 'A' marker at (0,0), and the cursor will halt at (0,0).\n",
    "\n",
    "-------------------------------------------------------------\n",
    "\n",
    "Your input is here: https://pastebin.com/wGmzZHeq"
   ]
  },
  {
   "cell_type": "code",
   "execution_count": 1,
   "metadata": {},
   "outputs": [],
   "source": [
    "import attr\n",
    "from itertools import product"
   ]
  },
  {
   "cell_type": "code",
   "execution_count": 2,
   "metadata": {},
   "outputs": [],
   "source": [
    "@attr.s\n",
    "class Point():\n",
    "    x: int = attr.ib(default=0)\n",
    "    y: int = attr.ib(default=0)\n",
    "    \n",
    "    def __add__(self, other):\n",
    "        return Point(self.x + other.x, self.y + other.y)"
   ]
  },
  {
   "cell_type": "code",
   "execution_count": 3,
   "metadata": {},
   "outputs": [],
   "source": [
    "buttons = open('input/warmup.txt').read().split(', ')\n",
    "\n",
    "location = Point(0,0)\n",
    "a_markers, b_markers = [], []\n",
    "\n",
    "for button in buttons:\n",
    "    if   button == 'Down':  location += Point(0, -1)\n",
    "    elif button == 'Up':    location += Point(0,  1)\n",
    "    elif button == 'Left':  location += Point(-1, 0)\n",
    "    elif button == 'Right': location += Point(1,  0)\n",
    "    elif button == 'B':     b_markers.append(location)\n",
    "    elif button == 'A':     a_markers.append(location)"
   ]
  },
  {
   "cell_type": "markdown",
   "metadata": {},
   "source": [
    "The taxicab distance ( https://en.wikipedia.org/wiki/Taxicab_distance ) between two grid locations is defined as the (positive) difference between the two points' x values + the (positive) difference between their y values.\n",
    "\n",
    "eg, between locations (1,2) and (8,6), the difference between the two x values (1 and 8) is 7, and the difference between the two y values (2 and 6) is 4. Therefore, the taxicab distance is 7 + 4 = 11.\n",
    "\n",
    "### Question 1: \n",
    "\n",
    "Identify the marker furthest from the origin, as measured by the taxicab distance, and return that distance."
   ]
  },
  {
   "cell_type": "code",
   "execution_count": 4,
   "metadata": {},
   "outputs": [],
   "source": [
    "def taxicab_distance(point, other=Point(0, 0)): \n",
    "    return abs(point.x - other.x) + abs(point.y - other.y)"
   ]
  },
  {
   "cell_type": "code",
   "execution_count": 5,
   "metadata": {},
   "outputs": [
    {
     "data": {
      "text/plain": [
       "86"
      ]
     },
     "execution_count": 5,
     "metadata": {},
     "output_type": "execute_result"
    }
   ],
   "source": [
    "furthest_marker = max(a_markers + b_markers, key=taxicab_distance)\n",
    "taxicab_distance(furthest_marker)"
   ]
  },
  {
   "cell_type": "markdown",
   "metadata": {},
   "source": [
    "### Question 2: \n",
    "\n",
    "Consider all pairs of *different* markers (where a pair may consist of any 'A' and any 'B' marker). Identify the pair maximally far apart from one another, as measured by the taxicab distance, and return that distance."
   ]
  },
  {
   "cell_type": "code",
   "execution_count": 6,
   "metadata": {},
   "outputs": [
    {
     "data": {
      "text/plain": [
       "137"
      ]
     },
     "execution_count": 6,
     "metadata": {},
     "output_type": "execute_result"
    }
   ],
   "source": [
    "max(taxicab_distance(a,b) for a, b in product(a_markers, b_markers))"
   ]
  }
 ],
 "metadata": {
  "kernelspec": {
   "display_name": "Python 3",
   "language": "python",
   "name": "python3"
  },
  "language_info": {
   "codemirror_mode": {
    "name": "ipython",
    "version": 3
   },
   "file_extension": ".py",
   "mimetype": "text/x-python",
   "name": "python",
   "nbconvert_exporter": "python",
   "pygments_lexer": "ipython3",
   "version": "3.6.3"
  }
 },
 "nbformat": 4,
 "nbformat_minor": 2
}
