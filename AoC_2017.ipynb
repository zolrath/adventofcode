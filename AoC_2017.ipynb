{
 "cells": [
  {
   "cell_type": "markdown",
   "metadata": {},
   "source": [
    "# [Advent of Code 2017](http://adventofcode.com/2017)\n",
    "\n",
    "In previous years I've done Advent in Code in Go (2015) and Elixir (2016).\n",
    "In 2016 I compared solutions with [Cameron](https://github.com/wheat779).\n",
    "\n",
    "He was completing the questions in Python which required I brush up on Python to be able to assist him with improving his solutions as it had been a number of years since I had touched the language.\n",
    "\n",
    "With the rise of Python in the Data Science and Machine Learning space I've decided to use Python as my language of choice this year. I'm completing my answers in a Notebook to document the thought processes behind my answers.\n",
    "\n",
    "To warm up for 2017 I've completed a few of the 2016 questions in Python and begun translating a number of general helper functions to Python from my Elixir answers last year as well as some [Project Euler](https://projecteuler.net) helper functions that *may* come in handy.\n",
    "\n",
    "I've also stolen and modified a few simple functions from [Peter Norvig's AoC 2016 Notebook](https://github.com/norvig/pytudes/blob/master/ipynb/Advent%20of%20Code.ipynb).\n",
    "\n",
    "I've placed these helpers in a Notebook named `AoC_Helpers.ipynb` to allow them to be shared between my 2015, 2016 and 2017 Notebooks."
   ]
  },
  {
   "cell_type": "markdown",
   "metadata": {},
   "source": [
    "Here, I use the [ipnyb](https://github.com/ipython/ipynb) module to import that Notebook as if it were a normal Python module."
   ]
  },
  {
   "cell_type": "code",
   "execution_count": 1,
   "metadata": {},
   "outputs": [],
   "source": [
    "from ipynb.fs.full.aoc_helpers import *"
   ]
  },
  {
   "cell_type": "markdown",
   "metadata": {},
   "source": [
    "When doing Project Euler I've implemented plenty of graphs and prime sieves so I'll be using more efficient libraries for these in case they come up."
   ]
  },
  {
   "cell_type": "code",
   "execution_count": 2,
   "metadata": {},
   "outputs": [],
   "source": [
    "# ! pip install networkx primesieve\n",
    "import networkx\n",
    "import primesieve"
   ]
  },
  {
   "cell_type": "code",
   "execution_count": 3,
   "metadata": {},
   "outputs": [],
   "source": [
    "import re\n",
    "import numpy as np\n",
    "import math\n",
    "import itertools as it\n",
    "\n",
    "\n",
    "from collections import Counter, defaultdict, namedtuple, deque\n",
    "from functools   import lru_cache, partial\n",
    "from itertools   import permutations, combinations, chain, cycle, product, islice\n",
    "from heapq       import heappop, heappush"
   ]
  },
  {
   "cell_type": "markdown",
   "metadata": {},
   "source": [
    "As the Helpers module is shared between 2015, 2016 and 2017, I'm partially applying the `Input` function to specify the year.\n",
    "\n",
    "`Input(day, year) -> partial(Input, year=2017) -> Input(3) == Input(3, 2017)`\n",
    "\n",
    "This allows me to use `Input(3)` in the 2016 file to get day 3 of 2016, as well as `Input(3)` in the 2017 file to get day 3 of 2017."
   ]
  },
  {
   "cell_type": "code",
   "execution_count": 4,
   "metadata": {},
   "outputs": [],
   "source": [
    "Input = partial(Input, year=2017)"
   ]
  },
  {
   "cell_type": "markdown",
   "metadata": {},
   "source": [
    "## [Day 1](http://adventofcode.com/2017/day/1): Inverse Captcha\n",
    "\n",
    "Wooo! Time to kick of Advent of Code 2017!\n",
    "\n",
    "For Part A we need to sum all digits that match the **next digit** in the list. The list is circular, with the end of the list wrapping around to the front.\n",
    "\n",
    "This means if the front of the list is a 3 and the end of the list is a 3, the end of the list will consider the next digit to be a 3 and thus be added to the sum."
   ]
  },
  {
   "cell_type": "markdown",
   "metadata": {},
   "source": [
    "### Part A"
   ]
  },
  {
   "cell_type": "markdown",
   "metadata": {},
   "source": [
    "In order to compare the value of index $ n $ in the array with $ n + step $ we can create a copy of the array, offset by $ step $. This solves the issue with wrapping around the end of the array and visually is cleaner than indexing.\n",
    "\n",
    "We then use `zip` to get a tuple of each element of the array along with the offset array to easily compare the two."
   ]
  },
  {
   "cell_type": "code",
   "execution_count": 5,
   "metadata": {},
   "outputs": [],
   "source": [
    "one = read_letters(Input(1))"
   ]
  },
  {
   "cell_type": "code",
   "execution_count": 6,
   "metadata": {},
   "outputs": [],
   "source": [
    "def captcha(nums, part_b=False):\n",
    "    step = len(nums) // 2 if part_b else 1\n",
    "    return sum(int(a) for a, b in zip(nums, nums[step:] + nums[:step]) if a == b)"
   ]
  },
  {
   "cell_type": "code",
   "execution_count": 7,
   "metadata": {},
   "outputs": [],
   "source": [
    "assert captcha('1221') == 3\n",
    "assert captcha('1111') == 4\n",
    "assert captcha('1234') == 0\n",
    "assert captcha('91212129') == 9"
   ]
  },
  {
   "cell_type": "code",
   "execution_count": 8,
   "metadata": {},
   "outputs": [
    {
     "data": {
      "text/plain": [
       "1141"
      ]
     },
     "execution_count": 8,
     "metadata": {},
     "output_type": "execute_result"
    }
   ],
   "source": [
    "captcha(one)"
   ]
  },
  {
   "cell_type": "markdown",
   "metadata": {},
   "source": [
    "### Part B\n",
    "For Part B, instead of considering the next number we want to consider the digit **halfway around** the circular list.\n",
    "\n",
    "I've added a `part_b` argument which changes the `step` size from 1 to half the length of the input."
   ]
  },
  {
   "cell_type": "code",
   "execution_count": 9,
   "metadata": {},
   "outputs": [],
   "source": [
    "assert captcha('1212', part_b=True) == 6\n",
    "assert captcha('1221', part_b=True) == 0\n",
    "assert captcha('123425', part_b=True) == 4\n",
    "assert captcha('123123', part_b=True) == 12\n",
    "assert captcha('12131415', part_b=True) == 4"
   ]
  },
  {
   "cell_type": "code",
   "execution_count": 10,
   "metadata": {},
   "outputs": [
    {
     "data": {
      "text/plain": [
       "950"
      ]
     },
     "execution_count": 10,
     "metadata": {},
     "output_type": "execute_result"
    }
   ],
   "source": [
    "captcha(one, part_b=True)"
   ]
  },
  {
   "cell_type": "markdown",
   "metadata": {},
   "source": [
    "In case more array rotations end up coming up in the coming days I'm going to define a function to allow me to easily rotate an array a given number of steps."
   ]
  },
  {
   "cell_type": "code",
   "execution_count": 11,
   "metadata": {},
   "outputs": [],
   "source": [
    "def rotate(iterable, steps=1):\n",
    "    \"Rotate the iterable a given number of steps.\"\n",
    "    steps = steps % len(iterable)\n",
    "    return iterable[steps:] + iterable[:steps] "
   ]
  },
  {
   "cell_type": "code",
   "execution_count": 12,
   "metadata": {},
   "outputs": [],
   "source": [
    "assert rotate([1, 2, 3, 4, 5]) == [2, 3, 4, 5, 1]\n",
    "assert rotate([1, 2, 3, 4, 5], steps=-1) == [5, 1, 2, 3, 4]\n",
    "assert rotate([1, 2, 3, 4, 5], steps=3)  == [4, 5, 1, 2, 3]\n",
    "assert rotate([1, 2, 3, 4, 5], steps=10) == [1, 2, 3, 4, 5]"
   ]
  },
  {
   "cell_type": "markdown",
   "metadata": {},
   "source": [
    "## [Day 2](http://adventofcode.com/2017/day/2): Corruption Checksum\n",
    "\n",
    "At first glance this seems even more straightforward than day 1.\n",
    "\n",
    "Given a tab separated spreadsheet we need to compute a checksum!\n",
    "\n",
    "For each row, find the $ min $ and $ max $ values and compute the difference between them.\n",
    "\n",
    "The checksum is the sum of the result of each row."
   ]
  },
  {
   "cell_type": "code",
   "execution_count": 13,
   "metadata": {},
   "outputs": [],
   "source": [
    "def int_lines(lines):\n",
    "    \"Parse ints of each subarray of the input array\"\n",
    "    return list(map(parse_ints, lines))"
   ]
  },
  {
   "cell_type": "code",
   "execution_count": 14,
   "metadata": {},
   "outputs": [],
   "source": [
    "spreadsheet = int_lines(Input(2))"
   ]
  },
  {
   "cell_type": "markdown",
   "metadata": {},
   "source": [
    "The difference between the $ min $ and $ max $ amplitude of a waveform is known as the Peak to Peak value."
   ]
  },
  {
   "cell_type": "code",
   "execution_count": 15,
   "metadata": {},
   "outputs": [],
   "source": [
    "def ptp(iterable):\n",
    "    \"The difference between the maximum and minimum values\"\n",
    "    return max(iterable) - min(iterable)"
   ]
  },
  {
   "cell_type": "code",
   "execution_count": 16,
   "metadata": {},
   "outputs": [],
   "source": [
    "assert ptp([5, 1, 9, 5]) == 8"
   ]
  },
  {
   "cell_type": "code",
   "execution_count": 17,
   "metadata": {},
   "outputs": [
    {
     "data": {
      "text/plain": [
       "41887"
      ]
     },
     "execution_count": 17,
     "metadata": {},
     "output_type": "execute_result"
    }
   ],
   "source": [
    "sum(ptp(row) for row in spreadsheet)"
   ]
  },
  {
   "cell_type": "markdown",
   "metadata": {},
   "source": [
    "### Part B\n",
    "\n",
    "Instead of summing the min and max values from each row we now must find the two numbers for which $a \\bmod b = 0$, keeping the result of $a\\div b$"
   ]
  },
  {
   "cell_type": "code",
   "execution_count": 18,
   "metadata": {},
   "outputs": [],
   "source": [
    "def evenly_divisible(ints):\n",
    "    \"Return the evenly divisible combinations of numbers in the input\"\n",
    "    for (a, b) in combinations(sorted(ints), 2):\n",
    "        if b % a == 0: yield (b, a)"
   ]
  },
  {
   "cell_type": "code",
   "execution_count": 19,
   "metadata": {},
   "outputs": [],
   "source": [
    "assert next(evenly_divisible([5, 9, 2, 8])) == (8, 2)"
   ]
  },
  {
   "cell_type": "code",
   "execution_count": 20,
   "metadata": {},
   "outputs": [
    {
     "data": {
      "text/plain": [
       "226"
      ]
     },
     "execution_count": 20,
     "metadata": {},
     "output_type": "execute_result"
    }
   ],
   "source": [
    "sum(a // b for row in spreadsheet for (a, b) in evenly_divisible(row))"
   ]
  },
  {
   "cell_type": "markdown",
   "metadata": {},
   "source": [
    "## [Day 3](http://adventofcode.com/2017/day/3): Spiral Memory\n",
    "\n",
    "You come across an experimental new kind of memory stored on an infinite two-dimensional grid.\n",
    "\n",
    "Each square on the grid is allocated in a spiral pattern starting at a location marked 1 and then counting up while spiraling outward. For example, the first few squares are allocated like this:\n",
    "\n",
    "```\n",
    "7   16  15  14  13\n",
    "18   5   4   3  12\n",
    "19   6   1   2  11\n",
    "20   7   8   9  10\n",
    "21  22  23---> ...\n",
    "```\n",
    "\n",
    "Observing the number of spaces moved before each turn we can see a clear pattern:\n",
    "\n",
    "```\n",
    "4   4   4   4  3\n",
    "4   2   2   1  3\n",
    "4   2   0   1  3\n",
    "4   2   3   3  3\n",
    "4   5   5--> ...\n",
    "```\n",
    "\n",
    "First, we move one space to the right. We then turn to the left and move one space upwards.  \n",
    "Now we turn and move two spaces to the left. We turn, and move two spaces.  \n",
    "We turn, and move three spaces. We turn, and move three spaces.  \n",
    "We turn, and move four spa...  \n",
    "\n",
    "For each iteration of the spiral we move forward $ n $ spaces for two turns, we then move $ n+1 $ spaces for two turns, incrementing $ n $ by $ 1 $ every two turns.\n"
   ]
  },
  {
   "cell_type": "code",
   "execution_count": 21,
   "metadata": {},
   "outputs": [],
   "source": [
    "goal = 347991"
   ]
  },
  {
   "cell_type": "code",
   "execution_count": 22,
   "metadata": {},
   "outputs": [],
   "source": [
    "def spiral(part_b=False):\n",
    "    matrix, position, facing = defaultdict(int), Point(0, 0), Point(1, 0)\n",
    "    max_steps, stepped, turn_count, num = 1, 0, 0, 0\n",
    "\n",
    "    while True:\n",
    "        if part_b:\n",
    "            num = sum(matrix[n] for n in neighbors8(position))\n",
    "            if not num: num = 1\n",
    "        else:\n",
    "            num += 1\n",
    "\n",
    "        matrix[position] = num\n",
    "        yield (position, num)\n",
    "\n",
    "        position += facing\n",
    "        stepped += 1\n",
    "        \n",
    "        if stepped == max_steps:\n",
    "            stepped = 0\n",
    "            turn_count += 1\n",
    "            # We increase the distance traveled every two turns\n",
    "            if turn_count == 2:\n",
    "                max_steps += 1\n",
    "                turn_count = 0\n",
    "            # Rotate to the left by swapping x and y and negating one of them.\n",
    "            facing = Point(facing.y, -facing.x)"
   ]
  },
  {
   "cell_type": "markdown",
   "metadata": {},
   "source": [
    "### Part A\n",
    "For Part A we're asked to find the cityblock distance from 0,0 to the point that holds our input value of 347991"
   ]
  },
  {
   "cell_type": "code",
   "execution_count": 23,
   "metadata": {},
   "outputs": [],
   "source": [
    "def spiral_distance(n): return next(cityblock_distance(pos) for (pos, val) in spiral() if val == n)"
   ]
  },
  {
   "cell_type": "code",
   "execution_count": 24,
   "metadata": {},
   "outputs": [],
   "source": [
    "assert spiral_distance(1) == 0\n",
    "assert spiral_distance(12) == 3\n",
    "assert spiral_distance(23) == 2\n",
    "assert spiral_distance(1024) == 31"
   ]
  },
  {
   "cell_type": "code",
   "execution_count": 25,
   "metadata": {},
   "outputs": [
    {
     "data": {
      "text/plain": [
       "480"
      ]
     },
     "execution_count": 25,
     "metadata": {},
     "output_type": "execute_result"
    }
   ],
   "source": [
    "spiral_distance(goal)"
   ]
  },
  {
   "cell_type": "markdown",
   "metadata": {},
   "source": [
    "### Part B\n",
    "\n",
    "For Part B we modify how values are calculated. Instead of the spiral being a monotonically increasing value we instead sum the values of all of the squares neighbors at the time of calculation.  \n",
    "I've added a `part_b` argument to the `spiral` generator to modify its number generation to follow the required format.\n",
    "\n",
    "```\n",
    "147  142  133  122   59\n",
    "304    5    4    2   57\n",
    "330   10    1    1   54\n",
    "351   11   23   25   26\n",
    "362  747  806--->   ...\n",
    "```\n",
    "\n",
    "We're asked to find the value in the spiral that immediately follows our input value."
   ]
  },
  {
   "cell_type": "code",
   "execution_count": 26,
   "metadata": {},
   "outputs": [],
   "source": [
    "def next_spiral_value(n): return next(val for (pos, val) in spiral(part_b=True) if val > n)"
   ]
  },
  {
   "cell_type": "code",
   "execution_count": 27,
   "metadata": {},
   "outputs": [],
   "source": [
    "assert next_spiral_value(23) == 25\n",
    "assert next_spiral_value(308) == 330\n",
    "assert next_spiral_value(482) == 747"
   ]
  },
  {
   "cell_type": "code",
   "execution_count": 28,
   "metadata": {},
   "outputs": [
    {
     "data": {
      "text/plain": [
       "349975"
      ]
     },
     "execution_count": 28,
     "metadata": {},
     "output_type": "execute_result"
    }
   ],
   "source": [
    "next_spiral_value(goal)"
   ]
  },
  {
   "cell_type": "markdown",
   "metadata": {},
   "source": [
    "## [Day 4](http://adventofcode.com/2017/day/4): High-Entropy Passphrases\n"
   ]
  },
  {
   "cell_type": "markdown",
   "metadata": {},
   "source": [
    "### Part A\n",
    "\n",
    "To ensure security, a valid passphrase must contain no duplicate words.\n",
    "\n",
    "For example:\n",
    "\n",
    "aa bb cc dd ee is valid.  \n",
    "aa bb cc dd aa is not valid - the word aa appears more than once.  \n",
    "aa bb cc dd aaa is valid - aa and aaa count as different words.  "
   ]
  },
  {
   "cell_type": "code",
   "execution_count": 29,
   "metadata": {},
   "outputs": [],
   "source": [
    "passphrases = read_words(Input(4))"
   ]
  },
  {
   "cell_type": "code",
   "execution_count": 30,
   "metadata": {},
   "outputs": [],
   "source": [
    "def all_unique(iterable):\n",
    "    return len(iterable) == len(set(iterable))"
   ]
  },
  {
   "cell_type": "markdown",
   "metadata": {},
   "source": [
    "The easiest way to determine that every word in a list is unique is to create a set from the list and compare the lengths."
   ]
  },
  {
   "cell_type": "code",
   "execution_count": 31,
   "metadata": {},
   "outputs": [
    {
     "data": {
      "text/plain": [
       "455"
      ]
     },
     "execution_count": 31,
     "metadata": {},
     "output_type": "execute_result"
    }
   ],
   "source": [
    "sum(1 for phrase in passphrases if all_unique(phrase))"
   ]
  },
  {
   "cell_type": "markdown",
   "metadata": {},
   "source": [
    "### Part B\n",
    "\n",
    "For part B a passphrase must contain no duplicate anagrams.\n",
    "\n",
    "abcde fghij is a valid passphrase.  \n",
    "abcde xyz ecdab is not valid - the letters from the third word can be rearranged to form the first word.  \n",
    "a ab abc abd abf abj is a valid passphrase, because all letters need to be used when forming another word.  \n",
    "iiii oiii ooii oooi oooo is valid.  \n",
    "oiii ioii iioi iiio is not valid - any of these words can be rearranged to form any other word.  \n"
   ]
  },
  {
   "cell_type": "code",
   "execution_count": 32,
   "metadata": {},
   "outputs": [],
   "source": [
    "def sort_word(word):\n",
    "    return cat(sorted(word))"
   ]
  },
  {
   "cell_type": "code",
   "execution_count": 33,
   "metadata": {},
   "outputs": [],
   "source": [
    "sorted_passphrases = [[sort_word(word) for word in phrase] for phrase in passphrases]"
   ]
  },
  {
   "cell_type": "code",
   "execution_count": 34,
   "metadata": {},
   "outputs": [
    {
     "data": {
      "text/plain": [
       "186"
      ]
     },
     "execution_count": 34,
     "metadata": {},
     "output_type": "execute_result"
    }
   ],
   "source": [
    "sum(1 for phrase in sorted_passphrases if all_unique(phrase)) "
   ]
  }
 ],
 "metadata": {
  "kernelspec": {
   "display_name": "Python 3",
   "language": "python",
   "name": "python3"
  },
  "language_info": {
   "codemirror_mode": {
    "name": "ipython",
    "version": 3
   },
   "file_extension": ".py",
   "mimetype": "text/x-python",
   "name": "python",
   "nbconvert_exporter": "python",
   "pygments_lexer": "ipython3",
   "version": "3.6.3"
  }
 },
 "nbformat": 4,
 "nbformat_minor": 2
}
