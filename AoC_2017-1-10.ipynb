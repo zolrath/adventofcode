{
 "cells": [
  {
   "cell_type": "markdown",
   "metadata": {},
   "source": [
    "# [Advent of Code 2017](http://adventofcode.com/2017)\n",
    "\n",
    "In previous years I've done Advent in Code in Go (2015) and Elixir (2016).\n",
    "In 2016 I compared solutions with [Cameron](https://github.com/wheat779).\n",
    "\n",
    "He was completing the questions in Python which required I brush up on Python to be able to assist him with improving his solutions as it had been a number of years since I had touched the language.\n",
    "\n",
    "With the rise of Python in the Data Science and Machine Learning space I've decided to use Python as my language of choice this year. I'm completing my answers in a Notebook to document the thought processes behind my answers.\n",
    "\n",
    "To warm up for 2017 I've completed a few of the 2016 questions in Python and begun translating a number of general helper functions to Python from my Elixir answers last year as well as some [Project Euler](https://projecteuler.net) helper functions that *may* come in handy.\n",
    "\n",
    "I've also stolen and modified a few simple functions from [Peter Norvig's AoC 2016 Notebook](https://github.com/norvig/pytudes/blob/master/ipynb/Advent%20of%20Code.ipynb).\n",
    "\n",
    "I've placed these helpers in a Notebook named `AoC_Helpers.ipynb` to allow them to be shared between my 2015, 2016 and 2017 Notebooks."
   ]
  },
  {
   "cell_type": "markdown",
   "metadata": {},
   "source": [
    "Here, I use the [ipnyb](https://github.com/ipython/ipynb) module to import that Notebook as if it were a normal Python module."
   ]
  },
  {
   "cell_type": "code",
   "execution_count": 1,
   "metadata": {},
   "outputs": [],
   "source": [
    "from ipynb.fs.full.aoc_helpers import *"
   ]
  },
  {
   "cell_type": "markdown",
   "metadata": {},
   "source": [
    "When doing Project Euler I've implemented plenty of graphs and prime sieves so I'll be using more efficient libraries for these in case they come up."
   ]
  },
  {
   "cell_type": "code",
   "execution_count": 2,
   "metadata": {},
   "outputs": [],
   "source": [
    "# ! pip install networkx primesieve\n",
    "import networkx\n",
    "import primesieve\n",
    "from numba import jit"
   ]
  },
  {
   "cell_type": "code",
   "execution_count": 3,
   "metadata": {},
   "outputs": [],
   "source": [
    "import re\n",
    "import numpy as np\n",
    "import math\n",
    "import itertools as it\n",
    "import operator\n",
    "\n",
    "\n",
    "from collections import Counter, defaultdict, namedtuple, deque\n",
    "from functools   import lru_cache, partial,reduce\n",
    "from itertools   import permutations, combinations, chain, cycle, product, islice\n",
    "from heapq       import heappop, heappush"
   ]
  },
  {
   "cell_type": "markdown",
   "metadata": {},
   "source": [
    "As the Helpers module is shared between 2015, 2016 and 2017, I'm partially applying the `Input` function to specify the year.\n",
    "\n",
    "`Input(day, year) -> partial(Input, year=2017) -> Input(3) == Input(3, 2017)`\n",
    "\n",
    "This allows me to use `Input(3)` in the 2016 file to get day 3 of 2016, as well as `Input(3)` in the 2017 file to get day 3 of 2017."
   ]
  },
  {
   "cell_type": "code",
   "execution_count": 4,
   "metadata": {},
   "outputs": [],
   "source": [
    "Input = partial(Input, year=2017)"
   ]
  },
  {
   "cell_type": "markdown",
   "metadata": {},
   "source": [
    "## [Day 1](http://adventofcode.com/2017/day/1): Inverse Captcha\n",
    "\n",
    "Wooo! Time to kick of Advent of Code 2017!\n",
    "\n",
    "For Part A we need to sum all digits that match the **next digit** in the list. The list is circular, with the end of the list wrapping around to the front.\n",
    "\n",
    "This means if the front of the list is a 3 and the end of the list is a 3, the end of the list will consider the next digit to be a 3 and thus be added to the sum."
   ]
  },
  {
   "cell_type": "markdown",
   "metadata": {},
   "source": [
    "### Part A"
   ]
  },
  {
   "cell_type": "markdown",
   "metadata": {},
   "source": [
    "In order to compare the value of index $ n $ in the array with $ n + step $ we can create a copy of the array, offset by $ step $. This solves the issue with wrapping around the end of the array and visually is cleaner than indexing.\n",
    "\n",
    "We then use `zip` to get a tuple of each element of the array along with the offset array to easily compare the two."
   ]
  },
  {
   "cell_type": "code",
   "execution_count": 5,
   "metadata": {},
   "outputs": [],
   "source": [
    "one = read_letters(Input(1))"
   ]
  },
  {
   "cell_type": "code",
   "execution_count": 6,
   "metadata": {},
   "outputs": [],
   "source": [
    "def captcha(nums, part_b=False):\n",
    "    step = len(nums) // 2 if part_b else 1\n",
    "    return sum(int(a) for a, b in zip(nums, nums[step:] + nums[:step]) if a == b)"
   ]
  },
  {
   "cell_type": "code",
   "execution_count": 7,
   "metadata": {},
   "outputs": [],
   "source": [
    "assert captcha('1221') == 3\n",
    "assert captcha('1111') == 4\n",
    "assert captcha('1234') == 0\n",
    "assert captcha('91212129') == 9"
   ]
  },
  {
   "cell_type": "code",
   "execution_count": 8,
   "metadata": {},
   "outputs": [
    {
     "data": {
      "text/plain": [
       "1141"
      ]
     },
     "execution_count": 8,
     "metadata": {},
     "output_type": "execute_result"
    }
   ],
   "source": [
    "captcha(one)"
   ]
  },
  {
   "cell_type": "markdown",
   "metadata": {},
   "source": [
    "### Part B\n",
    "For Part B, instead of considering the next number we want to consider the digit **halfway around** the circular list.\n",
    "\n",
    "I've added a `part_b` argument which changes the `step` size from 1 to half the length of the input."
   ]
  },
  {
   "cell_type": "code",
   "execution_count": 10,
   "metadata": {},
   "outputs": [],
   "source": [
    "assert captcha('1212', part_b=True) == 6\n",
    "assert captcha('1221', part_b=True) == 0\n",
    "assert captcha('123425', part_b=True) == 4\n",
    "assert captcha('123123', part_b=True) == 12\n",
    "assert captcha('12131415', part_b=True) == 4"
   ]
  },
  {
   "cell_type": "code",
   "execution_count": 11,
   "metadata": {},
   "outputs": [
    {
     "data": {
      "text/plain": [
       "950"
      ]
     },
     "execution_count": 11,
     "metadata": {},
     "output_type": "execute_result"
    }
   ],
   "source": [
    "captcha(one, part_b=True)"
   ]
  },
  {
   "cell_type": "markdown",
   "metadata": {},
   "source": [
    "In case more array rotations end up coming up in the coming days I'm going to define a function to allow me to easily rotate an array a given number of steps."
   ]
  },
  {
   "cell_type": "code",
   "execution_count": 12,
   "metadata": {},
   "outputs": [],
   "source": [
    "def rotate(iterable, steps=1):\n",
    "    \"Rotate the iterable a given number of steps.\"\n",
    "    steps = steps % len(iterable)\n",
    "    return iterable[steps:] + iterable[:steps] "
   ]
  },
  {
   "cell_type": "code",
   "execution_count": 13,
   "metadata": {},
   "outputs": [],
   "source": [
    "assert rotate([1, 2, 3, 4, 5]) == [2, 3, 4, 5, 1]\n",
    "assert rotate([1, 2, 3, 4, 5], steps=-1) == [5, 1, 2, 3, 4]\n",
    "assert rotate([1, 2, 3, 4, 5], steps=3)  == [4, 5, 1, 2, 3]\n",
    "assert rotate([1, 2, 3, 4, 5], steps=10) == [1, 2, 3, 4, 5]"
   ]
  },
  {
   "cell_type": "markdown",
   "metadata": {},
   "source": [
    "## [Day 2](http://adventofcode.com/2017/day/2): Corruption Checksum\n",
    "\n",
    "At first glance this seems even more straightforward than day 1.\n",
    "\n",
    "Given a tab separated spreadsheet we need to compute a checksum!\n",
    "\n",
    "For each row, find the $ min $ and $ max $ values and compute the difference between them.\n",
    "\n",
    "The checksum is the sum of the result of each row."
   ]
  },
  {
   "cell_type": "code",
   "execution_count": 14,
   "metadata": {},
   "outputs": [],
   "source": [
    "def int_lines(lines):\n",
    "    \"Parse ints of each subarray of the input array\"\n",
    "    return list(map(parse_ints, lines))"
   ]
  },
  {
   "cell_type": "code",
   "execution_count": 15,
   "metadata": {},
   "outputs": [],
   "source": [
    "spreadsheet = int_lines(Input(2))"
   ]
  },
  {
   "cell_type": "markdown",
   "metadata": {},
   "source": [
    "The difference between the $ min $ and $ max $ amplitude of a waveform is known as the Peak to Peak value."
   ]
  },
  {
   "cell_type": "code",
   "execution_count": 16,
   "metadata": {},
   "outputs": [],
   "source": [
    "def ptp(iterable):\n",
    "    \"The difference between the maximum and minimum values\"\n",
    "    return max(iterable) - min(iterable)"
   ]
  },
  {
   "cell_type": "code",
   "execution_count": 17,
   "metadata": {},
   "outputs": [],
   "source": [
    "assert ptp([5, 1, 9, 5]) == 8"
   ]
  },
  {
   "cell_type": "code",
   "execution_count": 18,
   "metadata": {},
   "outputs": [
    {
     "data": {
      "text/plain": [
       "41887"
      ]
     },
     "execution_count": 18,
     "metadata": {},
     "output_type": "execute_result"
    }
   ],
   "source": [
    "sum(ptp(row) for row in spreadsheet)"
   ]
  },
  {
   "cell_type": "markdown",
   "metadata": {},
   "source": [
    "### Part B\n",
    "\n",
    "Instead of summing the min and max values from each row we now must find the two numbers for which $a \\bmod b = 0$, keeping the result of $a\\div b$"
   ]
  },
  {
   "cell_type": "code",
   "execution_count": 19,
   "metadata": {},
   "outputs": [],
   "source": [
    "def evenly_divisible(ints):\n",
    "    \"Return the evenly divisible combinations of numbers in the input\"\n",
    "    for (a, b) in combinations(sorted(ints), 2):\n",
    "        if b % a == 0: yield (b, a)"
   ]
  },
  {
   "cell_type": "code",
   "execution_count": 20,
   "metadata": {},
   "outputs": [],
   "source": [
    "assert next(evenly_divisible([5, 9, 2, 8])) == (8, 2)"
   ]
  },
  {
   "cell_type": "code",
   "execution_count": 21,
   "metadata": {},
   "outputs": [
    {
     "data": {
      "text/plain": [
       "226"
      ]
     },
     "execution_count": 21,
     "metadata": {},
     "output_type": "execute_result"
    }
   ],
   "source": [
    "sum(a // b for row in spreadsheet for (a, b) in evenly_divisible(row))"
   ]
  },
  {
   "cell_type": "markdown",
   "metadata": {},
   "source": [
    "## [Day 3](http://adventofcode.com/2017/day/3): Spiral Memory\n",
    "\n",
    "You come across an experimental new kind of memory stored on an infinite two-dimensional grid.\n",
    "\n",
    "Each square on the grid is allocated in a spiral pattern starting at a location marked 1 and then counting up while spiraling outward. For example, the first few squares are allocated like this:\n",
    "\n",
    "```\n",
    "7   16  15  14  13\n",
    "18   5   4   3  12\n",
    "19   6   1   2  11\n",
    "20   7   8   9  10\n",
    "21  22  23---> ...\n",
    "```\n",
    "\n",
    "Observing the number of spaces moved before each turn we can see a clear pattern:\n",
    "\n",
    "```\n",
    "4   4   4   4  3\n",
    "4   2   2   1  3\n",
    "4   2   0   1  3\n",
    "4   2   3   3  3\n",
    "4   5   5--> ...\n",
    "```\n",
    "\n",
    "First, we move one space to the right. We then turn to the left and move one space upwards.  \n",
    "Now we turn and move two spaces to the left. We turn, and move two spaces.  \n",
    "We turn, and move three spaces. We turn, and move three spaces.  \n",
    "We turn, and move four spa...  \n",
    "\n",
    "For each iteration of the spiral we move forward $ n $ spaces for two turns, we then move $ n+1 $ spaces for two turns, incrementing $ n $ by $ 1 $ every two turns.\n"
   ]
  },
  {
   "cell_type": "code",
   "execution_count": 22,
   "metadata": {},
   "outputs": [],
   "source": [
    "# The length of a side is the first odd square larger than our goal\n",
    "def find_side_length(goal):\n",
    "    return next(n for n in it.count(1, 2) if n**2 >= goal)\n",
    "\n",
    "def spiral_walk_some(goal):\n",
    "    # First, find the length of the ring we're on\n",
    "    side_length = find_side_length(goal)\n",
    "    # The ring number is the floor of length / 2\n",
    "    ring = side_length // 2\n",
    "    # Easy enough to get the bottom right corner value based off the length\n",
    "    value = side_length**2\n",
    "    # So now we have a location and a value.\n",
    "    position = Point(ring, ring)\n",
    "    \n",
    "    # Walk until we get to the value we're after\n",
    "    for dir in [Point(-1,0), Point(0,-1), Point(1,0), Point(0,1)]:\n",
    "        for _ in range(side_length-1):\n",
    "            if value == goal:\n",
    "                return cityblock_distance(position)\n",
    "            position += dir\n",
    "            value -= 1\n",
    "    return 0"
   ]
  },
  {
   "cell_type": "code",
   "execution_count": 23,
   "metadata": {},
   "outputs": [],
   "source": [
    "def spiral_cameron(goal):\n",
    "    n = 1\n",
    "    while n * n < goal:\n",
    "        n += 1\n",
    "    steps = (n - 1) / 2\n",
    "\n",
    "    down = n * n - (n - 1) / 2\n",
    "    left = down - (n - 1)\n",
    "    up = left - (n - 1)\n",
    "    right = up - (n - 1)\n",
    "\n",
    "    possible_paths = [goal - down, goal - left, goal - up, goal - right]\n",
    "\n",
    "    steps += abs(min(*possible_paths));\n",
    "    return int(steps)"
   ]
  },
  {
   "cell_type": "code",
   "execution_count": 24,
   "metadata": {},
   "outputs": [],
   "source": [
    "goal = 347991"
   ]
  },
  {
   "cell_type": "code",
   "execution_count": 25,
   "metadata": {},
   "outputs": [
    {
     "name": "stdout",
     "output_type": "stream",
     "text": [
      "1.88 ms ± 191 µs per loop (mean ± std. dev. of 7 runs, 1000 loops each)\n"
     ]
    }
   ],
   "source": [
    "%timeit spiral_walk_some(goal)"
   ]
  },
  {
   "cell_type": "code",
   "execution_count": 26,
   "metadata": {},
   "outputs": [
    {
     "name": "stdout",
     "output_type": "stream",
     "text": [
      "73.9 µs ± 1.98 µs per loop (mean ± std. dev. of 7 runs, 10000 loops each)\n"
     ]
    }
   ],
   "source": [
    "%timeit spiral_cameron(goal)"
   ]
  },
  {
   "cell_type": "code",
   "execution_count": 27,
   "metadata": {},
   "outputs": [],
   "source": [
    "def spiral(part_b=False):\n",
    "    matrix, position, facing = defaultdict(int), Point(0, 0), Point(1, 0)\n",
    "    max_steps, stepped, turn_count, num = 1, 0, 0, 0\n",
    "\n",
    "    while True:\n",
    "        if part_b:\n",
    "            num = sum(matrix[n] for n in neighbors8(position))\n",
    "            if not num: num = 1\n",
    "        else:\n",
    "            num += 1\n",
    "\n",
    "        matrix[position] = num\n",
    "        yield (position, num)\n",
    "\n",
    "        position += facing\n",
    "        stepped += 1\n",
    "        \n",
    "        if stepped == max_steps:\n",
    "            stepped = 0\n",
    "            turn_count += 1\n",
    "            # We increase the distance traveled every two turns\n",
    "            if turn_count == 2:\n",
    "                max_steps += 1\n",
    "                turn_count = 0\n",
    "            # Rotate to the left by swapping x and y and negating one of them.\n",
    "            facing = Point(facing.y, -facing.x)"
   ]
  },
  {
   "cell_type": "markdown",
   "metadata": {},
   "source": [
    "### Part A\n",
    "For Part A we're asked to find the cityblock distance from 0,0 to the point that holds our input value of 347991"
   ]
  },
  {
   "cell_type": "code",
   "execution_count": 28,
   "metadata": {},
   "outputs": [],
   "source": [
    "def spiral_distance(n): return next(cityblock_distance(pos) for (pos, val) in spiral() if val == n)"
   ]
  },
  {
   "cell_type": "code",
   "execution_count": 29,
   "metadata": {},
   "outputs": [],
   "source": [
    "assert spiral_distance(1) == 0\n",
    "assert spiral_distance(12) == 3\n",
    "assert spiral_distance(23) == 2\n",
    "assert spiral_distance(1024) == 31"
   ]
  },
  {
   "cell_type": "code",
   "execution_count": 30,
   "metadata": {},
   "outputs": [
    {
     "data": {
      "text/plain": [
       "480"
      ]
     },
     "execution_count": 30,
     "metadata": {},
     "output_type": "execute_result"
    }
   ],
   "source": [
    "spiral_distance(goal)"
   ]
  },
  {
   "cell_type": "markdown",
   "metadata": {},
   "source": [
    "### Part B\n",
    "\n",
    "For Part B we modify how values are calculated. Instead of the spiral being a monotonically increasing value we instead sum the values of all of the squares neighbors at the time of calculation.  \n",
    "I've added a `part_b` argument to the `spiral` generator to modify its number generation to follow the required format.\n",
    "\n",
    "```\n",
    "147  142  133  122   59\n",
    "304    5    4    2   57\n",
    "330   10    1    1   54\n",
    "351   11   23   25   26\n",
    "362  747  806--->   ...\n",
    "```\n",
    "\n",
    "We're asked to find the value in the spiral that immediately follows our input value."
   ]
  },
  {
   "cell_type": "code",
   "execution_count": 31,
   "metadata": {},
   "outputs": [],
   "source": [
    "def next_spiral_value(n): return next(val for (pos, val) in spiral(part_b=True) if val > n)"
   ]
  },
  {
   "cell_type": "code",
   "execution_count": 32,
   "metadata": {},
   "outputs": [],
   "source": [
    "assert next_spiral_value(23) == 25\n",
    "assert next_spiral_value(308) == 330\n",
    "assert next_spiral_value(482) == 747"
   ]
  },
  {
   "cell_type": "code",
   "execution_count": 33,
   "metadata": {},
   "outputs": [
    {
     "data": {
      "text/plain": [
       "349975"
      ]
     },
     "execution_count": 33,
     "metadata": {},
     "output_type": "execute_result"
    }
   ],
   "source": [
    "next_spiral_value(goal)"
   ]
  },
  {
   "cell_type": "markdown",
   "metadata": {},
   "source": [
    "## [Day 4](http://adventofcode.com/2017/day/4): High-Entropy Passphrases\n"
   ]
  },
  {
   "cell_type": "markdown",
   "metadata": {},
   "source": [
    "### Part A\n",
    "\n",
    "To ensure security, a valid passphrase must contain no duplicate words.\n",
    "\n",
    "For example:\n",
    "\n",
    "`aa bb cc dd ee` is valid.  \n",
    "`aa bb cc dd aa` is not valid - the word aa appears more than once.  \n",
    "`aa bb cc dd aaa` is valid - aa and aaa count as different words.  "
   ]
  },
  {
   "cell_type": "code",
   "execution_count": 34,
   "metadata": {},
   "outputs": [],
   "source": [
    "passphrases = read_words(Input(4))"
   ]
  },
  {
   "cell_type": "markdown",
   "metadata": {},
   "source": [
    "The easiest way to determine that every word in a list is unique is to create a set from the list and compare the lengths."
   ]
  },
  {
   "cell_type": "code",
   "execution_count": 35,
   "metadata": {},
   "outputs": [],
   "source": [
    "def all_unique(iterable):\n",
    "    return len(iterable) == len(set(iterable))"
   ]
  },
  {
   "cell_type": "code",
   "execution_count": 36,
   "metadata": {},
   "outputs": [
    {
     "data": {
      "text/plain": [
       "455"
      ]
     },
     "execution_count": 36,
     "metadata": {},
     "output_type": "execute_result"
    }
   ],
   "source": [
    "sum(1 for phrase in passphrases if all_unique(phrase))"
   ]
  },
  {
   "cell_type": "markdown",
   "metadata": {},
   "source": [
    "### Part B\n",
    "\n",
    "For part B a passphrase must contain no duplicate anagrams.\n",
    "\n",
    "`abcde fghij` is a valid passphrase.  \n",
    "`abcde xyz ecdab` is not valid - the letters from the third word can be rearranged to form the first word.  \n",
    "`a ab abc abd abf abj` is a valid passphrase, because all letters need to be used when forming another word.  \n",
    "`iiii oiii ooii oooi oooo` is valid.  \n",
    "`oiii ioii iioi iiio` is not valid - any of these words can be rearranged to form any other word.  \n"
   ]
  },
  {
   "cell_type": "markdown",
   "metadata": {},
   "source": [
    "If we sort each word in the passphrase we'll be able to easily detect anagrams."
   ]
  },
  {
   "cell_type": "code",
   "execution_count": 37,
   "metadata": {},
   "outputs": [],
   "source": [
    "def sort_word(word):\n",
    "    return cat(sorted(word))"
   ]
  },
  {
   "cell_type": "code",
   "execution_count": 38,
   "metadata": {},
   "outputs": [],
   "source": [
    "sorted_passphrases = [[sort_word(word) for word in phrase] for phrase in passphrases]"
   ]
  },
  {
   "cell_type": "code",
   "execution_count": 39,
   "metadata": {},
   "outputs": [
    {
     "data": {
      "text/plain": [
       "186"
      ]
     },
     "execution_count": 39,
     "metadata": {},
     "output_type": "execute_result"
    }
   ],
   "source": [
    "sum(1 for phrase in sorted_passphrases if all_unique(phrase)) "
   ]
  },
  {
   "cell_type": "markdown",
   "metadata": {},
   "source": [
    "## [Day 5](http://adventofcode.com/2017/day/5): A Maze of Twisty Trampolines, All Alike\n",
    "\n",
    "Welcome to the wonderful world of relative `GOTO` statements.  \n",
    "Each instruction is a number of instructions which we will jump ahead (if positive) or behind (if negative) our curent position.  \n",
    "Before we jump to the next instruction we increment the value of our current position by 1.\n",
    "\n",
    "\n",
    "Given the input: `0  3  0  1  -3`\n",
    "```\n",
    "(0) 3  0  1  -3  - before we have taken any steps.\n",
    "(1) 3  0  1  -3  - jump with offset 0 (that is, don't jump at all). Fortunately, the instruction is then incremented to 1.\n",
    " 2 (3) 0  1  -3  - step forward because of the instruction we just modified. The first instruction is incremented again, now to 2.\n",
    " 2  4  0  1 (-3) - jump all the way to the end; leave a 4 behind.\n",
    " 2 (4) 0  1  -2  - go back to where we just were; increment -3 to -2.\n",
    " 2  5  0  1  -2  - jump 4 steps forward, escaping the maze.\n",
    " ```\n",
    " \n",
    "In this example, the exit is reached in **5** steps.\n",
    "\n",
    "\n",
    "### Part A\n",
    "\n",
    "How many steps does it take to reach the exit?"
   ]
  },
  {
   "cell_type": "code",
   "execution_count": 40,
   "metadata": {},
   "outputs": [],
   "source": [
    "day5 = list(map(int, Input(5)))"
   ]
  },
  {
   "cell_type": "code",
   "execution_count": 170,
   "metadata": {},
   "outputs": [],
   "source": [
    "@jit\n",
    "def goto_escape(instructions, part_b=False):\n",
    "    instructions = instructions.copy()\n",
    "    location, moves = 0, 0\n",
    "    \n",
    "    while location < len(instructions):\n",
    "        jump = instructions[location]\n",
    "        if part_b and jump >= 3:\n",
    "            instructions[location] -= 1\n",
    "        else:\n",
    "            instructions[location] += 1\n",
    "        location += jump\n",
    "        moves += 1\n",
    "    return moves"
   ]
  },
  {
   "cell_type": "code",
   "execution_count": 178,
   "metadata": {},
   "outputs": [
    {
     "data": {
      "text/plain": [
       "358309"
      ]
     },
     "execution_count": 178,
     "metadata": {},
     "output_type": "execute_result"
    }
   ],
   "source": [
    "goto_escape(day5)"
   ]
  },
  {
   "cell_type": "markdown",
   "metadata": {},
   "source": [
    "### Part B\n",
    "\n",
    "Now, the jumps are even stranger: after each jump, if the offset was three or more, instead decrease it by 1. Otherwise, increase it by 1 as before."
   ]
  },
  {
   "cell_type": "code",
   "execution_count": 179,
   "metadata": {},
   "outputs": [
    {
     "data": {
      "text/plain": [
       "28178177"
      ]
     },
     "execution_count": 179,
     "metadata": {},
     "output_type": "execute_result"
    }
   ],
   "source": [
    "goto_escape(day5, part_b=True)"
   ]
  },
  {
   "cell_type": "markdown",
   "metadata": {},
   "source": [
    "## [Day 6](http://adventofcode.com/2017/day/6): Memory Reallocation"
   ]
  },
  {
   "cell_type": "code",
   "execution_count": 46,
   "metadata": {},
   "outputs": [],
   "source": [
    "day6 = [int(x) for x in Input(6).read().strip().split('\\t')]"
   ]
  },
  {
   "cell_type": "code",
   "execution_count": 47,
   "metadata": {},
   "outputs": [],
   "source": [
    "def reallocate_original(banks, part_b=False):\n",
    "    banks = banks.copy()\n",
    "    seen = {}\n",
    "    steps = 0\n",
    "\n",
    "    while tuple(banks) not in seen:\n",
    "        seen[tuple(banks)] = steps\n",
    "        steps += 1\n",
    "        # Get the bank that needs to be redistributed\n",
    "        max_count = max(banks)\n",
    "        max_index = banks.index(max_count)\n",
    "        # Clear it and begin rellocating the memory\n",
    "        banks[max_index] = 0\n",
    "        for i in range(1, max_count + 1):\n",
    "            banks[(max_index + i) % len(banks)] += 1\n",
    "\n",
    "    if part_b:\n",
    "        return steps - seen[tuple(banks)]\n",
    "    return steps"
   ]
  },
  {
   "cell_type": "markdown",
   "metadata": {},
   "source": [
    "Now, this method worked fine for solving the actual problem but the actual cycle detection could be made more generic, in case we encounter the need on another day.\n",
    "\n",
    "To do this we'll first extract the actual reallocation step into its own function"
   ]
  },
  {
   "cell_type": "code",
   "execution_count": 48,
   "metadata": {},
   "outputs": [],
   "source": [
    "def reallocate(banks):\n",
    "    \"Redistribute the highest valued bank\"\n",
    "    max_count = max(banks)\n",
    "    max_index = banks.index(max_count)\n",
    "    banks[max_index] = 0\n",
    "    for i in range(1, max_count + 1):\n",
    "        banks[(max_index + i) % len(banks)] += 1\n",
    "    return banks"
   ]
  },
  {
   "cell_type": "code",
   "execution_count": 49,
   "metadata": {},
   "outputs": [],
   "source": [
    "def find_cycle(initial_state, func, limit=100_000):\n",
    "    \"Given an initial state and a function that transforms the state find a cycle within `limit` steps.\"\n",
    "    if isinstance(initial_state, list):\n",
    "        state, serializer = initial_state.copy(), tuple\n",
    "    else:\n",
    "        state, serializer = initial_state, lambda x: x\n",
    "    seen, steps = {}, 0\n",
    "\n",
    "    while serializer(state) not in seen:\n",
    "        seen[serializer(state)] = steps\n",
    "        steps += 1\n",
    "        if limit and steps >= limit:\n",
    "            return f'No cycle found in limit of {limit} steps'\n",
    "        state = func(state)\n",
    "\n",
    "    first_seen = seen[serializer(state)]\n",
    "    return {\n",
    "        'cycle_item': state,\n",
    "        'total_steps': steps, \n",
    "        'first_seen': first_seen,\n",
    "        'cycle_length': steps - first_seen\n",
    "    }"
   ]
  },
  {
   "cell_type": "code",
   "execution_count": 50,
   "metadata": {},
   "outputs": [
    {
     "data": {
      "text/plain": [
       "{'cycle_item': [2, 4, 1, 2],\n",
       " 'cycle_length': 4,\n",
       " 'first_seen': 1,\n",
       " 'total_steps': 5}"
      ]
     },
     "execution_count": 50,
     "metadata": {},
     "output_type": "execute_result"
    }
   ],
   "source": [
    "find_cycle([0, 2, 7, 0], reallocate) "
   ]
  },
  {
   "cell_type": "code",
   "execution_count": 180,
   "metadata": {},
   "outputs": [
    {
     "data": {
      "text/plain": [
       "{'cycle_item': [0, 14, 13, 12, 11, 10, 8, 8, 6, 6, 5, 3, 3, 2, 1, 10],\n",
       " 'cycle_length': 2392,\n",
       " 'first_seen': 4289,\n",
       " 'total_steps': 6681}"
      ]
     },
     "execution_count": 180,
     "metadata": {},
     "output_type": "execute_result"
    }
   ],
   "source": [
    "find_cycle(day6, reallocate)"
   ]
  },
  {
   "cell_type": "markdown",
   "metadata": {},
   "source": [
    "## [Day 7](http://adventofcode.com/2017/day/7): Recursive Circus"
   ]
  },
  {
   "cell_type": "code",
   "execution_count": 52,
   "metadata": {},
   "outputs": [],
   "source": [
    "in7 = Input(7).readlines()"
   ]
  },
  {
   "cell_type": "code",
   "execution_count": 53,
   "metadata": {},
   "outputs": [],
   "source": [
    "def replace_all(chars, replacement, text):\n",
    "    \"Replace each instance of each individual char with the replacement text\"\n",
    "    for char in chars:\n",
    "        text = text.replace(char, replacement)\n",
    "    return text"
   ]
  },
  {
   "cell_type": "code",
   "execution_count": 54,
   "metadata": {},
   "outputs": [],
   "source": [
    "def parse7(line):\n",
    "    node, weight, *children = replace_all('(),->', '', line).split()\n",
    "    return (node, int(weight), children)"
   ]
  },
  {
   "cell_type": "code",
   "execution_count": 55,
   "metadata": {},
   "outputs": [],
   "source": [
    "day7 = [parse7(line) for line in in7]"
   ]
  },
  {
   "cell_type": "markdown",
   "metadata": {},
   "source": [
    "Fastest way I can think of finding the root node is creating a set of nodes that have children as well as nodes which are children.\n",
    "\n",
    "Do a set subtraction and we'll have our node that has children and isn't a child itself"
   ]
  },
  {
   "cell_type": "code",
   "execution_count": 56,
   "metadata": {},
   "outputs": [
    {
     "data": {
      "text/plain": [
       "'gmcrj'"
      ]
     },
     "execution_count": 56,
     "metadata": {},
     "output_type": "execute_result"
    }
   ],
   "source": [
    "nodes, is_child = set(), set()\n",
    "\n",
    "for name, weight, children in day7:\n",
    "    nodes.add(name)\n",
    "    for child in children:\n",
    "        is_child.add(child)\n",
    "            \n",
    "root = (nodes - is_child).pop()\n",
    "root"
   ]
  },
  {
   "cell_type": "markdown",
   "metadata": {},
   "source": [
    "I'm going to try using NetworkX as it seems like having a solid graph library under my belt would be useful."
   ]
  },
  {
   "cell_type": "code",
   "execution_count": 112,
   "metadata": {},
   "outputs": [],
   "source": [
    "import networkx as nx"
   ]
  },
  {
   "cell_type": "code",
   "execution_count": 185,
   "metadata": {},
   "outputs": [],
   "source": [
    "def create_graph(inp):\n",
    "    G = nx.DiGraph()\n",
    "    for name, weight, children in inp:\n",
    "        G.add_node(name, weight=weight, total_weight=-1)   \n",
    "        for child in children:\n",
    "            G.add_edge(name, child)\n",
    "    return G"
   ]
  },
  {
   "cell_type": "code",
   "execution_count": 192,
   "metadata": {},
   "outputs": [],
   "source": [
    "def sum_children(G, node):\n",
    "    if G.nodes[node]['total_weight'] != -1:\n",
    "        return G.nodes[node]['total_weight']\n",
    "    total_weight = G.nodes[node]['weight']\n",
    "    total_weight += sum(sum_children(G, child) for child in G.successors(node))\n",
    "    G.nodes[node]['total_weight'] = total_weight\n",
    "    return total_weight"
   ]
  },
  {
   "cell_type": "code",
   "execution_count": 193,
   "metadata": {},
   "outputs": [],
   "source": [
    "def add_total_weights(G):\n",
    "    for node in nx.topological_sort(G):\n",
    "        sum_children(G, node)"
   ]
  },
  {
   "cell_type": "code",
   "execution_count": 194,
   "metadata": {},
   "outputs": [],
   "source": [
    "G = create_graph(day7)\n",
    "add_total_weights(G)"
   ]
  },
  {
   "cell_type": "markdown",
   "metadata": {},
   "source": [
    "Networkx topoligical sort orders the nodes from the root node."
   ]
  },
  {
   "cell_type": "code",
   "execution_count": 207,
   "metadata": {},
   "outputs": [],
   "source": [
    "nodelist = list(nx.topological_sort(G))"
   ]
  },
  {
   "cell_type": "code",
   "execution_count": 208,
   "metadata": {},
   "outputs": [
    {
     "data": {
      "text/plain": [
       "'gmcrj'"
      ]
     },
     "execution_count": 208,
     "metadata": {},
     "output_type": "execute_result"
    }
   ],
   "source": [
    "nodelist[0]"
   ]
  },
  {
   "cell_type": "code",
   "execution_count": 202,
   "metadata": {},
   "outputs": [
    {
     "data": {
      "text/plain": [
       "['polkn', 'gejdtfw', 'cfuudsk', 'fqoary']"
      ]
     },
     "execution_count": 202,
     "metadata": {},
     "output_type": "execute_result"
    }
   ],
   "source": [
    "list(G.successors('gmcrj'))"
   ]
  },
  {
   "cell_type": "code",
   "execution_count": 105,
   "metadata": {},
   "outputs": [],
   "source": [
    "weights = {}\n",
    "children = {}\n",
    "parents = {}\n",
    "\n",
    "for name, weight, kids in day7:\n",
    "    weights[name] = weight\n",
    "    children[name] = kids\n",
    "    for kid in kids:\n",
    "        parents[kid] = name"
   ]
  },
  {
   "cell_type": "code",
   "execution_count": 59,
   "metadata": {},
   "outputs": [],
   "source": [
    "from collections import Counter\n",
    "\n",
    "def take_unique(iterable, key=None):\n",
    "    \"Return an iterable of the unique elements of the input.\"\n",
    "    if key is None:\n",
    "        key = lambda x: x\n",
    "    seen = Counter([key(item) for item in iterable])\n",
    "    for item in iterable:\n",
    "        if seen[key(item)] == 1:\n",
    "            yield item\n",
    "            \n",
    "def first_unique(iterable, key=None, default=None):\n",
    "    \"Return the first unique element of an iterable.\"\n",
    "    if key is None:\n",
    "        key = lambda x: x\n",
    "    seen = Counter([key(item) for item in iterable])\n",
    "    for item in iterable:\n",
    "        if seen[key(item)] == 1:\n",
    "            return item\n",
    "    return default\n",
    "\n",
    "def uniq_comm(iterable, key=None, default=None):\n",
    "    \"Return the unique element as well as the common element of an iterable.\"\n",
    "    if key is None:\n",
    "        key = lambda x: x\n",
    "    once = set()\n",
    "    dupes = set()\n",
    "    for item in iterable:\n",
    "        if item in once:\n",
    "            once.remove(item)\n",
    "            dupes.add(item)\n",
    "        if item in dupes:\n",
    "            continue\n",
    "        if item not in dupes:\n",
    "            once.add(item)\n",
    "        if len(once) + len(dupes) > 2:\n",
    "            break\n",
    "    if len(once) == 0:\n",
    "        raise ValueError(\"No unique value\")  \n",
    "    if len(once) > 1:\n",
    "        raise ValueError(\"More than one unique value\")\n",
    "    if len(dupes) == 0:\n",
    "        raise ValueError(\"No duplicated value\")\n",
    "    if len(dupes) > 1:\n",
    "        raise ValueError(\"More than one duplicated value\")\n",
    "    return (once.pop(), dupes.pop())"
   ]
  },
  {
   "cell_type": "code",
   "execution_count": 60,
   "metadata": {},
   "outputs": [],
   "source": [
    "assert list(take_unique([1,1])) == []\n",
    "assert list(take_unique([1,2,3,2,1,200])) == [3, 200]\n",
    "assert first_unique([1,2,3,2,1]) == 3\n",
    "assert first_unique([1,1]) == None\n",
    "assert first_unique([1,1], default=4) == 4"
   ]
  },
  {
   "cell_type": "code",
   "execution_count": 61,
   "metadata": {},
   "outputs": [],
   "source": [
    "def find_imbalance(node):\n",
    "    print(node)\n",
    "    if node in children:\n",
    "        kids = children[node]\n",
    "        kid_weights = [(kid, sum_children(kid)) for kid in kids]\n",
    "        print(kid_weights)\n",
    "        if len(set([weight for (kid, weight) in kid_weights])) > 1:\n",
    "            (name, weight) = next(take_unique(kid_weights, key=lambda x: x[1]))\n",
    "            return find_imbalance(name)\n",
    "    else:\n",
    "        print('nah')\n",
    "        return (node,weights[node] )"
   ]
  },
  {
   "cell_type": "code",
   "execution_count": 63,
   "metadata": {},
   "outputs": [],
   "source": [
    "#find_imbalance(root)"
   ]
  },
  {
   "cell_type": "code",
   "execution_count": 64,
   "metadata": {},
   "outputs": [],
   "source": [
    "def sum_children(node):\n",
    "    if node in children:\n",
    "        return weights[node] + sum(sum_children(child) for child in children.get(node))\n",
    "    return weights[node]"
   ]
  },
  {
   "cell_type": "code",
   "execution_count": 65,
   "metadata": {},
   "outputs": [
    {
     "data": {
      "text/plain": [
       "[('polkn', 137832),\n",
       " ('gejdtfw', 137837),\n",
       " ('cfuudsk', 137832),\n",
       " ('fqoary', 137832)]"
      ]
     },
     "execution_count": 65,
     "metadata": {},
     "output_type": "execute_result"
    }
   ],
   "source": [
    "[(child, sum_children(child)) for child in children.get('gmcrj')]"
   ]
  },
  {
   "cell_type": "code",
   "execution_count": 66,
   "metadata": {},
   "outputs": [
    {
     "data": {
      "text/plain": [
       "[('yeoia', 14390),\n",
       " ('fbtzaic', 14395),\n",
       " ('tbmtw', 14390),\n",
       " ('rutvyr', 14390),\n",
       " ('tucqq', 14390)]"
      ]
     },
     "execution_count": 66,
     "metadata": {},
     "output_type": "execute_result"
    }
   ],
   "source": [
    "[(child, sum_children(child)) for child in children.get('gejdtfw')]"
   ]
  },
  {
   "cell_type": "code",
   "execution_count": 67,
   "metadata": {},
   "outputs": [
    {
     "data": {
      "text/plain": [
       "[('nzkxl', 913), ('mdbtyw', 918), ('dqwfuzn', 913)]"
      ]
     },
     "execution_count": 67,
     "metadata": {},
     "output_type": "execute_result"
    }
   ],
   "source": [
    "[(child, sum_children(child)) for child in children.get('fbtzaic')]"
   ]
  },
  {
   "cell_type": "code",
   "execution_count": 68,
   "metadata": {},
   "outputs": [
    {
     "data": {
      "text/plain": [
       "[('zqcrxm', 174), ('lfbocy', 174), ('uqrmg', 174)]"
      ]
     },
     "execution_count": 68,
     "metadata": {},
     "output_type": "execute_result"
    }
   ],
   "source": [
    "[(child, sum_children(child)) for child in children.get('mdbtyw')]"
   ]
  },
  {
   "cell_type": "code",
   "execution_count": 69,
   "metadata": {},
   "outputs": [
    {
     "data": {
      "text/plain": [
       "391"
      ]
     },
     "execution_count": 69,
     "metadata": {},
     "output_type": "execute_result"
    }
   ],
   "source": [
    "weights['mdbtyw'] - 5"
   ]
  },
  {
   "cell_type": "markdown",
   "metadata": {},
   "source": [
    "## [Day 8](http://adventofcode.com/2017/day/8): I Heard You Like Registers"
   ]
  },
  {
   "cell_type": "code",
   "execution_count": 70,
   "metadata": {},
   "outputs": [],
   "source": [
    "line = Input(8).read().strip()"
   ]
  },
  {
   "cell_type": "code",
   "execution_count": 71,
   "metadata": {},
   "outputs": [],
   "source": [
    "def parse_instruction(instruction):\n",
    "    var, op, val, if_, cmp_var, cmp_op, cmp_val = instruction.split()\n",
    "    op = '-=' if op == 'dec' else '+='\n",
    "    return f\"if registers['{cmp_var}'] {cmp_op} {cmp_val}: registers['{var}'] {op} {val}\"\n",
    "\n",
    "def execute_instructions(instructions, part_b=False):\n",
    "    # Use a defaultdict so we can easily compare nonexistent keys\n",
    "    registers = defaultdict(int)\n",
    "    instructions = [parse_instruction(i) for i in instructions]\n",
    "    \n",
    "    # Define a lambda to get the max value out of the dictionary\n",
    "    get_max_value = lambda x: x[max(x, key=x.get)]\n",
    "    \n",
    "    max_seen = 0\n",
    "    for instruction in instructions:\n",
    "        # Use pythons exec to execute the instruction\n",
    "        exec(instruction)\n",
    "        max_now = get_max_value(registers)\n",
    "        if max_now > max_seen:\n",
    "            max_seen = max_now\n",
    "            \n",
    "    if part_b:\n",
    "        return max_seen\n",
    "    return get_max_value(registers)"
   ]
  },
  {
   "cell_type": "code",
   "execution_count": 72,
   "metadata": {},
   "outputs": [],
   "source": [
    "def parse_in(ins):\n",
    "    return ins.replace('dec', '-=').replace('inc','+=').strip() + ' else 0'\n",
    "\n",
    "def execute_ins(instructions, part_b=False):\n",
    "    # Use a defaultdict so we can easily compare nonexistent keys\n",
    "    registers = defaultdict(int)\n",
    "    instructions = [parse_in(i) for i in instructions]\n",
    "    get_max_value = lambda x: x[max(x, key=x.get)]\n",
    "    \n",
    "    max_seen = 0\n",
    "    for instruction in instructions:\n",
    "        # Passing the defaultdict as the locals dictionary causes some interesting properties.\n",
    "        # when exec attempts to assign to a variable that doesn't exist, its just like a nonexistent dictionary key since\n",
    "        # technically the local variables is a dictionary lookup. And locals is a defaultdict.\n",
    "        exec(instruction, globals(), registers)\n",
    "        max_seen = max(max_seen, get_max_value(registers))\n",
    "            \n",
    "    if part_b:\n",
    "        return max_seen\n",
    "    return get_max_value(registers)"
   ]
  },
  {
   "cell_type": "code",
   "execution_count": 181,
   "metadata": {},
   "outputs": [
    {
     "data": {
      "text/plain": [
       "4163"
      ]
     },
     "execution_count": 181,
     "metadata": {},
     "output_type": "execute_result"
    }
   ],
   "source": [
    "execute_instructions(Input(8))"
   ]
  },
  {
   "cell_type": "code",
   "execution_count": 74,
   "metadata": {},
   "outputs": [
    {
     "data": {
      "text/plain": [
       "5347"
      ]
     },
     "execution_count": 74,
     "metadata": {},
     "output_type": "execute_result"
    }
   ],
   "source": [
    "execute_instructions(Input(8), part_b=True)"
   ]
  },
  {
   "cell_type": "markdown",
   "metadata": {},
   "source": [
    "## [Day 9](http://adventofcode.com/2017/day/9): Stream Processing"
   ]
  },
  {
   "cell_type": "code",
   "execution_count": 75,
   "metadata": {},
   "outputs": [],
   "source": [
    "def remove_ignored(inp):\n",
    "    return re.sub(r'!.', '', inp)"
   ]
  },
  {
   "cell_type": "code",
   "execution_count": 76,
   "metadata": {},
   "outputs": [],
   "source": [
    "def remove_garbage(inp):\n",
    "    return re.sub(r'<[^>]*?>', '', inp)"
   ]
  },
  {
   "cell_type": "code",
   "execution_count": 77,
   "metadata": {},
   "outputs": [],
   "source": [
    "def count_garbage(inp):\n",
    "    garbage = 0\n",
    "    garbage_location = re.search(r'<[^>]*?>', inp)\n",
    "    while garbage_location:\n",
    "        end = garbage_location.end()\n",
    "        start = garbage_location.start()\n",
    "        length = end - start\n",
    "        garbage += (length - 2) # Remove the leading < and trailing >\n",
    "        inp = inp[:start] + inp[end:]\n",
    "        garbage_location = re.search(r'<[^>]*?>', inp)\n",
    "    return garbage"
   ]
  },
  {
   "cell_type": "code",
   "execution_count": 78,
   "metadata": {},
   "outputs": [],
   "source": [
    "def score_brackets(inp):\n",
    "    group_value = 0\n",
    "    score = 0\n",
    "    for symbol in inp:\n",
    "        if symbol == '{':\n",
    "            group_value += 1\n",
    "        if symbol == '}': \n",
    "            score += group_value\n",
    "            group_value -= 1\n",
    "    return score"
   ]
  },
  {
   "cell_type": "code",
   "execution_count": 79,
   "metadata": {},
   "outputs": [],
   "source": [
    "in9 = Input(9).read()"
   ]
  },
  {
   "cell_type": "code",
   "execution_count": 80,
   "metadata": {},
   "outputs": [],
   "source": [
    "in9 = remove_ignored(in9)"
   ]
  },
  {
   "cell_type": "code",
   "execution_count": 81,
   "metadata": {},
   "outputs": [
    {
     "data": {
      "text/plain": [
       "5547"
      ]
     },
     "execution_count": 81,
     "metadata": {},
     "output_type": "execute_result"
    }
   ],
   "source": [
    "count_garbage(in9)"
   ]
  },
  {
   "cell_type": "code",
   "execution_count": 82,
   "metadata": {},
   "outputs": [],
   "source": [
    "in9 = remove_garbage(in9)"
   ]
  },
  {
   "cell_type": "code",
   "execution_count": 83,
   "metadata": {},
   "outputs": [
    {
     "data": {
      "text/plain": [
       "10820"
      ]
     },
     "execution_count": 83,
     "metadata": {},
     "output_type": "execute_result"
    }
   ],
   "source": [
    "score_brackets(in9)"
   ]
  },
  {
   "cell_type": "code",
   "execution_count": 84,
   "metadata": {},
   "outputs": [],
   "source": [
    "def score_brackets_parse(stream):\n",
    "    group_value, total_score = 0, 0\n",
    "    garbage_count, in_garbage = 0, False\n",
    "    \n",
    "    i = 0\n",
    "    while i < len(stream):\n",
    "        symbol = stream[i]\n",
    "        if symbol == '!': i += 1\n",
    "        elif in_garbage:\n",
    "            if symbol == '>': in_garbage = False\n",
    "            else: garbage_count += 1\n",
    "        elif symbol == '<': in_garbage = True\n",
    "        elif symbol == '>': in_garbage = False\n",
    "        elif symbol == '{': group_value += 1\n",
    "        elif symbol == '}': \n",
    "            total_score += group_value\n",
    "            group_value -= 1\n",
    "        i += 1\n",
    "    return {'score': total_score, 'garbage': garbage_count}"
   ]
  },
  {
   "cell_type": "code",
   "execution_count": 182,
   "metadata": {},
   "outputs": [
    {
     "data": {
      "text/plain": [
       "{'garbage': 5547, 'score': 10820}"
      ]
     },
     "execution_count": 182,
     "metadata": {},
     "output_type": "execute_result"
    }
   ],
   "source": [
    "in9 = Input(9).read()\n",
    "score_brackets_parse(in9)"
   ]
  },
  {
   "cell_type": "markdown",
   "metadata": {},
   "source": [
    "## [Day 10](http://adventofcode.com/2017/day/10): Knot Hash"
   ]
  },
  {
   "cell_type": "code",
   "execution_count": 86,
   "metadata": {},
   "outputs": [],
   "source": [
    "def solve10(inp, part_b=False):\n",
    "    if part_b:\n",
    "        inp = list(map(ord, inp))\n",
    "        inp += [17, 31, 73, 47, 23]\n",
    "        rounds = 64\n",
    "    else:\n",
    "        inp = [int(x) for x in inp.split(',')]\n",
    "        rounds = 1\n",
    "        \n",
    "    hashes = list(range(256))    \n",
    "    current_position = 0\n",
    "    skip = 0\n",
    "    \n",
    "    for _ in range(rounds):\n",
    "        for length in inp:\n",
    "            if length <= len(hashes):\n",
    "                # Rotate the array so the current position is index 0\n",
    "                # This stops us from having to deal with wrapping around the edges\n",
    "                hashes = rotate(hashes, current_position)\n",
    "                hashes[:length] = list(reversed(hashes[:length]))\n",
    "                # Then rotate back!\n",
    "                hashes = rotate(hashes, -current_position)\n",
    "            current_position += length + skip\n",
    "            skip += 1 \n",
    "            \n",
    "    if part_b:\n",
    "        final_hash = ''\n",
    "        for start in range(0, len(hashes), 16):\n",
    "            part = hashes[start:start+16]\n",
    "            hashp = reduce(operator.xor, part)\n",
    "            final_hash += f'{hashp:02x}'\n",
    "        return final_hash\n",
    "    else:\n",
    "        return hashes[0] * hashes[1]"
   ]
  },
  {
   "cell_type": "code",
   "execution_count": 183,
   "metadata": {},
   "outputs": [
    {
     "data": {
      "text/plain": [
       "2928"
      ]
     },
     "execution_count": 183,
     "metadata": {},
     "output_type": "execute_result"
    }
   ],
   "source": [
    "solve10(Input(10).read().strip())"
   ]
  },
  {
   "cell_type": "code",
   "execution_count": 184,
   "metadata": {},
   "outputs": [
    {
     "data": {
      "text/plain": [
       "'0c2f794b2eb555f7830766bf8fb65a16'"
      ]
     },
     "execution_count": 184,
     "metadata": {},
     "output_type": "execute_result"
    }
   ],
   "source": [
    "solve10(Input(10).read().strip(), part_b=True)"
   ]
  }
 ],
 "metadata": {
  "kernelspec": {
   "display_name": "Python 3",
   "language": "python",
   "name": "python3"
  },
  "language_info": {
   "codemirror_mode": {
    "name": "ipython",
    "version": 3
   },
   "file_extension": ".py",
   "mimetype": "text/x-python",
   "name": "python",
   "nbconvert_exporter": "python",
   "pygments_lexer": "ipython3",
   "version": "3.6.3"
  }
 },
 "nbformat": 4,
 "nbformat_minor": 2
}
