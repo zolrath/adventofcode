{
 "cells": [
  {
   "cell_type": "markdown",
   "metadata": {},
   "source": [
    "# [Advent of Code 2015](http://adventofcode.com/2015)\n",
    "\n",
    "In 2015 I did the first 8 or so problems of Advent of Code in Go and then got busy and went no further.\n",
    "\n",
    "While waiting for 2017, let's do a few in Python to warm up!"
   ]
  },
  {
   "cell_type": "markdown",
   "metadata": {},
   "source": [
    "Here, I use the [ipnyb](https://github.com/ipython/ipynb) module to import that Notebook as if it were a normal Python module."
   ]
  },
  {
   "cell_type": "code",
   "execution_count": 1,
   "metadata": {},
   "outputs": [],
   "source": [
    "from ipynb.fs.full.aoc_helpers import *"
   ]
  },
  {
   "cell_type": "code",
   "execution_count": 2,
   "metadata": {},
   "outputs": [],
   "source": [
    "import re\n",
    "import numpy as np\n",
    "import math\n",
    "import itertools as it\n",
    "\n",
    "from collections import Counter, defaultdict, namedtuple, deque\n",
    "from functools   import lru_cache, partial\n",
    "from itertools   import permutations, combinations, chain, cycle, product, islice\n",
    "from heapq       import heappop, heappush\n",
    "\n",
    "import matplotlib.pyplot as plt\n",
    "%matplotlib inline"
   ]
  },
  {
   "cell_type": "markdown",
   "metadata": {},
   "source": [
    "As the Helpers module is shared between 2015, 2016 and 2017, I'm partially applying the `Input` function to specify the year.\n",
    "\n",
    "`Input(day, year) -> partial(Input, year=2017) -> Input(3) == Input(3, 2017)`\n",
    "\n",
    "This allows me to use `Input(3)` in the 2016 file to get day 3 of 2016, as well as `Input(3)` in the 2017 file to get day 3 of 2017."
   ]
  },
  {
   "cell_type": "code",
   "execution_count": 3,
   "metadata": {},
   "outputs": [],
   "source": [
    "Input = partial(Input, year=2015)"
   ]
  },
  {
   "cell_type": "markdown",
   "metadata": {},
   "source": [
    "## [Day 1](http://adventofcode.com/2015/day/1): Not Quite Lisp\n",
    "\n",
    "For this problem we're simply counting open parens `(` and closing parens `)`.\n",
    "\n",
    "A `(` goes up a floor, `)` goes down a floor.  \n",
    "Given a string of `(`s and `)`s what floor do you end up on?"
   ]
  },
  {
   "cell_type": "code",
   "execution_count": 4,
   "metadata": {},
   "outputs": [],
   "source": [
    "def walk(parens):\n",
    "    return sum(1 if p == '(' else -1 for p in parens)"
   ]
  },
  {
   "cell_type": "code",
   "execution_count": 5,
   "metadata": {},
   "outputs": [],
   "source": [
    "assert walk('(())') == walk('()()') == 0\n",
    "assert walk('(((') == walk('(()(()(') == 3\n",
    "assert walk('))(((((') == 3\n",
    "assert walk('())') == walk('))(') == -1\n",
    "assert walk(')))') == walk(')())())') == -3"
   ]
  },
  {
   "cell_type": "code",
   "execution_count": 6,
   "metadata": {},
   "outputs": [],
   "source": [
    "parens = Input(1).read()"
   ]
  },
  {
   "cell_type": "code",
   "execution_count": 7,
   "metadata": {},
   "outputs": [
    {
     "data": {
      "text/plain": [
       "232"
      ]
     },
     "execution_count": 7,
     "metadata": {},
     "output_type": "execute_result"
    }
   ],
   "source": [
    "walk(parens)"
   ]
  },
  {
   "cell_type": "markdown",
   "metadata": {},
   "source": [
    "For Part 2 we must find the position of the first character that puts us in the basement (-1)\n",
    "\n",
    "We can create a generator that yields the position every time we hit floor -1"
   ]
  },
  {
   "cell_type": "code",
   "execution_count": 8,
   "metadata": {},
   "outputs": [],
   "source": [
    "def basement(parens):\n",
    "    floor = 0\n",
    "    for i, p in enumerate(parens, 1):\n",
    "        floor += 1 if p == '(' else -1\n",
    "        if floor == -1:\n",
    "            yield i"
   ]
  },
  {
   "cell_type": "code",
   "execution_count": 9,
   "metadata": {},
   "outputs": [
    {
     "data": {
      "text/plain": [
       "1783"
      ]
     },
     "execution_count": 9,
     "metadata": {},
     "output_type": "execute_result"
    }
   ],
   "source": [
    "next(basement(parens))"
   ]
  },
  {
   "cell_type": "markdown",
   "metadata": {},
   "source": [
    "## [Day 2](http://adventofcode.com/2015/day/2): I Was Told There Would Be No Math\n",
    "\n",
    "We want to calculate the wrapping paper needed to wrap presents given the width, height, and length of the presents.\n",
    "\n",
    "A present with dimensions 2x3x4 requires `2*6 + 2*12 + 2*8 = 52` square feet of wrapping paper plus 6 square feet of slack, for a total of 58 square feet."
   ]
  },
  {
   "cell_type": "code",
   "execution_count": 10,
   "metadata": {},
   "outputs": [],
   "source": [
    "def area(w, h, l):\n",
    "    return 2*l*w + 2*w*h + 2*h*l\n",
    "\n",
    "def paper_needed(w, h, l):\n",
    "    slack = min(l*w, w*h, h*l)\n",
    "    return area(w, h, l) + slack"
   ]
  },
  {
   "cell_type": "code",
   "execution_count": 11,
   "metadata": {},
   "outputs": [],
   "source": [
    "assert area(2,3,4) == 52\n",
    "assert paper_needed(2,3,4) == 58"
   ]
  },
  {
   "cell_type": "code",
   "execution_count": 12,
   "metadata": {},
   "outputs": [
    {
     "data": {
      "text/plain": [
       "[[29, 13, 26], [11, 11, 14], [27, 2, 5]]"
      ]
     },
     "execution_count": 12,
     "metadata": {},
     "output_type": "execute_result"
    }
   ],
   "source": [
    "presents = [parse_ints(present) for present in Input(2)]\n",
    "presents[0:3]"
   ]
  },
  {
   "cell_type": "code",
   "execution_count": 13,
   "metadata": {},
   "outputs": [
    {
     "data": {
      "text/plain": [
       "1586300"
      ]
     },
     "execution_count": 13,
     "metadata": {},
     "output_type": "execute_result"
    }
   ],
   "source": [
    "sum(paper_needed(*present) for present in presents)"
   ]
  },
  {
   "cell_type": "markdown",
   "metadata": {},
   "source": [
    "For part B we're asked to compute the length of ribbon the elves must purchase as well.\n",
    "\n",
    "Ribbon is the perimeter of the smallest face plus the cubic volume of the present.\n",
    "\n",
    "A present with dimensions 2x3x4 requires 2+2+3+3 = 10 feet of ribbon to wrap the present plus `2*3*4 = 24` feet of ribbon for the bow, for a total of 34 feet."
   ]
  },
  {
   "cell_type": "code",
   "execution_count": 14,
   "metadata": {},
   "outputs": [],
   "source": [
    "def ribbon_needed(w, h ,l):\n",
    "    s1, s2 = sorted([w, h, l])[0:2]\n",
    "    return s1 + s1 + s2 + s2 + w * h * l"
   ]
  },
  {
   "cell_type": "code",
   "execution_count": 15,
   "metadata": {},
   "outputs": [],
   "source": [
    "assert ribbon_needed(2,3,4) == 34"
   ]
  },
  {
   "cell_type": "code",
   "execution_count": 16,
   "metadata": {},
   "outputs": [
    {
     "data": {
      "text/plain": [
       "3737498"
      ]
     },
     "execution_count": 16,
     "metadata": {},
     "output_type": "execute_result"
    }
   ],
   "source": [
    "sum(ribbon_needed(*present) for present in presents)"
   ]
  },
  {
   "cell_type": "markdown",
   "metadata": {},
   "source": [
    "## [Day 3](http://adventofcode.com/2015/day/3): Perfectly Spherical Houses in a Vacuum\n",
    "We've got an infinite grid for Santa to deliver presents to.\n",
    "He delivers to his starting cell at 0,0 at the start of the program and then recieves a direction v<^> that indicates the direction he should travel to deliver another present.\n",
    "\n",
    "How many houses recieve at least one present?"
   ]
  },
  {
   "cell_type": "markdown",
   "metadata": {},
   "source": [
    "We can use a `set` to represent visited points as we are simply ensuring there's been a delivery, not the count of delivieries."
   ]
  },
  {
   "cell_type": "code",
   "execution_count": 17,
   "metadata": {},
   "outputs": [],
   "source": [
    "def deliver(directions):\n",
    "    d = {'v': Point(0,-1), '<': Point(-1,0), '^': Point(0,1), '>': Point(1,0)}\n",
    "    \n",
    "    location = Point(0,0)\n",
    "    delivered = set([location])\n",
    "    for direction in directions:\n",
    "        location += d[direction]\n",
    "        delivered.add(location)\n",
    "    return delivered"
   ]
  },
  {
   "cell_type": "code",
   "execution_count": 18,
   "metadata": {},
   "outputs": [
    {
     "data": {
      "text/plain": [
       "{Point(x=0, y=0), Point(x=0, y=1), Point(x=1, y=0), Point(x=1, y=1)}"
      ]
     },
     "execution_count": 18,
     "metadata": {},
     "output_type": "execute_result"
    }
   ],
   "source": [
    "deliver('^>v<')"
   ]
  },
  {
   "cell_type": "code",
   "execution_count": 19,
   "metadata": {},
   "outputs": [],
   "source": [
    "assert len(deliver('>')) == 2\n",
    "assert len(deliver('^>v<')) == 4\n",
    "assert len(deliver('^v^v^v^v^v')) == 2"
   ]
  },
  {
   "cell_type": "code",
   "execution_count": 20,
   "metadata": {},
   "outputs": [],
   "source": [
    "santa_dirs = Input(3).read()"
   ]
  },
  {
   "cell_type": "code",
   "execution_count": 21,
   "metadata": {},
   "outputs": [
    {
     "data": {
      "text/plain": [
       "2565"
      ]
     },
     "execution_count": 21,
     "metadata": {},
     "output_type": "execute_result"
    }
   ],
   "source": [
    "len(deliver(santa_dirs))"
   ]
  },
  {
   "cell_type": "markdown",
   "metadata": {},
   "source": [
    "For part B we have a robotic santa who also departs from 0,0.\n",
    "The instructions are now split in alternating order between Santa and Robo Santa.\n",
    "\n",
    "How many houses get at least 1 present?"
   ]
  },
  {
   "cell_type": "markdown",
   "metadata": {},
   "source": [
    "We can easily split the even/odd elements of the instructions into two separate arrays using the `step` portion of an array slice operator `[start:end:step]`"
   ]
  },
  {
   "cell_type": "code",
   "execution_count": 22,
   "metadata": {},
   "outputs": [],
   "source": [
    "santa_houses = santa_dirs[::2]\n",
    "robo_santa_houses = santa_dirs[1::2]"
   ]
  },
  {
   "cell_type": "markdown",
   "metadata": {},
   "source": [
    "We can use the `|` operator to get all elements in either `santa_houses` or `robo_santa_houses`."
   ]
  },
  {
   "cell_type": "code",
   "execution_count": 23,
   "metadata": {},
   "outputs": [
    {
     "data": {
      "text/plain": [
       "2639"
      ]
     },
     "execution_count": 23,
     "metadata": {},
     "output_type": "execute_result"
    }
   ],
   "source": [
    "len(deliver(santa_houses) | deliver(robo_santa_houses))"
   ]
  },
  {
   "cell_type": "markdown",
   "metadata": {},
   "source": [
    "## [Day 4](http://adventofcode.com/2015/day/4): The Ideal Stocking Stuffer\n",
    "\n",
    "We're looking for md5(our key + a number) == '00000....'"
   ]
  },
  {
   "cell_type": "code",
   "execution_count": 24,
   "metadata": {},
   "outputs": [],
   "source": [
    "def is_adventcoin(ins, zeros=5):\n",
    "    return md5(ins).startswith('0' * zeros)"
   ]
  },
  {
   "cell_type": "code",
   "execution_count": 25,
   "metadata": {},
   "outputs": [],
   "source": [
    "assert md5('abcdef609043').startswith('00000')\n",
    "assert is_adventcoin('abcdef609043')"
   ]
  },
  {
   "cell_type": "markdown",
   "metadata": {},
   "source": [
    "`itertools.count` is an infinite generator of numbers so we can filter its results to only adventcoins."
   ]
  },
  {
   "cell_type": "code",
   "execution_count": 26,
   "metadata": {},
   "outputs": [],
   "source": [
    "key = 'ckczppom'"
   ]
  },
  {
   "cell_type": "code",
   "execution_count": 27,
   "metadata": {},
   "outputs": [
    {
     "data": {
      "text/plain": [
       "117946"
      ]
     },
     "execution_count": 27,
     "metadata": {},
     "output_type": "execute_result"
    }
   ],
   "source": [
    "first(i for i in it.count(1) if is_adventcoin(f'{key}{i}'))"
   ]
  },
  {
   "cell_type": "markdown",
   "metadata": {},
   "source": [
    "For part B we're looking for 6 zeros at the start of the hash instead of 5."
   ]
  },
  {
   "cell_type": "code",
   "execution_count": 28,
   "metadata": {},
   "outputs": [
    {
     "data": {
      "text/plain": [
       "3938038"
      ]
     },
     "execution_count": 28,
     "metadata": {},
     "output_type": "execute_result"
    }
   ],
   "source": [
    "first(i for i in it.count(1) if is_adventcoin(f'{key}{i}', zeros=6))"
   ]
  },
  {
   "cell_type": "markdown",
   "metadata": {},
   "source": [
    "## [Day 5](http://adventofcode.com/2015/day/5): Doesn't He Have Intern-Elves For This?\n",
    "\n",
    "We would like to differentiate between **nice** and **naughty** strings.\n",
    "\n",
    "Nice Strings have the following properties:\n",
    "- It contains at least three vowels (aeiou only), like aei, xazegov, or aeiouaeiouaeiou.\n",
    "- It contains at least one letter that appears twice in a row, like xx, abcdde (dd), or aabbccdd (aa, bb, cc, or dd).\n",
    "- It does not contain the strings ab, cd, pq, or xy, even if they are part of one of the other requirements.\n",
    "\n",
    "How many of the input strings are **nice**?"
   ]
  },
  {
   "cell_type": "code",
   "execution_count": 29,
   "metadata": {},
   "outputs": [],
   "source": [
    "def is_nice(text):\n",
    "    three_vowels = len(re.findall(r'[aeiou]', text)) >= 3\n",
    "    duplicates = re.search(r'(\\w)\\1', text)\n",
    "    stopwords = re.search(r'ab|cd|pq|xy', text)\n",
    "    return three_vowels and duplicates and not stopwords"
   ]
  },
  {
   "cell_type": "code",
   "execution_count": 30,
   "metadata": {},
   "outputs": [],
   "source": [
    "assert is_nice('ugknbfddgicrmopn')\n",
    "assert is_nice('aaa')\n",
    "assert not is_nice('jchzalrnumimnmhp') # no double letter\n",
    "assert not is_nice('haegwjzuvuyypxyu') # contains xy\n",
    "assert not is_nice('dvszwmarrgswjxmb') # only 1 vowel"
   ]
  },
  {
   "cell_type": "code",
   "execution_count": 31,
   "metadata": {},
   "outputs": [
    {
     "data": {
      "text/plain": [
       "258"
      ]
     },
     "execution_count": 31,
     "metadata": {},
     "output_type": "execute_result"
    }
   ],
   "source": [
    "len([word for word in Input(5) if is_nice(word)])"
   ]
  },
  {
   "cell_type": "markdown",
   "metadata": {},
   "source": [
    "Part B abandons the ridiculous rules of Part A for clearly superior, sensible rules for niceness.\n",
    "\n",
    "Nice strings now have the following properites:\n",
    "- It contains a pair of any two letters that appears at least twice in the string without overlapping, like xyxy (xy) or aabcdefgaa (aa), but not like aaa (aa, but it overlaps).\n",
    "- It contains at least one letter which repeats with exactly one letter between them, like xyx, abcdefeghi (efe), or even aaa."
   ]
  },
  {
   "cell_type": "code",
   "execution_count": 32,
   "metadata": {},
   "outputs": [],
   "source": [
    "def is_nice_improved(text):\n",
    "    pair = re.findall(r'(\\w{2}).*\\1', text)\n",
    "    repeat = re.findall(r'(\\w)\\w\\1', text)\n",
    "    return pair and repeat"
   ]
  },
  {
   "cell_type": "code",
   "execution_count": 33,
   "metadata": {},
   "outputs": [
    {
     "data": {
      "text/plain": [
       "53"
      ]
     },
     "execution_count": 33,
     "metadata": {},
     "output_type": "execute_result"
    }
   ],
   "source": [
    "len([word for word in Input(5) if is_nice_improved(word)])"
   ]
  },
  {
   "cell_type": "markdown",
   "metadata": {},
   "source": [
    "## [Day 6](http://adventofcode.com/2015/day/6): Probably a Fire Hazard\n",
    "\n",
    "We have christmas lights in a 1000x1000 grid. The bounds are: 0,0, 0,999, 999,999, and 999,0\n",
    "Given a list of instructions of **turn on**, **turn off**, or **toggle** ranges of lights, inclusive.\n",
    "\n",
    "Input examples are as follows:\n",
    "- turn on 0,0 through 999,999 would turn on (or leave on) every light.\n",
    "- toggle 0,0 through 999,0 would toggle the first line of 1000 lights, turning off the ones that were on, and turning on the ones that were off.\n",
    "- turn off 499,499 through 500,500 would turn off (or leave off) the middle four lights."
   ]
  },
  {
   "cell_type": "code",
   "execution_count": 34,
   "metadata": {},
   "outputs": [
    {
     "data": {
      "text/plain": [
       "['toggle 461,550 through 564,900\\n',\n",
       " 'turn off 464,858 through 833,915\\n',\n",
       " 'turn on 599,989 through 806,993\\n']"
      ]
     },
     "execution_count": 34,
     "metadata": {},
     "output_type": "execute_result"
    }
   ],
   "source": [
    "ins = list(Input(6))\n",
    "ins[0:5:2]"
   ]
  },
  {
   "cell_type": "code",
   "execution_count": 35,
   "metadata": {},
   "outputs": [
    {
     "data": {
      "text/plain": [
       "[('toggle', Point(x=461, y=550), Point(x=564, y=900)),\n",
       " ('turn off', Point(x=464, y=858), Point(x=833, y=915)),\n",
       " ('turn on', Point(x=599, y=989), Point(x=806, y=993))]"
      ]
     },
     "execution_count": 35,
     "metadata": {},
     "output_type": "execute_result"
    }
   ],
   "source": [
    "def parse6(line):\n",
    "    command, x1, y1, x2, y2 = re.match(r'(toggle|turn off|turn on) (\\d+),(\\d+) through (\\d+),(\\d+)', line).groups()\n",
    "    return (command, Point(int(x1), int(y1)), Point(int(x2), int(y2)))\n",
    "\n",
    "list(map(parse6, ins[0:5:2]))"
   ]
  },
  {
   "cell_type": "markdown",
   "metadata": {},
   "source": [
    "Numpy has great support for the creation and manipulation of n dimensional arrays.\n",
    "We can easily set and invert slices to implement the various commands"
   ]
  },
  {
   "cell_type": "code",
   "execution_count": 36,
   "metadata": {},
   "outputs": [],
   "source": [
    "lights = np.zeros((1000,1000), dtype=np.bool)\n",
    "\n",
    "def toggle(start, end):\n",
    "    lights[start.x:end.x+1, start.y:end.y+1] = ~lights[start.x:end.x+1, start.y:end.y+1]\n",
    "\n",
    "def turn_on(start, end):\n",
    "    lights[start.x:end.x+1, start.y:end.y+1] = True\n",
    "    \n",
    "def turn_off(start, end):\n",
    "    lights[start.x:end.x+1, start.y:end.y+1] = False"
   ]
  },
  {
   "cell_type": "code",
   "execution_count": 37,
   "metadata": {},
   "outputs": [],
   "source": [
    "def run_command(com):\n",
    "    command, start, end = com\n",
    "    if   command == 'toggle':   toggle(start, end)\n",
    "    elif command == 'turn on':  turn_on(start, end)\n",
    "    elif command == 'turn off': turn_off(start, end)    "
   ]
  },
  {
   "cell_type": "code",
   "execution_count": 38,
   "metadata": {},
   "outputs": [
    {
     "data": {
      "text/plain": [
       "543903"
      ]
     },
     "execution_count": 38,
     "metadata": {},
     "output_type": "execute_result"
    }
   ],
   "source": [
    "for command in map(parse6, Input(6)):\n",
    "    run_command(command)\n",
    "\n",
    "np.sum(lights)"
   ]
  },
  {
   "cell_type": "markdown",
   "metadata": {},
   "source": [
    "For Part B we find that the lights actually have brightness controls.\n",
    "- The phrase turn on actually means that you should increase the brightness of those lights by 1.\n",
    "- The phrase turn off actually means that you should decrease the brightness of those lights by 1, to a minimum of zero.\n",
    "- The phrase toggle actually means that you should increase the brightness of those lights by 2.\n",
    "\n",
    "Whats the total brightness?"
   ]
  },
  {
   "cell_type": "code",
   "execution_count": 39,
   "metadata": {},
   "outputs": [],
   "source": [
    "lights = np.zeros((1000,1000), dtype=np.int)\n",
    "\n",
    "def toggle(start, end):\n",
    "    lights[start.x:end.x+1, start.y:end.y+1] += 2\n",
    "    \n",
    "def turn_on(start, end):\n",
    "    lights[start.x:end.x+1, start.y:end.y+1] += 1\n",
    "    \n",
    "def turn_off(start, end):\n",
    "    on = lights[start.x:end.x+1, start.y:end.y+1]\n",
    "    on[on > 0] -= 1"
   ]
  },
  {
   "cell_type": "code",
   "execution_count": 40,
   "metadata": {},
   "outputs": [
    {
     "data": {
      "text/plain": [
       "14687245"
      ]
     },
     "execution_count": 40,
     "metadata": {},
     "output_type": "execute_result"
    }
   ],
   "source": [
    "for command in map(parse6, Input(6)):\n",
    "    run_command(command)\n",
    "\n",
    "np.sum(lights)"
   ]
  },
  {
   "cell_type": "markdown",
   "metadata": {},
   "source": [
    "## [Day 7](http://adventofcode.com/2015/day/7): Some Assembly Required\n",
    "\n",
    "This one looks more interesting! We're building a circuit via instructions of wires and boolean logic gates.\n",
    "\n",
    "- `123 -> x` means that the signal 123 is provided to wire x.\n",
    "- `x AND y -> z` means that the bitwise AND of wire x and wire y is provided to wire z.\n",
    "- `p LSHIFT 2 -> q` means that the value from wire p is left-shifted by 2 and then provided to wire q.\n",
    "- `NOT e -> f` means that the bitwise complement of the value from wire e is provided to wire f.\n",
    "- Additional commands are `RSHIFT` and `OR`\n",
    "\n",
    "\n",
    "### Input\n",
    "```\n",
    "123 -> x\n",
    "456 -> y\n",
    "x AND y -> d\n",
    "x OR y -> e\n",
    "x LSHIFT 2 -> f\n",
    "y RSHIFT 2 -> g\n",
    "NOT x -> h\n",
    "NOT y -> i\n",
    "```\n",
    "\n",
    "### Output\n",
    "```\n",
    "d: 72\n",
    "e: 507\n",
    "f: 492\n",
    "g: 114\n",
    "h: 65412\n",
    "i: 65079\n",
    "x: 123\n",
    "y: 456\n",
    "```"
   ]
  },
  {
   "cell_type": "markdown",
   "metadata": {},
   "source": [
    "The gates all perform bitwise operations on the input.  \n",
    "The only issue Python has representing this data is the lack of an unsigned integer type for the boolean not `~`."
   ]
  },
  {
   "cell_type": "code",
   "execution_count": 41,
   "metadata": {},
   "outputs": [],
   "source": [
    "def parse7(line):\n",
    "    line = line.replace('-> ', '').strip().split(' ')\n",
    "    if len(line) == 2:\n",
    "        return tuple([line[0], 'EQ', line[1]])\n",
    "    if len(line) == 3:\n",
    "        return tuple([line[1], line[0], line[2]])\n",
    "    return tuple(line)\n",
    "\n",
    "def value(wire):\n",
    "    if isinstance(wire, int):\n",
    "        return wire\n",
    "    elif wire.isdigit():\n",
    "        return int(wire)\n",
    "    else:\n",
    "        return signals.get(wire)\n",
    "\n",
    "def eq_c(i, o):        signals[o] = value(i)\n",
    "def and_c(i1, i2, o):  signals[o] = value(i1) & value(i2)\n",
    "def or_c(i1, i2, o):   signals[o] = value(i1) | value(i2)\n",
    "def not_c(i, o):       signals[o] = ~value(i) & 0xffff\n",
    "def rshift_c(i, n, o): signals[o] = value(i) >> value(n)\n",
    "def lshift_c(i, n, o): signals[o] = value(i) << value(n)\n",
    "    \n",
    "def can_run_command(wires):\n",
    "    return all(value(wire) != None for wire in wires[:-1])\n",
    "\n",
    "def run_command(com):\n",
    "    inp, command, *args = com\n",
    "    if   command == 'EQ': eq_c(inp, *args)\n",
    "    elif command == 'AND': and_c(inp, *args)\n",
    "    elif command == 'NOT': not_c(inp, *args) \n",
    "    elif command == 'OR': or_c(inp, *args) \n",
    "    elif command == 'RSHIFT':  rshift_c(inp, *args)\n",
    "    elif command == 'LSHIFT': lshift_c(inp, *args)\n",
    "        \n",
    "def run_gates(gates=None):\n",
    "    if not gates:\n",
    "        gates = deque(parse7(line) for line in Input(7)) \n",
    "    while gates:\n",
    "        gate = gates.popleft()\n",
    "        i, com, *r = gate\n",
    "        if can_run_command([i, *r]):\n",
    "            run_command(gate)\n",
    "        else: \n",
    "            gates.append(gate)"
   ]
  },
  {
   "cell_type": "code",
   "execution_count": 42,
   "metadata": {},
   "outputs": [
    {
     "data": {
      "text/plain": [
       "{'d': 72,\n",
       " 'e': 507,\n",
       " 'f': 492,\n",
       " 'g': 114,\n",
       " 'h': 65412,\n",
       " 'i': 65079,\n",
       " 'x': 123,\n",
       " 'y': 456}"
      ]
     },
     "execution_count": 42,
     "metadata": {},
     "output_type": "execute_result"
    }
   ],
   "source": [
    "signals = {}\n",
    "gates = deque([('123', 'EQ', 'x'), ('456', 'EQ', 'y'), ('x', 'AND', 'y', 'd'),\n",
    "               ('x', 'OR', 'y', 'e'), ('x', 'NOT', 'h'), ('x', 'LSHIFT', 2, 'f'),\n",
    "               ('y', 'RSHIFT', 2, 'g'), ('y', 'NOT', 'i')])\n",
    "run_gates(gates)\n",
    "signals"
   ]
  },
  {
   "cell_type": "code",
   "execution_count": 43,
   "metadata": {},
   "outputs": [
    {
     "data": {
      "text/plain": [
       "956"
      ]
     },
     "execution_count": 43,
     "metadata": {},
     "output_type": "execute_result"
    }
   ],
   "source": [
    "signals = {}\n",
    "run_gates()\n",
    "signals['a']"
   ]
  },
  {
   "cell_type": "markdown",
   "metadata": {},
   "source": [
    "Part B asks us to assign wire b to the value of signal a, clear all other signals, and run the program again."
   ]
  },
  {
   "cell_type": "code",
   "execution_count": 44,
   "metadata": {},
   "outputs": [],
   "source": [
    "def value(wire):\n",
    "    if wire == 'b': return 956\n",
    "    if isinstance(wire, int):\n",
    "        return wire\n",
    "    elif wire.isdigit():\n",
    "        return int(wire)\n",
    "    else:\n",
    "        return signals.get(wire)"
   ]
  },
  {
   "cell_type": "code",
   "execution_count": 45,
   "metadata": {},
   "outputs": [
    {
     "data": {
      "text/plain": [
       "40149"
      ]
     },
     "execution_count": 45,
     "metadata": {},
     "output_type": "execute_result"
    }
   ],
   "source": [
    "signals = {}\n",
    "run_gates()\n",
    "signals['a']"
   ]
  },
  {
   "cell_type": "markdown",
   "metadata": {},
   "source": [
    "As a whole, I'm not super happy with this solution and may come back to improve it later."
   ]
  },
  {
   "cell_type": "markdown",
   "metadata": {},
   "source": [
    "## [Day 8](http://adventofcode.com/2015/day/8): Matchsticks \n",
    "\n",
    "We're looking at the in memory representation versus the string length.\n",
    "- \"\" is an empty string but is two characters due to the quotes.\n",
    "- \"abc\" is 5 characters of code, 3 characters long\n",
    "- \"aaa\\\"aaa\" is 10 characters of code long, 6 a and one escaped \" long.\n",
    "- \"\\x27\" is 6 characters of code long, but is only one character (an escaped ')"
   ]
  },
  {
   "cell_type": "markdown",
   "metadata": {},
   "source": [
    "What is the number of characters of code for string literals minus the number of characters in memory for the values of the strings in total for the entire file?"
   ]
  },
  {
   "cell_type": "code",
   "execution_count": 46,
   "metadata": {},
   "outputs": [],
   "source": [
    "def memlen(text):\n",
    "    return len(eval(text))"
   ]
  },
  {
   "cell_type": "code",
   "execution_count": 47,
   "metadata": {},
   "outputs": [],
   "source": [
    "assert len(r'\"\"') == 2\n",
    "assert memlen(r'\"\"') == 0\n",
    "\n",
    "assert len(r'\"\\x27\"') == 6\n",
    "assert memlen(r'\"\\x27\"') == 1"
   ]
  },
  {
   "cell_type": "code",
   "execution_count": 48,
   "metadata": {},
   "outputs": [
    {
     "data": {
      "text/plain": [
       "1333"
      ]
     },
     "execution_count": 48,
     "metadata": {},
     "output_type": "execute_result"
    }
   ],
   "source": [
    "sum(len(line.strip()) - memlen(line.strip()) for line in Input(8))"
   ]
  },
  {
   "cell_type": "markdown",
   "metadata": {},
   "source": [
    "For part B we're asked to encode the input string.\n",
    "\n",
    "- \"\" encodes to \"\\\"\\\"\", an increase from 2 characters to 6.\n",
    "- \"abc\" encodes to \"\\\"abc\\\"\", an increase from 5 characters to 9.\n",
    "- \"aaa\\\"aaa\" encodes to \"\\\"aaa\\\\\\\"aaa\\\"\", an increase from 10 characters to 16.\n",
    "- \"\\x27\" encodes to \"\\\"\\\\x27\\\"\", an increase from 6 characters to 11.\n",
    "\n",
    "Your task is to find the total number of characters to represent the newly encoded strings minus the number of characters of code in each original string literal.\n",
    "\n",
    "For example, for the strings above, the total encoded length (6 + 9 + 16 + 11 = 42) minus the characters in the original code representation (23, just like in the first part of this puzzle) is 42 - 23 = 19."
   ]
  },
  {
   "cell_type": "code",
   "execution_count": 49,
   "metadata": {},
   "outputs": [],
   "source": [
    "def encodedlen(text):\n",
    "    return len(re.escape(text)) + 2 # We lack the surrounding quotes, so add the length"
   ]
  },
  {
   "cell_type": "code",
   "execution_count": 50,
   "metadata": {},
   "outputs": [],
   "source": [
    "assert encodedlen(r'\"aaa\\\"aaa\"') == 16\n",
    "assert encodedlen(r'\"\\x27\"') == 11"
   ]
  },
  {
   "cell_type": "code",
   "execution_count": 51,
   "metadata": {},
   "outputs": [
    {
     "data": {
      "text/plain": [
       "2046"
      ]
     },
     "execution_count": 51,
     "metadata": {},
     "output_type": "execute_result"
    }
   ],
   "source": [
    "sum(encodedlen(line.strip()) - len(line.strip()) for line in Input(8))"
   ]
  },
  {
   "cell_type": "markdown",
   "metadata": {},
   "source": [
    "## [Day 9](http://adventofcode.com/2015/day/9): All in a Single Night\n",
    "\n",
    "For day 9 we're given a list of locations as well as the distance between them and asked to find the shortest path that visits each point at least once.\n",
    "\n",
    "Time for a weighted non-directed graph!"
   ]
  },
  {
   "cell_type": "code",
   "execution_count": 52,
   "metadata": {},
   "outputs": [],
   "source": [
    "def parse9(line):\n",
    "    match = re.match(r'(\\w+) to (\\w+) = (\\d+)', line).groups()\n",
    "    return (match[0], match[1], int(match[2]))"
   ]
  },
  {
   "cell_type": "code",
   "execution_count": 53,
   "metadata": {},
   "outputs": [],
   "source": [
    "graph = defaultdict(dict)\n",
    "for line in Input(9):\n",
    "    start, end, distance = parse9(line)\n",
    "    graph[start][end] = distance\n",
    "    graph[end][start] = distance"
   ]
  },
  {
   "cell_type": "markdown",
   "metadata": {},
   "source": [
    "I'm going to go as simple as I can for part A and we'll see if we need to go more complicated for B. Let's just try all permutations of locations!"
   ]
  },
  {
   "cell_type": "code",
   "execution_count": 54,
   "metadata": {},
   "outputs": [
    {
     "data": {
      "text/plain": [
       "251"
      ]
     },
     "execution_count": 54,
     "metadata": {},
     "output_type": "execute_result"
    }
   ],
   "source": [
    "perms = list(it.permutations(graph.keys()))\n",
    "\n",
    "def walk(locations):\n",
    "    return sum(graph[start][end] for [start, end] in subsequences(locations, 2))\n",
    "    \n",
    "min(walk(perm) for perm in perms)"
   ]
  },
  {
   "cell_type": "markdown",
   "metadata": {},
   "source": [
    "Hey, good thing I went simple. Part B just wants the longest distance."
   ]
  },
  {
   "cell_type": "code",
   "execution_count": 55,
   "metadata": {},
   "outputs": [
    {
     "data": {
      "text/plain": [
       "898"
      ]
     },
     "execution_count": 55,
     "metadata": {},
     "output_type": "execute_result"
    }
   ],
   "source": [
    "max(walk(perm) for perm in perms)"
   ]
  },
  {
   "cell_type": "markdown",
   "metadata": {},
   "source": [
    "## [Day 10](http://adventofcode.com/2015/day/10): Elves Look, Elves Say\n",
    "\n",
    "This is a game where you look at the numbers and say their counts out loud.\n",
    "`211` is read as \"one two, two ones\", which converted back into numbers becomes `1221`."
   ]
  },
  {
   "cell_type": "code",
   "execution_count": 56,
   "metadata": {},
   "outputs": [],
   "source": [
    "def looksay(num, times=1):\n",
    "    num = str(num)\n",
    "    for _ in range(times):\n",
    "        num = ''.join([f'{sum(1 for n in g)}{n}' for n, g in it.groupby(num)])\n",
    "    return num"
   ]
  },
  {
   "cell_type": "code",
   "execution_count": 57,
   "metadata": {},
   "outputs": [],
   "source": [
    "assert looksay(1) == '11'\n",
    "assert looksay(11) == '21'\n",
    "assert looksay(21) == '1211'\n",
    "assert looksay(1211) == '111221'\n",
    "assert looksay(111221) == '312211'\n",
    "assert looksay(1, 2) == '21'"
   ]
  },
  {
   "cell_type": "markdown",
   "metadata": {},
   "source": [
    "We need to do 40 iterations and it's increasing in time by a WHOOOLE lot."
   ]
  },
  {
   "cell_type": "code",
   "execution_count": 58,
   "metadata": {},
   "outputs": [
    {
     "name": "stdout",
     "output_type": "stream",
     "text": [
      "Wall time: 42 ms\n"
     ]
    },
    {
     "data": {
      "text/plain": [
       "17874"
      ]
     },
     "execution_count": 58,
     "metadata": {},
     "output_type": "execute_result"
    }
   ],
   "source": [
    "%time len(looksay(1113222113, 30))"
   ]
  },
  {
   "cell_type": "code",
   "execution_count": 59,
   "metadata": {},
   "outputs": [
    {
     "name": "stdout",
     "output_type": "stream",
     "text": [
      "Wall time: 131 ms\n"
     ]
    },
    {
     "data": {
      "text/plain": [
       "67070"
      ]
     },
     "execution_count": 59,
     "metadata": {},
     "output_type": "execute_result"
    }
   ],
   "source": [
    "%time len(looksay(1113222113, 35))"
   ]
  },
  {
   "cell_type": "code",
   "execution_count": 60,
   "metadata": {},
   "outputs": [
    {
     "name": "stdout",
     "output_type": "stream",
     "text": [
      "Wall time: 512 ms\n"
     ]
    },
    {
     "data": {
      "text/plain": [
       "252594"
      ]
     },
     "execution_count": 60,
     "metadata": {},
     "output_type": "execute_result"
    }
   ],
   "source": [
    "%time len(looksay(1113222113, 40))"
   ]
  },
  {
   "cell_type": "markdown",
   "metadata": {},
   "source": [
    "We're just on the edge of whats computationally practical on this laptop.\n",
    "Our number of digits is increasing exponentially at this point. For part B, we're doing 50 iterations."
   ]
  },
  {
   "cell_type": "code",
   "execution_count": 61,
   "metadata": {},
   "outputs": [
    {
     "name": "stdout",
     "output_type": "stream",
     "text": [
      "Wall time: 6.91 s\n"
     ]
    },
    {
     "data": {
      "text/plain": [
       "3579328"
      ]
     },
     "execution_count": 61,
     "metadata": {},
     "output_type": "execute_result"
    }
   ],
   "source": [
    "%time len(looksay(1113222113, 50))"
   ]
  },
  {
   "cell_type": "code",
   "execution_count": 62,
   "metadata": {},
   "outputs": [
    {
     "data": {
      "text/plain": [
       "[<matplotlib.lines.Line2D at 0xa2b4a30>]"
      ]
     },
     "execution_count": 62,
     "metadata": {},
     "output_type": "execute_result"
    },
    {
     "data": {
      "image/png": "[encoded data removed]",
      "text/plain": [
       "<matplotlib.figure.Figure at 0xa247d30>"
      ]
     },
     "metadata": {},
     "output_type": "display_data"
    }
   ],
   "source": [
    "plt.plot([len(looksay(1113222113, i)) for i in range(0,50)])"
   ]
  },
  {
   "cell_type": "markdown",
   "metadata": {},
   "source": [
    "## [Day 11](http://adventofcode.com/2015/day/11): Corporate Policy\n",
    "\n",
    "Santa has a password policy of incrementing his old password until it produces a valid result.\n",
    "\n",
    "Incrementing works much like letters; `xx`, `xy`, `xz`, `ya`, `yb`\n",
    "\n",
    "### Valid Password Requirements\n",
    "\n",
    "- Passwords must include **one increasing straight of at least three letters**, like `abc`, `bcd`, `cde`, and so on, up to `xyz`. They cannot skip letters; `abd` doesn't count.\n",
    "- Passwords may **not contain the letters `i`, `o`, or `l`**, as these letters can be mistaken for other characters and are therefore confusing.\n",
    "- Passwords must contain at least **two different, non-overlapping pairs of letters**, like `aa`, `bb`, or `zz`."
   ]
  },
  {
   "cell_type": "markdown",
   "metadata": {},
   "source": [
    "Getting the index of an item in a list throws a ValueError if it does not exist.  \n",
    "There isn't a safe method like `get` for indexes, so we make one instead."
   ]
  },
  {
   "cell_type": "code",
   "execution_count": 63,
   "metadata": {},
   "outputs": [],
   "source": [
    "def get_index(list_, item):\n",
    "    try:\n",
    "        return list_.index(item)\n",
    "    except ValueError:\n",
    "        return None"
   ]
  },
  {
   "cell_type": "markdown",
   "metadata": {},
   "source": [
    "The three rules are fairly easy to encode into their own functions."
   ]
  },
  {
   "cell_type": "code",
   "execution_count": 64,
   "metadata": {},
   "outputs": [],
   "source": [
    "def has_two_groups(pw):\n",
    "    matches = re.findall(r'(\\w)\\1', pw)\n",
    "    return len(set(matches)) >= 2\n",
    "    \n",
    "def has_three_in_a_row(pw):\n",
    "    return any(ord(a) == ord(b)-1 == ord(c)-2\n",
    "               for (a, b, c) in subsequences(pw, 3))\n",
    "\n",
    "def has_invalid_chars(pw):\n",
    "    return 'i' in pw or 'o' in pw or 'l' in pw\n",
    "\n",
    "def is_valid_pw(pw):\n",
    "    return has_three_in_a_row(pw) and not has_invalid_chars(pw) and has_two_groups(pw)"
   ]
  },
  {
   "cell_type": "code",
   "execution_count": 65,
   "metadata": {},
   "outputs": [],
   "source": [
    "assert not is_valid_pw('hijklmmn')\n",
    "assert not is_valid_pw('abbceffg')\n",
    "assert not is_valid_pw('abbcegjk')\n",
    "assert is_valid_pw('hepxxyzz')"
   ]
  },
  {
   "cell_type": "markdown",
   "metadata": {},
   "source": [
    "The most complicated aspect of generating the next password revolves around the invalid characters `i` `o` and `l`.\n",
    "\n",
    "Given a password `abcidefgh` $\\rightarrow$ `abcjaaaaa`  \n",
    "Find the lowest index containing `i` `o` or `l`, increment it to the next letter, and reset the subsequent characters to `a`"
   ]
  },
  {
   "cell_type": "code",
   "execution_count": 66,
   "metadata": {},
   "outputs": [],
   "source": [
    "def replace_invalid_chars(pw):\n",
    "    if not has_invalid_chars(pw): return False\n",
    "    i, o, l = get_index(pw, 'i'), get_index(pw, 'o'), get_index(pw, 'l')\n",
    "    index = min(char for char in [i, o, l] if char)\n",
    "    return pw[:index] + list(increment_letter(pw[index])) + list('a' * len(pw[index+1:]))\n",
    "\n",
    "def increment_letter(letter):\n",
    "    if letter == 'z': return False\n",
    "    else: return chr(ord(letter) + 1)"
   ]
  },
  {
   "cell_type": "code",
   "execution_count": 67,
   "metadata": {},
   "outputs": [],
   "source": [
    "assert cat(replace_invalid_chars(list('abcinmjk'))) == 'abcjaaaa'"
   ]
  },
  {
   "cell_type": "code",
   "execution_count": 68,
   "metadata": {},
   "outputs": [],
   "source": [
    "def generate_pw(pw):\n",
    "    pw = list(pw)\n",
    "    while True:\n",
    "        if has_invalid_chars(pw):\n",
    "            pw = replace_invalid_chars(pw)\n",
    "            yield ''.join(pw)\n",
    "        for i, l in reversed(list(enumerate(pw))):\n",
    "            new_letter = increment_letter(l)\n",
    "            if new_letter: \n",
    "                pw[i] = new_letter\n",
    "                break\n",
    "            else:\n",
    "                pw[i] = 'a'\n",
    "        yield ''.join(pw)\n",
    "        \n",
    "def generate_valid_pws(initial):\n",
    "    for pw in generate_pw(initial):\n",
    "        if is_valid_pw(pw):\n",
    "            yield pw"
   ]
  },
  {
   "cell_type": "code",
   "execution_count": 69,
   "metadata": {},
   "outputs": [],
   "source": [
    "assert first(generate_valid_pws('abcdefgh')) == 'abcdffaa'\n",
    "assert first(generate_valid_pws('ghijklmn')) == 'ghjaabcc'"
   ]
  },
  {
   "cell_type": "markdown",
   "metadata": {},
   "source": [
    "Part A wants the first new valid password."
   ]
  },
  {
   "cell_type": "code",
   "execution_count": 70,
   "metadata": {},
   "outputs": [
    {
     "data": {
      "text/plain": [
       "'hepxxyzz'"
      ]
     },
     "execution_count": 70,
     "metadata": {},
     "output_type": "execute_result"
    }
   ],
   "source": [
    "first(generate_valid_pws('hepxcrrq'))"
   ]
  },
  {
   "cell_type": "markdown",
   "metadata": {},
   "source": [
    "Part B wants the second valid password."
   ]
  },
  {
   "cell_type": "code",
   "execution_count": 71,
   "metadata": {},
   "outputs": [
    {
     "data": {
      "text/plain": [
       "'heqaabcc'"
      ]
     },
     "execution_count": 71,
     "metadata": {},
     "output_type": "execute_result"
    }
   ],
   "source": [
    "nth(generate_valid_pws('hepxcrrq'), 1)"
   ]
  },
  {
   "cell_type": "markdown",
   "metadata": {},
   "source": [
    "## [Day 12](http://adventofcode.com/2015/day/12): JSAbacusFramework.io\n",
    "\n",
    "Part A doesnt need any actual json parsing, lets just use a regex to grab all the numbers and sum them."
   ]
  },
  {
   "cell_type": "code",
   "execution_count": 72,
   "metadata": {},
   "outputs": [
    {
     "data": {
      "text/plain": [
       "191164"
      ]
     },
     "execution_count": 72,
     "metadata": {},
     "output_type": "execute_result"
    }
   ],
   "source": [
    "sum(parse_ints(first(Input(12))))"
   ]
  },
  {
   "cell_type": "markdown",
   "metadata": {},
   "source": [
    "Part B is where it gets interesting.\n",
    "\n",
    "Ignore any object (and all of its children) which has any property with the value \"red\". Do this only for objects ({...}), not arrays ([...]).\n",
    "\n",
    "We'll load the file as json and recursively walk its items.\n",
    "- **Array**: we walk each item of the array.  \n",
    "- **Dictionary**: first we check to see if any of the values of the dictionary are 'red'.\n",
    "  - If so, we skip the dictionary and its keys entirely.\n",
    "  - If it doesn't, we walk each value of the dictionary.\n",
    "- **Integer**: Add the integer to the sum.\n",
    "- **Everything Else**: Ignored.\n",
    "\n",
    "Start at the root node and voila, we have our sum!"
   ]
  },
  {
   "cell_type": "code",
   "execution_count": 73,
   "metadata": {},
   "outputs": [],
   "source": [
    "import json\n",
    "j = json.load(Input(12))"
   ]
  },
  {
   "cell_type": "code",
   "execution_count": 74,
   "metadata": {},
   "outputs": [
    {
     "data": {
      "text/plain": [
       "87842"
      ]
     },
     "execution_count": 74,
     "metadata": {},
     "output_type": "execute_result"
    }
   ],
   "source": [
    "def walk_json(j):\n",
    "    if isinstance(j, int): return j\n",
    "    elif isinstance(j, list):\n",
    "        return sum(walk_json(item) for item in j)\n",
    "    elif isinstance(j, dict):\n",
    "        if 'red' in j.values(): return 0\n",
    "        return sum(walk_json(item) for item in j.values())\n",
    "    return 0\n",
    "\n",
    "walk_json(j)"
   ]
  }
 ],
 "metadata": {
  "kernelspec": {
   "display_name": "Python 3",
   "language": "python",
   "name": "python3"
  },
  "language_info": {
   "codemirror_mode": {
    "name": "ipython",
    "version": 3
   },
   "file_extension": ".py",
   "mimetype": "text/x-python",
   "name": "python",
   "nbconvert_exporter": "python",
   "pygments_lexer": "ipython3",
   "version": "3.6.3"
  }
 },
 "nbformat": 4,
 "nbformat_minor": 2
}
