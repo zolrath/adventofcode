{
 "cells": [
  {
   "cell_type": "code",
   "execution_count": 1,
   "metadata": {},
   "outputs": [],
   "source": [
    "from ipynb.fs.full.aoc_helpers import *"
   ]
  },
  {
   "cell_type": "code",
   "execution_count": 2,
   "metadata": {},
   "outputs": [],
   "source": [
    "import re\n",
    "import numpy as np\n",
    "import math\n",
    "import itertools as it\n",
    "\n",
    "from collections import Counter, defaultdict, namedtuple, deque\n",
    "from functools   import lru_cache, partial\n",
    "from itertools   import permutations, combinations, chain, cycle, product, islice\n",
    "from heapq       import heappop, heappush"
   ]
  },
  {
   "cell_type": "code",
   "execution_count": 3,
   "metadata": {},
   "outputs": [],
   "source": [
    "Input = partial(Input, year=2016)"
   ]
  },
  {
   "cell_type": "markdown",
   "metadata": {},
   "source": [
    "## [Day 20](http://adventofcode.com/2016/day/20): Firewall Rules\n",
    "\n",
    "Given a list of blocked IP ranges, what is the first IP which is not blocked?\n",
    "\n",
    "### Example\n",
    "#### Input\n",
    "5-8  \n",
    "0-2  \n",
    "4-7  \n",
    "#### Output\n",
    "3"
   ]
  },
  {
   "cell_type": "code",
   "execution_count": 4,
   "metadata": {},
   "outputs": [],
   "source": [
    "def parse(line):\n",
    "    match = re.match(r'(\\d+)-(\\d+)', line)\n",
    "    return (int(match[1]), int(match[2]))\n",
    "\n",
    "def unblocked(ips):\n",
    "    matches = [parse(line) for line in ips]\n",
    "    highest = 0\n",
    "    for (lo, hi) in sorted(matches):\n",
    "        yield from range(highest+1, lo)\n",
    "        highest = max(highest, hi)"
   ]
  },
  {
   "cell_type": "code",
   "execution_count": 5,
   "metadata": {},
   "outputs": [
    {
     "data": {
      "text/plain": [
       "4793564"
      ]
     },
     "execution_count": 5,
     "metadata": {},
     "output_type": "execute_result"
    }
   ],
   "source": [
    "next(unblocked(Input(20)))"
   ]
  },
  {
   "cell_type": "code",
   "execution_count": 6,
   "metadata": {},
   "outputs": [
    {
     "data": {
      "text/plain": [
       "146"
      ]
     },
     "execution_count": 6,
     "metadata": {},
     "output_type": "execute_result"
    }
   ],
   "source": [
    "len(list(unblocked(Input(20))))"
   ]
  },
  {
   "cell_type": "markdown",
   "metadata": {},
   "source": [
    "## [Day 21](http://adventofcode.com/2016/day/21): Scrambled Letters and Hash\n",
    "\n",
    "We're attempting to scramble a password given a set of instructions which scramble the input.\n",
    "\n",
    "### Operations\n",
    "- `swap position X with position Y` means that the letters at indexes `X` and `Y` (counting from 0) should be swapped.\n",
    "- `swap letter X with letter Y` means that the letters `X` and `Y` should be swapped (regardless of where they appear in the string).\n",
    "- `rotate left/right X steps` means that the whole string should be rotated; for example, one right rotation would turn abcd into dabc.\n",
    "- `rotate based on position of letter X` means that the whole string should be rotated to the right based on the index of letter X (counting from 0) as determined before this instruction does any rotations. Once the index is determined, rotate the string to the right one time, plus a number of times equal to that index, plus one additional time if the index was at least 4.\n",
    "- `reverse positions X through Y` means that the span of letters at indexes X through Y (including the letters at X and Y) should be reversed in order.\n",
    "- `move position X to position Y` means that the letter which is at index X should be removed from the string, then inserted such that it ends up at index Y."
   ]
  },
  {
   "cell_type": "markdown",
   "metadata": {},
   "source": [
    "As these are individually simple lets encode these rules in some assertions then work our way through them."
   ]
  },
  {
   "cell_type": "code",
   "execution_count": 7,
   "metadata": {},
   "outputs": [],
   "source": [
    "def swap(text, a, b):\n",
    "    if isinstance(a, int) or a.isdigit():\n",
    "        return swap_pos(text, int(a), int(b))\n",
    "    return swap_let(text, a, b)\n",
    "        \n",
    "def swap_pos(text, a, b):\n",
    "    if a > b: a, b = b, a\n",
    "    return text[:a] + text[b] + text[a+1:b] + text[a] + text[b+1:]\n",
    "\n",
    "def swap_let(text, a, b):\n",
    "    return swap_pos(text, text.index(a), text.index(b))\n",
    "\n",
    "def reverse(text, a, b):\n",
    "    if a > b: a, b = b, a\n",
    "    if a == 0: return text[:a] + text[b::-1] + text[b+1:]\n",
    "    return text[:a] + text[b:a-1:-1] + text[b+1:]\n",
    "\n",
    "def rotate(text, a):\n",
    "    if isinstance(a, int) or a.isdigit():\n",
    "        return rotate_pos(text, int(a))\n",
    "    return rotate_let(text, a)\n",
    "\n",
    "def rotate_pos(text, rot):\n",
    "    \"\"\"\n",
    "    Rotate the text rot indexes.\n",
    "    When `rot` is positive, rotate left, when `rot` is negative, rotate right.\n",
    "    \"\"\"\n",
    "    return text[rot%len(text):] + text[:rot%len(text)] \n",
    "\n",
    "def move(text, a, b):\n",
    "    if a < b: return text[:a] + text[a+1:b+1] + text[a] + text[b+1:]\n",
    "    else: return text[:b] + text[a] + text[b:a] + text[a+1:]\n",
    "    \n",
    "def rotate_let(text, let):\n",
    "    rotations = 1 + text.index(let)\n",
    "    if rotations >= 4: rotations += 1\n",
    "    return rotate_pos(text, -rotations)"
   ]
  },
  {
   "cell_type": "code",
   "execution_count": 8,
   "metadata": {},
   "outputs": [],
   "source": [
    "assert swap('abcde', 4, 0) == 'ebcda'\n",
    "assert swap('ebcda', 'd', 'b') == 'edcba'\n",
    "assert reverse('edcba', 0, 4) == 'abcde'\n",
    "assert rotate('abcde', 1) == 'bcdea'\n",
    "assert move('bcdea', 1, 4) == 'bdeac'\n",
    "assert move('bdeac', 3, 0) == 'abdec'\n",
    "assert rotate('abcde', 1) == 'bcdea'\n",
    "assert rotate('abdec', 'b') == 'ecabd'"
   ]
  },
  {
   "cell_type": "code",
   "execution_count": 9,
   "metadata": {},
   "outputs": [],
   "source": [
    "def parse22(input):\n",
    "    words = input.split()\n",
    "    command = ' '.join(words[0:2])\n",
    "    if   command == 'swap letter': return swap(password, words[2], words[5])\n",
    "    elif command == 'move position': return move(password, int(words[2]), int(words[5]))\n",
    "    elif command == 'reverse positions': return reverse(password, int(words[2]), int(words[4]))\n",
    "    elif command == 'rotate based': return rotate(password, words[6])\n",
    "    elif command == 'swap position': return swap(password, words[2], words[5])\n",
    "    elif command == 'rotate left': return rotate(password, int(words[2]))\n",
    "    elif command == 'rotate right': return rotate(password, -int(words[2]))    "
   ]
  },
  {
   "cell_type": "code",
   "execution_count": 10,
   "metadata": {},
   "outputs": [
    {
     "data": {
      "text/plain": [
       "'fdbgache'"
      ]
     },
     "execution_count": 10,
     "metadata": {},
     "output_type": "execute_result"
    }
   ],
   "source": [
    "password = 'abcdefgh'\n",
    "for line in Input(21):\n",
    "     password = parse22(line)\n",
    "password"
   ]
  }
 ],
 "metadata": {
  "kernelspec": {
   "display_name": "Python 3",
   "language": "python",
   "name": "python3"
  },
  "language_info": {
   "codemirror_mode": {
    "name": "ipython",
    "version": 3
   },
   "file_extension": ".py",
   "mimetype": "text/x-python",
   "name": "python",
   "nbconvert_exporter": "python",
   "pygments_lexer": "ipython3",
   "version": "3.6.3"
  }
 },
 "nbformat": 4,
 "nbformat_minor": 2
}
